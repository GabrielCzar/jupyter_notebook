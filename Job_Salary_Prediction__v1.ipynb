{
 "cells": [
  {
   "cell_type": "markdown",
   "metadata": {
    "colab_type": "text",
    "id": "BsX4l60fEwAa"
   },
   "source": [
    "# Job Salary Prediction\n",
    "_Predict the salary of any UK job ad based on its contents_\n",
    "\n",
    "### Job Data\n",
    "\n",
    "- **Id**: Identificador para cada job.\n",
    "\n",
    "- **Title**: Texto livre com o titulo ou resumo da vaga.\n",
    "\n",
    "- **FullDescription**: Descrição da vaga sem qualquer informação salarial.\n",
    "\n",
    "- **LocationRaw**: Localização da vaga em texto livre.\n",
    "\n",
    "- **LocationNormalized**: Localização aproximada a partir da convesao do texto livre.\n",
    "\n",
    "- **ContractType**: full_time ou part_time.\n",
    "\n",
    "- **ContractTime**: permanent or contract.\n",
    "\n",
    "- **Company**: Nome da empresa.\n",
    "\n",
    "- **Category**: Qual das 30 categorias de trabalho padrão esse anúncio se encaixa, inferida de uma maneira muito confusa com base na origem da origem do anúncio. Sabemos que há muito barulho e erro nesse campo.\n",
    "\n",
    "- **SalaryRaw**: Descrição salarial em texto livre.\n",
    "\n",
    "- **SalaryNormalised**: Salario bruto anual. Valor que estamos tentando prever.\n",
    "\n",
    "- **SourceName**: Nome do site ou anunciante da vaga.\n",
    "\n",
    "### Location Tree\n",
    "\n",
    "Este é um conjunto de dados suplementares que descreve o relacionamento hierárquico entre os diferentes locais normalizados mostrados nos dados do trabalho. É provável que existam relações significativas entre os salários dos empregos em uma área geográfica semelhante, por exemplo, os salários médios em Londres e no Sudeste são mais altos do que no resto do Reino Unido.\n",
    "\n",
    "### Saida\n",
    "\n",
    "\n",
    "    Id,SalaryNormalized\n",
    "    13656201,36205\n",
    "    14663195,74570\n",
    "    16530664,31910.50\n",
    "    ... \n",
    "    "
   ]
  },
  {
   "cell_type": "markdown",
   "metadata": {
    "colab_type": "text",
    "id": "gx6OgD6XEwAd"
   },
   "source": [
    "## Imports"
   ]
  },
  {
   "cell_type": "code",
   "execution_count": 2,
   "metadata": {
    "colab": {
     "autoexec": {
      "startup": false,
      "wait_interval": 0
     },
     "base_uri": "https://localhost:8080/",
     "height": 37
    },
    "colab_type": "code",
    "executionInfo": {
     "elapsed": 1333,
     "status": "ok",
     "timestamp": 1529805951283,
     "user": {
      "displayName": "Gabriel Cesar",
      "photoUrl": "//lh6.googleusercontent.com/-p5vDPiaCNfw/AAAAAAAAAAI/AAAAAAAAABs/bf-pbMKqe5c/s50-c-k-no/photo.jpg",
      "userId": "109223051625932368282"
     },
     "user_tz": 180
    },
    "id": "AA0eH24pEwAe",
    "outputId": "7b086481-a9af-48e5-f9dc-bab2a63cb8c6"
   },
   "outputs": [],
   "source": [
    "import numpy as np\n",
    "import pandas as pd\n",
    "from sklearn.svm import SVR\n",
    "from sklearn.decomposition import PCA\n",
    "from sklearn.pipeline import Pipeline\n",
    "from sklearn.preprocessing import StandardScaler\n",
    "from sklearn.neighbors import KNeighborsRegressor\n",
    "from sklearn.model_selection import KFold, cross_validate\n",
    "from sklearn.feature_extraction.text import CountVectorizer\n",
    "from sklearn.linear_model import LinearRegression, LogisticRegression\n",
    "from sklearn.discriminant_analysis import LinearDiscriminantAnalysis as LDA\n",
    "from sklearn.ensemble import RandomForestRegressor, GradientBoostingRegressor, AdaBoostRegressor\n"
   ]
  },
  {
   "cell_type": "markdown",
   "metadata": {
    "colab_type": "text",
    "id": "cLl3SdOOEwAh"
   },
   "source": [
    "## Dataset"
   ]
  },
  {
   "cell_type": "code",
   "execution_count": 67,
   "metadata": {
    "colab": {
     "autoexec": {
      "startup": false,
      "wait_interval": 0
     },
     "base_uri": "https://localhost:8080/",
     "height": 119
    },
    "colab_type": "code",
    "executionInfo": {
     "elapsed": 13874,
     "status": "ok",
     "timestamp": 1529805965717,
     "user": {
      "displayName": "Gabriel Cesar",
      "photoUrl": "//lh6.googleusercontent.com/-p5vDPiaCNfw/AAAAAAAAAAI/AAAAAAAAABs/bf-pbMKqe5c/s50-c-k-no/photo.jpg",
      "userId": "109223051625932368282"
     },
     "user_tz": 180
    },
    "id": "KKA2_0IAvLbW",
    "outputId": "4eb9fc8a-9f18-47b6-f899-161b128618d4"
   },
   "outputs": [
    {
     "name": "stdout",
     "output_type": "stream",
     "text": [
      "gpg: keybox '/tmp/tmpfhvsk8t_/pubring.gpg' created\n",
      "gpg: /tmp/tmpfhvsk8t_/trustdb.gpg: trustdb created\n",
      "gpg: key AD5F235DF639B041: public key \"Launchpad PPA for Alessandro Strada\" imported\n",
      "gpg: Total number processed: 1\n",
      "gpg:               imported: 1\n",
      "Warning: apt-key output should not be parsed (stdout is not a terminal)\n"
     ]
    }
   ],
   "source": [
    "# Install a Drive FUSE wrapper.\n",
    "# https://github.com/astrada/google-drive-ocamlfuse\n",
    "# !apt-get install -y -qq software-properties-common python-software-properties module-init-tools\n",
    "# !add-apt-repository -y ppa:alessandro-strada/ppa 2>&1 > /dev/null\n",
    "# !apt-get update -qq 2>&1 > /dev/null\n",
    "# !apt-get -y install -qq google-drive-ocamlfuse fuse"
   ]
  },
  {
   "cell_type": "code",
   "execution_count": 72,
   "metadata": {
    "colab": {
     "autoexec": {
      "startup": false,
      "wait_interval": 0
     },
     "base_uri": "https://localhost:8080/",
     "height": 37
    },
    "colab_type": "code",
    "executionInfo": {
     "elapsed": 800,
     "status": "ok",
     "timestamp": 1529806041455,
     "user": {
      "displayName": "Gabriel Cesar",
      "photoUrl": "//lh6.googleusercontent.com/-p5vDPiaCNfw/AAAAAAAAAAI/AAAAAAAAABs/bf-pbMKqe5c/s50-c-k-no/photo.jpg",
      "userId": "109223051625932368282"
     },
     "user_tz": 180
    },
    "id": "MWjHftNGvS6n",
    "outputId": "46242e47-1d4d-4410-f4a1-f9f123e17e96"
   },
   "outputs": [],
   "source": [
    "# Generate auth tokens for Colab\n",
    "# from google.colab import auth\n",
    "# auth.authenticate_user()"
   ]
  },
  {
   "cell_type": "code",
   "execution_count": 0,
   "metadata": {
    "colab": {
     "autoexec": {
      "startup": false,
      "wait_interval": 0
     },
     "base_uri": "https://localhost:8080/",
     "height": 38
    },
    "colab_type": "code",
    "id": "zM95JBT8vXIt",
    "outputId": "39420066-3851-4ecc-8e84-dcaaee1634ab"
   },
   "outputs": [],
   "source": [
    "# Generate creds for the Drive FUSE library.\n",
    "# from oauth2client.client import GoogleCredentials\n",
    "# creds = GoogleCredentials.get_application_default()\n",
    "# import getpass\n",
    "# !google-drive-ocamlfuse -headless -id={creds.client_id} -secret={creds.client_secret} < /dev/null 2>&1 | grep URL\n",
    "# vcode = getpass.getpass()\n",
    "# !echo {vcode} | google-drive-ocamlfuse -headless -id={creds.client_id} -secret={creds.client_secret}"
   ]
  },
  {
   "cell_type": "code",
   "execution_count": 12,
   "metadata": {
    "colab": {
     "autoexec": {
      "startup": false,
      "wait_interval": 0
     },
     "base_uri": "https://localhost:8080/",
     "height": 17
    },
    "colab_type": "code",
    "executionInfo": {
     "elapsed": 3185,
     "status": "ok",
     "timestamp": 1529800916778,
     "user": {
      "displayName": "Gabriel Cesar",
      "photoUrl": "//lh6.googleusercontent.com/-p5vDPiaCNfw/AAAAAAAAAAI/AAAAAAAAABs/bf-pbMKqe5c/s50-c-k-no/photo.jpg",
      "userId": "109223051625932368282"
     },
     "user_tz": 180
    },
    "id": "gzmeJODSwF-v",
    "outputId": "670d28a4-0ab6-48db-ccc9-9595262767aa"
   },
   "outputs": [],
   "source": [
    "# Create a directory and mount Google Drive using that directory.\n",
    "# !mkdir -p drive\n",
    "# !google-drive-ocamlfuse drive"
   ]
  },
  {
   "cell_type": "code",
   "execution_count": 13,
   "metadata": {
    "colab": {
     "autoexec": {
      "startup": false,
      "wait_interval": 0
     },
     "base_uri": "https://localhost:8080/",
     "height": 37
    },
    "colab_type": "code",
    "executionInfo": {
     "elapsed": 1925,
     "status": "ok",
     "timestamp": 1529800921735,
     "user": {
      "displayName": "Gabriel Cesar",
      "photoUrl": "//lh6.googleusercontent.com/-p5vDPiaCNfw/AAAAAAAAAAI/AAAAAAAAABs/bf-pbMKqe5c/s50-c-k-no/photo.jpg",
      "userId": "109223051625932368282"
     },
     "user_tz": 180
    },
    "id": "baqi-Nkfw6XA",
    "outputId": "286684a5-2b14-4328-a1f2-e68deccea9e4"
   },
   "outputs": [],
   "source": [
    "# !cd drive/"
   ]
  },
  {
   "cell_type": "code",
   "execution_count": 3,
   "metadata": {
    "colab": {
     "autoexec": {
      "startup": false,
      "wait_interval": 0
     },
     "base_uri": "https://localhost:8080/",
     "height": 34
    },
    "colab_type": "code",
    "executionInfo": {
     "elapsed": 1837,
     "status": "ok",
     "timestamp": 1529800925284,
     "user": {
      "displayName": "Gabriel Cesar",
      "photoUrl": "//lh6.googleusercontent.com/-p5vDPiaCNfw/AAAAAAAAAAI/AAAAAAAAABs/bf-pbMKqe5c/s50-c-k-no/photo.jpg",
      "userId": "109223051625932368282"
     },
     "user_tz": 180
    },
    "id": "jJyRejGsGJ78",
    "outputId": "f37fe0c7-41b3-4850-ae3b-f457e006c051"
   },
   "outputs": [
    {
     "name": "stdout",
     "output_type": "stream",
     "text": [
      "Job Salary Prediction.ipynb\t\t    README.md\r\n",
      "List_12__Clustering.ipynb\t\t    Train_rev1.csv\r\n",
      "List_13__Clusterization_Hierarchical.ipynb  Train_rev1.zip\r\n",
      "Não confirmado 712499.crdownload\r\n"
     ]
    }
   ],
   "source": [
    "!ls"
   ]
  },
  {
   "cell_type": "code",
   "execution_count": 15,
   "metadata": {
    "colab": {
     "autoexec": {
      "startup": false,
      "wait_interval": 0
     },
     "base_uri": "https://localhost:8080/",
     "height": 17
    },
    "colab_type": "code",
    "executionInfo": {
     "elapsed": 20596,
     "status": "ok",
     "timestamp": 1529800947830,
     "user": {
      "displayName": "Gabriel Cesar",
      "photoUrl": "//lh6.googleusercontent.com/-p5vDPiaCNfw/AAAAAAAAAAI/AAAAAAAAABs/bf-pbMKqe5c/s50-c-k-no/photo.jpg",
      "userId": "109223051625932368282"
     },
     "user_tz": 180
    },
    "id": "a9tsfPzNEwAj",
    "outputId": "e12fd566-42fd-4f9d-d718-d3d374f29656"
   },
   "outputs": [],
   "source": [
    "# df_job_data = pd.read_csv('drive/MachineLearning/JobSalaryPredict/Train_rev1.csv')"
   ]
  },
  {
   "cell_type": "code",
   "execution_count": 5,
   "metadata": {},
   "outputs": [],
   "source": [
    "df_job_data = pd.read_csv('Train_rev1.csv')"
   ]
  },
  {
   "cell_type": "code",
   "execution_count": 16,
   "metadata": {
    "colab": {
     "autoexec": {
      "startup": false,
      "wait_interval": 0
     },
     "base_uri": "https://localhost:8080/",
     "height": 37
    },
    "colab_type": "code",
    "executionInfo": {
     "elapsed": 10623,
     "status": "ok",
     "timestamp": 1529801010613,
     "user": {
      "displayName": "Gabriel Cesar",
      "photoUrl": "//lh6.googleusercontent.com/-p5vDPiaCNfw/AAAAAAAAAAI/AAAAAAAAABs/bf-pbMKqe5c/s50-c-k-no/photo.jpg",
      "userId": "109223051625932368282"
     },
     "user_tz": 180
    },
    "id": "oX2e1TDREwAn",
    "outputId": "500bd6d9-8462-4fe1-ec0a-11f3e2407f2a"
   },
   "outputs": [],
   "source": [
    "# df_test_rev1 = pd.read_csv('drive/MachineLearning/JobSalaryPredict/Test_rev1.csv')"
   ]
  },
  {
   "cell_type": "code",
   "execution_count": 6,
   "metadata": {},
   "outputs": [],
   "source": [
    "df_test_rev1 = pd.read_csv('Test_rev1.csv')"
   ]
  },
  {
   "cell_type": "markdown",
   "metadata": {
    "colab_type": "text",
    "id": "PRC1vAQrEwAr"
   },
   "source": [
    "## Informações"
   ]
  },
  {
   "cell_type": "markdown",
   "metadata": {
    "colab_type": "text",
    "id": "bQe_4GOHEwAr"
   },
   "source": [
    "### Job Data"
   ]
  },
  {
   "cell_type": "code",
   "execution_count": 7,
   "metadata": {
    "colab": {
     "autoexec": {
      "startup": false,
      "wait_interval": 0
     },
     "base_uri": "https://localhost:8080/",
     "height": 216
    },
    "colab_type": "code",
    "executionInfo": {
     "elapsed": 3211,
     "status": "ok",
     "timestamp": 1529801029609,
     "user": {
      "displayName": "Gabriel Cesar",
      "photoUrl": "//lh6.googleusercontent.com/-p5vDPiaCNfw/AAAAAAAAAAI/AAAAAAAAABs/bf-pbMKqe5c/s50-c-k-no/photo.jpg",
      "userId": "109223051625932368282"
     },
     "user_tz": 180
    },
    "id": "GozC7kFvEwAs",
    "outputId": "825320fc-27e0-4ece-8a9e-773c6e668fbb"
   },
   "outputs": [
    {
     "data": {
      "text/html": [
       "<div>\n",
       "<style scoped>\n",
       "    .dataframe tbody tr th:only-of-type {\n",
       "        vertical-align: middle;\n",
       "    }\n",
       "\n",
       "    .dataframe tbody tr th {\n",
       "        vertical-align: top;\n",
       "    }\n",
       "\n",
       "    .dataframe thead th {\n",
       "        text-align: right;\n",
       "    }\n",
       "</style>\n",
       "<table border=\"1\" class=\"dataframe\">\n",
       "  <thead>\n",
       "    <tr style=\"text-align: right;\">\n",
       "      <th></th>\n",
       "      <th>Id</th>\n",
       "      <th>Title</th>\n",
       "      <th>FullDescription</th>\n",
       "      <th>LocationRaw</th>\n",
       "      <th>LocationNormalized</th>\n",
       "      <th>ContractType</th>\n",
       "      <th>ContractTime</th>\n",
       "      <th>Company</th>\n",
       "      <th>Category</th>\n",
       "      <th>SalaryRaw</th>\n",
       "      <th>SalaryNormalized</th>\n",
       "      <th>SourceName</th>\n",
       "    </tr>\n",
       "  </thead>\n",
       "  <tbody>\n",
       "    <tr>\n",
       "      <th>0</th>\n",
       "      <td>12612628</td>\n",
       "      <td>Engineering Systems Analyst</td>\n",
       "      <td>Engineering Systems Analyst Dorking Surrey Sal...</td>\n",
       "      <td>Dorking, Surrey, Surrey</td>\n",
       "      <td>Dorking</td>\n",
       "      <td>NaN</td>\n",
       "      <td>permanent</td>\n",
       "      <td>Gregory Martin International</td>\n",
       "      <td>Engineering Jobs</td>\n",
       "      <td>20000 - 30000/annum 20-30K</td>\n",
       "      <td>25000</td>\n",
       "      <td>cv-library.co.uk</td>\n",
       "    </tr>\n",
       "    <tr>\n",
       "      <th>1</th>\n",
       "      <td>12612830</td>\n",
       "      <td>Stress Engineer Glasgow</td>\n",
       "      <td>Stress Engineer Glasgow Salary **** to **** We...</td>\n",
       "      <td>Glasgow, Scotland, Scotland</td>\n",
       "      <td>Glasgow</td>\n",
       "      <td>NaN</td>\n",
       "      <td>permanent</td>\n",
       "      <td>Gregory Martin International</td>\n",
       "      <td>Engineering Jobs</td>\n",
       "      <td>25000 - 35000/annum 25-35K</td>\n",
       "      <td>30000</td>\n",
       "      <td>cv-library.co.uk</td>\n",
       "    </tr>\n",
       "  </tbody>\n",
       "</table>\n",
       "</div>"
      ],
      "text/plain": [
       "         Id                        Title  \\\n",
       "0  12612628  Engineering Systems Analyst   \n",
       "1  12612830      Stress Engineer Glasgow   \n",
       "\n",
       "                                     FullDescription  \\\n",
       "0  Engineering Systems Analyst Dorking Surrey Sal...   \n",
       "1  Stress Engineer Glasgow Salary **** to **** We...   \n",
       "\n",
       "                   LocationRaw LocationNormalized ContractType ContractTime  \\\n",
       "0      Dorking, Surrey, Surrey            Dorking          NaN    permanent   \n",
       "1  Glasgow, Scotland, Scotland            Glasgow          NaN    permanent   \n",
       "\n",
       "                        Company          Category                   SalaryRaw  \\\n",
       "0  Gregory Martin International  Engineering Jobs  20000 - 30000/annum 20-30K   \n",
       "1  Gregory Martin International  Engineering Jobs  25000 - 35000/annum 25-35K   \n",
       "\n",
       "   SalaryNormalized        SourceName  \n",
       "0             25000  cv-library.co.uk  \n",
       "1             30000  cv-library.co.uk  "
      ]
     },
     "execution_count": 7,
     "metadata": {},
     "output_type": "execute_result"
    }
   ],
   "source": [
    "df_job_data.head(n=2)"
   ]
  },
  {
   "cell_type": "code",
   "execution_count": 8,
   "metadata": {
    "colab": {
     "autoexec": {
      "startup": false,
      "wait_interval": 0
     },
     "base_uri": "https://localhost:8080/",
     "height": 306
    },
    "colab_type": "code",
    "executionInfo": {
     "elapsed": 5385,
     "status": "ok",
     "timestamp": 1529801041548,
     "user": {
      "displayName": "Gabriel Cesar",
      "photoUrl": "//lh6.googleusercontent.com/-p5vDPiaCNfw/AAAAAAAAAAI/AAAAAAAAABs/bf-pbMKqe5c/s50-c-k-no/photo.jpg",
      "userId": "109223051625932368282"
     },
     "user_tz": 180
    },
    "id": "Hvfq0CKlEwA0",
    "outputId": "8184344d-3cb5-43bb-fb11-c8fbbc94eb5a"
   },
   "outputs": [
    {
     "name": "stdout",
     "output_type": "stream",
     "text": [
      "<class 'pandas.core.frame.DataFrame'>\n",
      "RangeIndex: 244768 entries, 0 to 244767\n",
      "Data columns (total 12 columns):\n",
      "Id                    244768 non-null int64\n",
      "Title                 244767 non-null object\n",
      "FullDescription       244768 non-null object\n",
      "LocationRaw           244768 non-null object\n",
      "LocationNormalized    244768 non-null object\n",
      "ContractType          65442 non-null object\n",
      "ContractTime          180863 non-null object\n",
      "Company               212338 non-null object\n",
      "Category              244768 non-null object\n",
      "SalaryRaw             244768 non-null object\n",
      "SalaryNormalized      244768 non-null int64\n",
      "SourceName            244767 non-null object\n",
      "dtypes: int64(2), object(10)\n",
      "memory usage: 22.4+ MB\n"
     ]
    }
   ],
   "source": [
    "df_job_data.info()"
   ]
  },
  {
   "cell_type": "markdown",
   "metadata": {
    "colab_type": "text",
    "id": "O5pvNAk2EwA6"
   },
   "source": [
    "### Test"
   ]
  },
  {
   "cell_type": "code",
   "execution_count": 9,
   "metadata": {
    "colab": {
     "autoexec": {
      "startup": false,
      "wait_interval": 0
     },
     "base_uri": "https://localhost:8080/",
     "height": 162
    },
    "colab_type": "code",
    "executionInfo": {
     "elapsed": 2533,
     "status": "ok",
     "timestamp": 1529801091483,
     "user": {
      "displayName": "Gabriel Cesar",
      "photoUrl": "//lh6.googleusercontent.com/-p5vDPiaCNfw/AAAAAAAAAAI/AAAAAAAAABs/bf-pbMKqe5c/s50-c-k-no/photo.jpg",
      "userId": "109223051625932368282"
     },
     "user_tz": 180
    },
    "id": "eLuOUoyREwA6",
    "outputId": "92b02f00-f266-44ec-8661-23fd9d420996"
   },
   "outputs": [
    {
     "data": {
      "text/html": [
       "<div>\n",
       "<style scoped>\n",
       "    .dataframe tbody tr th:only-of-type {\n",
       "        vertical-align: middle;\n",
       "    }\n",
       "\n",
       "    .dataframe tbody tr th {\n",
       "        vertical-align: top;\n",
       "    }\n",
       "\n",
       "    .dataframe thead th {\n",
       "        text-align: right;\n",
       "    }\n",
       "</style>\n",
       "<table border=\"1\" class=\"dataframe\">\n",
       "  <thead>\n",
       "    <tr style=\"text-align: right;\">\n",
       "      <th></th>\n",
       "      <th>Id</th>\n",
       "      <th>Title</th>\n",
       "      <th>FullDescription</th>\n",
       "      <th>LocationRaw</th>\n",
       "      <th>LocationNormalized</th>\n",
       "      <th>ContractType</th>\n",
       "      <th>ContractTime</th>\n",
       "      <th>Company</th>\n",
       "      <th>Category</th>\n",
       "      <th>SourceName</th>\n",
       "    </tr>\n",
       "  </thead>\n",
       "  <tbody>\n",
       "    <tr>\n",
       "      <th>0</th>\n",
       "      <td>11888454</td>\n",
       "      <td>Business Development Manager</td>\n",
       "      <td>The Company: Our client is a national training...</td>\n",
       "      <td>Tyne Wear, North East</td>\n",
       "      <td>Newcastle Upon Tyne</td>\n",
       "      <td>NaN</td>\n",
       "      <td>permanent</td>\n",
       "      <td>Asset Appointments</td>\n",
       "      <td>Teaching Jobs</td>\n",
       "      <td>cv-library.co.uk</td>\n",
       "    </tr>\n",
       "    <tr>\n",
       "      <th>1</th>\n",
       "      <td>11988350</td>\n",
       "      <td>Internal Account Manager</td>\n",
       "      <td>The Company: Founded in **** our client is a U...</td>\n",
       "      <td>Tyne and Wear, North East</td>\n",
       "      <td>Newcastle Upon Tyne</td>\n",
       "      <td>NaN</td>\n",
       "      <td>permanent</td>\n",
       "      <td>Asset Appointments</td>\n",
       "      <td>Consultancy Jobs</td>\n",
       "      <td>cv-library.co.uk</td>\n",
       "    </tr>\n",
       "  </tbody>\n",
       "</table>\n",
       "</div>"
      ],
      "text/plain": [
       "         Id                         Title  \\\n",
       "0  11888454  Business Development Manager   \n",
       "1  11988350      Internal Account Manager   \n",
       "\n",
       "                                     FullDescription  \\\n",
       "0  The Company: Our client is a national training...   \n",
       "1  The Company: Founded in **** our client is a U...   \n",
       "\n",
       "                 LocationRaw   LocationNormalized ContractType ContractTime  \\\n",
       "0      Tyne Wear, North East  Newcastle Upon Tyne          NaN    permanent   \n",
       "1  Tyne and Wear, North East  Newcastle Upon Tyne          NaN    permanent   \n",
       "\n",
       "              Company          Category        SourceName  \n",
       "0  Asset Appointments     Teaching Jobs  cv-library.co.uk  \n",
       "1  Asset Appointments  Consultancy Jobs  cv-library.co.uk  "
      ]
     },
     "execution_count": 9,
     "metadata": {},
     "output_type": "execute_result"
    }
   ],
   "source": [
    "df_test_rev1.head(n=2)"
   ]
  },
  {
   "cell_type": "code",
   "execution_count": 10,
   "metadata": {
    "colab": {
     "autoexec": {
      "startup": false,
      "wait_interval": 0
     },
     "base_uri": "https://localhost:8080/",
     "height": 272
    },
    "colab_type": "code",
    "executionInfo": {
     "elapsed": 741,
     "status": "ok",
     "timestamp": 1529801095157,
     "user": {
      "displayName": "Gabriel Cesar",
      "photoUrl": "//lh6.googleusercontent.com/-p5vDPiaCNfw/AAAAAAAAAAI/AAAAAAAAABs/bf-pbMKqe5c/s50-c-k-no/photo.jpg",
      "userId": "109223051625932368282"
     },
     "user_tz": 180
    },
    "id": "23KJVhIKEwA_",
    "outputId": "e92fd119-9ad8-4f17-f9f1-c2cf9736e848"
   },
   "outputs": [
    {
     "name": "stdout",
     "output_type": "stream",
     "text": [
      "<class 'pandas.core.frame.DataFrame'>\n",
      "RangeIndex: 122463 entries, 0 to 122462\n",
      "Data columns (total 10 columns):\n",
      "Id                    122463 non-null int64\n",
      "Title                 122463 non-null object\n",
      "FullDescription       122463 non-null object\n",
      "LocationRaw           122463 non-null object\n",
      "LocationNormalized    122463 non-null object\n",
      "ContractType          33013 non-null object\n",
      "ContractTime          90702 non-null object\n",
      "Company               106202 non-null object\n",
      "Category              122463 non-null object\n",
      "SourceName            122463 non-null object\n",
      "dtypes: int64(1), object(9)\n",
      "memory usage: 9.3+ MB\n"
     ]
    }
   ],
   "source": [
    "df_test_rev1.info()"
   ]
  },
  {
   "cell_type": "markdown",
   "metadata": {
    "colab_type": "text",
    "id": "OBLh0PIxEwBF"
   },
   "source": [
    "## Pré-processamento"
   ]
  },
  {
   "cell_type": "code",
   "execution_count": 44,
   "metadata": {
    "colab": {
     "autoexec": {
      "startup": false,
      "wait_interval": 0
     },
     "base_uri": "https://localhost:8080/",
     "height": 37
    },
    "colab_type": "code",
    "executionInfo": {
     "elapsed": 955,
     "status": "ok",
     "timestamp": 1529801099122,
     "user": {
      "displayName": "Gabriel Cesar",
      "photoUrl": "//lh6.googleusercontent.com/-p5vDPiaCNfw/AAAAAAAAAAI/AAAAAAAAABs/bf-pbMKqe5c/s50-c-k-no/photo.jpg",
      "userId": "109223051625932368282"
     },
     "user_tz": 180
    },
    "id": "aqPyCLOfEwBG",
    "outputId": "e842d9b0-3453-4c2b-fe3f-6c43ffce7024"
   },
   "outputs": [],
   "source": [
    "def normalizeTextField(df, field):\n",
    "    vectorizer = CountVectorizer(max_features=100)\n",
    "    fields = vectorizer.fit_transform(df[field]).toarray()\n",
    "    # Generate field names\n",
    "    fcols = np.vectorize(lambda x: field + str(x))(np.arange(2))\n",
    "    # Reduz a dimensionalidade para 2 \n",
    "    pca = PCA(n_components = 2)\n",
    "    _df = pd.DataFrame(pca.fit_transform(fields), columns=fcols)\n",
    "    # Concatena o dataframe com o novo\n",
    "    df = pd.concat([df, _df], join ='inner', axis=1)\n",
    "    del df[field]\n",
    "    return df"
   ]
  },
  {
   "cell_type": "markdown",
   "metadata": {
    "colab_type": "text",
    "id": "OHzogV28EwBJ"
   },
   "source": [
    "### SalaryRaw"
   ]
  },
  {
   "cell_type": "code",
   "execution_count": 12,
   "metadata": {
    "colab": {
     "autoexec": {
      "startup": false,
      "wait_interval": 0
     },
     "base_uri": "https://localhost:8080/",
     "height": 37
    },
    "colab_type": "code",
    "executionInfo": {
     "elapsed": 1138,
     "status": "ok",
     "timestamp": 1529801103174,
     "user": {
      "displayName": "Gabriel Cesar",
      "photoUrl": "//lh6.googleusercontent.com/-p5vDPiaCNfw/AAAAAAAAAAI/AAAAAAAAABs/bf-pbMKqe5c/s50-c-k-no/photo.jpg",
      "userId": "109223051625932368282"
     },
     "user_tz": 180
    },
    "id": "Tf_wd3knEwBK",
    "outputId": "f9844ff9-02c1-4641-9498-8250636e6d09"
   },
   "outputs": [],
   "source": [
    "del df_job_data['SalaryRaw']"
   ]
  },
  {
   "cell_type": "markdown",
   "metadata": {
    "colab_type": "text",
    "id": "SUuskyQsEwBP"
   },
   "source": [
    "### Remove ContractType"
   ]
  },
  {
   "cell_type": "markdown",
   "metadata": {
    "colab_type": "text",
    "id": "SkLiRtjpEwBP"
   },
   "source": [
    "Grande quantidade de valores null"
   ]
  },
  {
   "cell_type": "code",
   "execution_count": 13,
   "metadata": {
    "colab": {
     "autoexec": {
      "startup": false,
      "wait_interval": 0
     },
     "base_uri": "https://localhost:8080/",
     "height": 37
    },
    "colab_type": "code",
    "executionInfo": {
     "elapsed": 2707,
     "status": "ok",
     "timestamp": 1529801107862,
     "user": {
      "displayName": "Gabriel Cesar",
      "photoUrl": "//lh6.googleusercontent.com/-p5vDPiaCNfw/AAAAAAAAAAI/AAAAAAAAABs/bf-pbMKqe5c/s50-c-k-no/photo.jpg",
      "userId": "109223051625932368282"
     },
     "user_tz": 180
    },
    "id": "PwsCuAoyEwBQ",
    "outputId": "f083dfd4-58a1-4bbc-efcf-cb7b42e6ae3d"
   },
   "outputs": [],
   "source": [
    "del df_job_data['ContractType']\n",
    "del df_test_rev1['ContractType']"
   ]
  },
  {
   "cell_type": "markdown",
   "metadata": {
    "colab_type": "text",
    "id": "TuGX7DRrEwBW"
   },
   "source": [
    "### Remove ContractTime"
   ]
  },
  {
   "cell_type": "code",
   "execution_count": 17,
   "metadata": {
    "colab": {
     "autoexec": {
      "startup": false,
      "wait_interval": 0
     },
     "base_uri": "https://localhost:8080/",
     "height": 37
    },
    "colab_type": "code",
    "executionInfo": {
     "elapsed": 887,
     "status": "ok",
     "timestamp": 1529801110023,
     "user": {
      "displayName": "Gabriel Cesar",
      "photoUrl": "//lh6.googleusercontent.com/-p5vDPiaCNfw/AAAAAAAAAAI/AAAAAAAAABs/bf-pbMKqe5c/s50-c-k-no/photo.jpg",
      "userId": "109223051625932368282"
     },
     "user_tz": 180
    },
    "id": "L7JlYf_dEwBY",
    "outputId": "6f32ac6e-6608-4fa6-b977-8059eae0b64a"
   },
   "outputs": [],
   "source": [
    "del df_job_data['ContractTime']\n",
    "del df_test_rev1['ContractTime']"
   ]
  },
  {
   "cell_type": "markdown",
   "metadata": {
    "colab_type": "text",
    "id": "3qa4BYJUEwBb"
   },
   "source": [
    "### Removendo Category"
   ]
  },
  {
   "cell_type": "code",
   "execution_count": 18,
   "metadata": {
    "colab": {
     "autoexec": {
      "startup": false,
      "wait_interval": 0
     },
     "base_uri": "https://localhost:8080/",
     "height": 37
    },
    "colab_type": "code",
    "executionInfo": {
     "elapsed": 738,
     "status": "ok",
     "timestamp": 1529801113956,
     "user": {
      "displayName": "Gabriel Cesar",
      "photoUrl": "//lh6.googleusercontent.com/-p5vDPiaCNfw/AAAAAAAAAAI/AAAAAAAAABs/bf-pbMKqe5c/s50-c-k-no/photo.jpg",
      "userId": "109223051625932368282"
     },
     "user_tz": 180
    },
    "id": "9QF_BvwYEwBe",
    "outputId": "916c7390-15a2-4db6-f7d5-728b75d8028b"
   },
   "outputs": [],
   "source": [
    "del df_job_data['Category']\n",
    "del df_test_rev1['Category']"
   ]
  },
  {
   "cell_type": "markdown",
   "metadata": {
    "colab_type": "text",
    "id": "iILrtpDxEwBi"
   },
   "source": [
    "### Removendo Location Raw"
   ]
  },
  {
   "cell_type": "code",
   "execution_count": 19,
   "metadata": {
    "colab": {
     "autoexec": {
      "startup": false,
      "wait_interval": 0
     },
     "base_uri": "https://localhost:8080/",
     "height": 37
    },
    "colab_type": "code",
    "executionInfo": {
     "elapsed": 963,
     "status": "ok",
     "timestamp": 1529801118238,
     "user": {
      "displayName": "Gabriel Cesar",
      "photoUrl": "//lh6.googleusercontent.com/-p5vDPiaCNfw/AAAAAAAAAAI/AAAAAAAAABs/bf-pbMKqe5c/s50-c-k-no/photo.jpg",
      "userId": "109223051625932368282"
     },
     "user_tz": 180
    },
    "id": "XYyvZMbjEwBi",
    "outputId": "261cae9d-276a-4549-bd7d-8dbbbd23d067"
   },
   "outputs": [],
   "source": [
    "del df_job_data['LocationRaw']\n",
    "del df_test_rev1['LocationRaw']"
   ]
  },
  {
   "cell_type": "markdown",
   "metadata": {
    "colab_type": "text",
    "id": "uIOf83lkEwBm"
   },
   "source": [
    "### Company"
   ]
  },
  {
   "cell_type": "code",
   "execution_count": 20,
   "metadata": {
    "colab": {
     "autoexec": {
      "startup": false,
      "wait_interval": 0
     },
     "base_uri": "https://localhost:8080/",
     "height": 37
    },
    "colab_type": "code",
    "executionInfo": {
     "elapsed": 751,
     "status": "ok",
     "timestamp": 1529801121561,
     "user": {
      "displayName": "Gabriel Cesar",
      "photoUrl": "//lh6.googleusercontent.com/-p5vDPiaCNfw/AAAAAAAAAAI/AAAAAAAAABs/bf-pbMKqe5c/s50-c-k-no/photo.jpg",
      "userId": "109223051625932368282"
     },
     "user_tz": 180
    },
    "id": "RjY1lzucEwBo",
    "outputId": "df57792a-2df7-4301-ded5-a2d2fcb5bcac"
   },
   "outputs": [],
   "source": [
    "del df_job_data['Company']"
   ]
  },
  {
   "cell_type": "code",
   "execution_count": 21,
   "metadata": {
    "colab": {
     "autoexec": {
      "startup": false,
      "wait_interval": 0
     },
     "base_uri": "https://localhost:8080/",
     "height": 37
    },
    "colab_type": "code",
    "executionInfo": {
     "elapsed": 940,
     "status": "ok",
     "timestamp": 1529801123641,
     "user": {
      "displayName": "Gabriel Cesar",
      "photoUrl": "//lh6.googleusercontent.com/-p5vDPiaCNfw/AAAAAAAAAAI/AAAAAAAAABs/bf-pbMKqe5c/s50-c-k-no/photo.jpg",
      "userId": "109223051625932368282"
     },
     "user_tz": 180
    },
    "id": "AVXE3xOfEwBw",
    "outputId": "b4dc0c4d-1fba-42f4-b72f-ba6e02bf255b"
   },
   "outputs": [],
   "source": [
    "del df_test_rev1['Company']"
   ]
  },
  {
   "cell_type": "markdown",
   "metadata": {
    "colab_type": "text",
    "id": "JeIbKYJCEwBz"
   },
   "source": [
    "### Removendo linhas com valores NULL"
   ]
  },
  {
   "cell_type": "code",
   "execution_count": 23,
   "metadata": {
    "colab": {
     "autoexec": {
      "startup": false,
      "wait_interval": 0
     },
     "base_uri": "https://localhost:8080/",
     "height": 37
    },
    "colab_type": "code",
    "executionInfo": {
     "elapsed": 778,
     "status": "ok",
     "timestamp": 1529801127234,
     "user": {
      "displayName": "Gabriel Cesar",
      "photoUrl": "//lh6.googleusercontent.com/-p5vDPiaCNfw/AAAAAAAAAAI/AAAAAAAAABs/bf-pbMKqe5c/s50-c-k-no/photo.jpg",
      "userId": "109223051625932368282"
     },
     "user_tz": 180
    },
    "id": "1goRZOL-EwB1",
    "outputId": "e2b250f2-03d5-48f8-ddf4-08d0f7764ce8"
   },
   "outputs": [],
   "source": [
    "df_job_data.dropna(subset=['Title'], inplace = True)"
   ]
  },
  {
   "cell_type": "code",
   "execution_count": 24,
   "metadata": {
    "colab": {
     "autoexec": {
      "startup": false,
      "wait_interval": 0
     },
     "base_uri": "https://localhost:8080/",
     "height": 37
    },
    "colab_type": "code",
    "executionInfo": {
     "elapsed": 748,
     "status": "ok",
     "timestamp": 1529801129354,
     "user": {
      "displayName": "Gabriel Cesar",
      "photoUrl": "//lh6.googleusercontent.com/-p5vDPiaCNfw/AAAAAAAAAAI/AAAAAAAAABs/bf-pbMKqe5c/s50-c-k-no/photo.jpg",
      "userId": "109223051625932368282"
     },
     "user_tz": 180
    },
    "id": "MEUOmmdmEwB4",
    "outputId": "ced2f425-5e70-476e-cb98-17dfbcd74d78"
   },
   "outputs": [],
   "source": [
    "df_job_data.dropna(subset=['SourceName'], inplace = True)"
   ]
  },
  {
   "cell_type": "markdown",
   "metadata": {
    "colab_type": "text",
    "id": "FDBRPSj_EwB8"
   },
   "source": [
    "### Retirando Label"
   ]
  },
  {
   "cell_type": "code",
   "execution_count": 25,
   "metadata": {
    "colab": {
     "autoexec": {
      "startup": false,
      "wait_interval": 0
     },
     "base_uri": "https://localhost:8080/",
     "height": 37
    },
    "colab_type": "code",
    "executionInfo": {
     "elapsed": 789,
     "status": "ok",
     "timestamp": 1529801134604,
     "user": {
      "displayName": "Gabriel Cesar",
      "photoUrl": "//lh6.googleusercontent.com/-p5vDPiaCNfw/AAAAAAAAAAI/AAAAAAAAABs/bf-pbMKqe5c/s50-c-k-no/photo.jpg",
      "userId": "109223051625932368282"
     },
     "user_tz": 180
    },
    "id": "8LftYmQUEwB8",
    "outputId": "c0d28223-86eb-4b0f-889a-c8eceddfe985"
   },
   "outputs": [],
   "source": [
    "y = df_job_data['SalaryNormalized'].values"
   ]
  },
  {
   "cell_type": "code",
   "execution_count": 26,
   "metadata": {
    "colab": {
     "autoexec": {
      "startup": false,
      "wait_interval": 0
     },
     "base_uri": "https://localhost:8080/",
     "height": 34
    },
    "colab_type": "code",
    "executionInfo": {
     "elapsed": 741,
     "status": "ok",
     "timestamp": 1529801137435,
     "user": {
      "displayName": "Gabriel Cesar",
      "photoUrl": "//lh6.googleusercontent.com/-p5vDPiaCNfw/AAAAAAAAAAI/AAAAAAAAABs/bf-pbMKqe5c/s50-c-k-no/photo.jpg",
      "userId": "109223051625932368282"
     },
     "user_tz": 180
    },
    "id": "bHra0m_cEwCA",
    "outputId": "8ef54773-01f3-4faa-a8e4-cae54008bf11"
   },
   "outputs": [
    {
     "data": {
      "text/plain": [
       "array([25000, 30000, 30000, ..., 22800, 22800, 42500])"
      ]
     },
     "execution_count": 26,
     "metadata": {},
     "output_type": "execute_result"
    }
   ],
   "source": [
    "y"
   ]
  },
  {
   "cell_type": "markdown",
   "metadata": {
    "colab_type": "text",
    "id": "ztzrX_FOEwCE"
   },
   "source": [
    "### Retirando IDS"
   ]
  },
  {
   "cell_type": "code",
   "execution_count": 27,
   "metadata": {
    "colab": {
     "autoexec": {
      "startup": false,
      "wait_interval": 0
     },
     "base_uri": "https://localhost:8080/",
     "height": 37
    },
    "colab_type": "code",
    "executionInfo": {
     "elapsed": 820,
     "status": "ok",
     "timestamp": 1529801142077,
     "user": {
      "displayName": "Gabriel Cesar",
      "photoUrl": "//lh6.googleusercontent.com/-p5vDPiaCNfw/AAAAAAAAAAI/AAAAAAAAABs/bf-pbMKqe5c/s50-c-k-no/photo.jpg",
      "userId": "109223051625932368282"
     },
     "user_tz": 180
    },
    "id": "iLsjAp48EwCF",
    "outputId": "cedfc00b-981e-41c6-c794-5c6c0baed4eb"
   },
   "outputs": [],
   "source": [
    "idx_job = df_job_data['Id'].values"
   ]
  },
  {
   "cell_type": "code",
   "execution_count": 28,
   "metadata": {
    "colab": {
     "autoexec": {
      "startup": false,
      "wait_interval": 0
     },
     "base_uri": "https://localhost:8080/",
     "height": 34
    },
    "colab_type": "code",
    "executionInfo": {
     "elapsed": 1004,
     "status": "ok",
     "timestamp": 1529801144276,
     "user": {
      "displayName": "Gabriel Cesar",
      "photoUrl": "//lh6.googleusercontent.com/-p5vDPiaCNfw/AAAAAAAAAAI/AAAAAAAAABs/bf-pbMKqe5c/s50-c-k-no/photo.jpg",
      "userId": "109223051625932368282"
     },
     "user_tz": 180
    },
    "id": "2WC4Yn_-EwCI",
    "outputId": "07086f3f-25a5-4a5e-bb4a-a5b1ef476189"
   },
   "outputs": [
    {
     "data": {
      "text/plain": [
       "array([12612628, 12612830, 12612844, ..., 72705213, 72705216, 72705235])"
      ]
     },
     "execution_count": 28,
     "metadata": {},
     "output_type": "execute_result"
    }
   ],
   "source": [
    "idx_job"
   ]
  },
  {
   "cell_type": "code",
   "execution_count": 29,
   "metadata": {
    "colab": {
     "autoexec": {
      "startup": false,
      "wait_interval": 0
     },
     "base_uri": "https://localhost:8080/",
     "height": 37
    },
    "colab_type": "code",
    "executionInfo": {
     "elapsed": 762,
     "status": "ok",
     "timestamp": 1529801146895,
     "user": {
      "displayName": "Gabriel Cesar",
      "photoUrl": "//lh6.googleusercontent.com/-p5vDPiaCNfw/AAAAAAAAAAI/AAAAAAAAABs/bf-pbMKqe5c/s50-c-k-no/photo.jpg",
      "userId": "109223051625932368282"
     },
     "user_tz": 180
    },
    "id": "QpyY_VXBEwCM",
    "outputId": "e9977d70-2ff9-42e6-c5b3-0a39274c318e"
   },
   "outputs": [],
   "source": [
    "idx_test = df_test_rev1['Id'].values"
   ]
  },
  {
   "cell_type": "code",
   "execution_count": 30,
   "metadata": {
    "colab": {
     "autoexec": {
      "startup": false,
      "wait_interval": 0
     },
     "base_uri": "https://localhost:8080/",
     "height": 34
    },
    "colab_type": "code",
    "executionInfo": {
     "elapsed": 732,
     "status": "ok",
     "timestamp": 1529801149196,
     "user": {
      "displayName": "Gabriel Cesar",
      "photoUrl": "//lh6.googleusercontent.com/-p5vDPiaCNfw/AAAAAAAAAAI/AAAAAAAAABs/bf-pbMKqe5c/s50-c-k-no/photo.jpg",
      "userId": "109223051625932368282"
     },
     "user_tz": 180
    },
    "id": "noj4zYiaEwCT",
    "outputId": "74e041cb-20cc-4c37-8778-c3c51041d3d9"
   },
   "outputs": [
    {
     "data": {
      "text/plain": [
       "array([11888454, 11988350, 12612558, ..., 72705210, 72705214, 72705218])"
      ]
     },
     "execution_count": 30,
     "metadata": {},
     "output_type": "execute_result"
    }
   ],
   "source": [
    "idx_test"
   ]
  },
  {
   "cell_type": "markdown",
   "metadata": {
    "colab_type": "text",
    "id": "slLrezFsEwCZ"
   },
   "source": [
    "### Juntando conteudo"
   ]
  },
  {
   "cell_type": "code",
   "execution_count": 31,
   "metadata": {
    "colab": {
     "autoexec": {
      "startup": false,
      "wait_interval": 0
     },
     "base_uri": "https://localhost:8080/",
     "height": 34
    },
    "colab_type": "code",
    "executionInfo": {
     "elapsed": 765,
     "status": "ok",
     "timestamp": 1529801154922,
     "user": {
      "displayName": "Gabriel Cesar",
      "photoUrl": "//lh6.googleusercontent.com/-p5vDPiaCNfw/AAAAAAAAAAI/AAAAAAAAABs/bf-pbMKqe5c/s50-c-k-no/photo.jpg",
      "userId": "109223051625932368282"
     },
     "user_tz": 180
    },
    "id": "c4kx1jyOEwCa",
    "outputId": "55517387-f516-4921-f719-5cb541f8b58c"
   },
   "outputs": [
    {
     "data": {
      "text/plain": [
       "(244766, 6)"
      ]
     },
     "execution_count": 31,
     "metadata": {},
     "output_type": "execute_result"
    }
   ],
   "source": [
    "df_job_tuple = df_job_data.shape\n",
    "df_job_tuple"
   ]
  },
  {
   "cell_type": "code",
   "execution_count": 32,
   "metadata": {
    "colab": {
     "autoexec": {
      "startup": false,
      "wait_interval": 0
     },
     "base_uri": "https://localhost:8080/",
     "height": 34
    },
    "colab_type": "code",
    "executionInfo": {
     "elapsed": 736,
     "status": "ok",
     "timestamp": 1529801157401,
     "user": {
      "displayName": "Gabriel Cesar",
      "photoUrl": "//lh6.googleusercontent.com/-p5vDPiaCNfw/AAAAAAAAAAI/AAAAAAAAABs/bf-pbMKqe5c/s50-c-k-no/photo.jpg",
      "userId": "109223051625932368282"
     },
     "user_tz": 180
    },
    "id": "pZ2qSLGwEwCf",
    "outputId": "b6916215-2bd4-42fe-dcd1-b37875b26a1e"
   },
   "outputs": [
    {
     "data": {
      "text/plain": [
       "(122463, 5)"
      ]
     },
     "execution_count": 32,
     "metadata": {},
     "output_type": "execute_result"
    }
   ],
   "source": [
    "df_test_tuple = df_test_rev1.shape\n",
    "df_test_tuple"
   ]
  },
  {
   "cell_type": "code",
   "execution_count": 38,
   "metadata": {
    "colab": {
     "autoexec": {
      "startup": false,
      "wait_interval": 0
     },
     "base_uri": "https://localhost:8080/",
     "height": 37
    },
    "colab_type": "code",
    "executionInfo": {
     "elapsed": 755,
     "status": "ok",
     "timestamp": 1529801161403,
     "user": {
      "displayName": "Gabriel Cesar",
      "photoUrl": "//lh6.googleusercontent.com/-p5vDPiaCNfw/AAAAAAAAAAI/AAAAAAAAABs/bf-pbMKqe5c/s50-c-k-no/photo.jpg",
      "userId": "109223051625932368282"
     },
     "user_tz": 180
    },
    "id": "eRG7FgLoEwCl",
    "outputId": "0186aee5-5356-4a00-9be1-55b35d7908e6"
   },
   "outputs": [],
   "source": [
    "df = df_job_data.append(df_test_rev1, sort=False)"
   ]
  },
  {
   "cell_type": "code",
   "execution_count": 45,
   "metadata": {
    "colab": {
     "autoexec": {
      "startup": false,
      "wait_interval": 0
     },
     "base_uri": "https://localhost:8080/",
     "height": 34
    },
    "colab_type": "code",
    "executionInfo": {
     "elapsed": 779,
     "status": "ok",
     "timestamp": 1529801163957,
     "user": {
      "displayName": "Gabriel Cesar",
      "photoUrl": "//lh6.googleusercontent.com/-p5vDPiaCNfw/AAAAAAAAAAI/AAAAAAAAABs/bf-pbMKqe5c/s50-c-k-no/photo.jpg",
      "userId": "109223051625932368282"
     },
     "user_tz": 180
    },
    "id": "c2ZxM7ThEwCo",
    "outputId": "f206b2c9-60b8-4f31-b590-899ab1321e55"
   },
   "outputs": [
    {
     "data": {
      "text/plain": [
       "(367229, 6)"
      ]
     },
     "execution_count": 45,
     "metadata": {},
     "output_type": "execute_result"
    }
   ],
   "source": [
    "df.shape"
   ]
  },
  {
   "cell_type": "markdown",
   "metadata": {
    "colab_type": "text",
    "id": "WUHN-XxLEwCv"
   },
   "source": [
    "#### LocationNormalized"
   ]
  },
  {
   "cell_type": "code",
   "execution_count": 46,
   "metadata": {
    "colab": {
     "autoexec": {
      "startup": false,
      "wait_interval": 0
     },
     "base_uri": "https://localhost:8080/",
     "height": 37
    },
    "colab_type": "code",
    "executionInfo": {
     "elapsed": 3215,
     "status": "ok",
     "timestamp": 1529801169844,
     "user": {
      "displayName": "Gabriel Cesar",
      "photoUrl": "//lh6.googleusercontent.com/-p5vDPiaCNfw/AAAAAAAAAAI/AAAAAAAAABs/bf-pbMKqe5c/s50-c-k-no/photo.jpg",
      "userId": "109223051625932368282"
     },
     "user_tz": 180
    },
    "id": "iQKRzS_DEwCv",
    "outputId": "c008de64-1b60-46e4-8f64-536af8a08e0b"
   },
   "outputs": [],
   "source": [
    "df = normalizeTextField(df, 'LocationNormalized')"
   ]
  },
  {
   "cell_type": "code",
   "execution_count": 47,
   "metadata": {
    "colab": {
     "autoexec": {
      "startup": false,
      "wait_interval": 0
     },
     "base_uri": "https://localhost:8080/",
     "height": 34
    },
    "colab_type": "code",
    "executionInfo": {
     "elapsed": 745,
     "status": "ok",
     "timestamp": 1529801171609,
     "user": {
      "displayName": "Gabriel Cesar",
      "photoUrl": "//lh6.googleusercontent.com/-p5vDPiaCNfw/AAAAAAAAAAI/AAAAAAAAABs/bf-pbMKqe5c/s50-c-k-no/photo.jpg",
      "userId": "109223051625932368282"
     },
     "user_tz": 180
    },
    "id": "q2FnUvsLEwC0",
    "outputId": "cb9bef89-0efd-43f9-88f5-b2a0b1c3eafa"
   },
   "outputs": [
    {
     "data": {
      "text/plain": [
       "(367229, 7)"
      ]
     },
     "execution_count": 47,
     "metadata": {},
     "output_type": "execute_result"
    }
   ],
   "source": [
    "df.shape"
   ]
  },
  {
   "cell_type": "code",
   "execution_count": 48,
   "metadata": {},
   "outputs": [
    {
     "data": {
      "text/html": [
       "<div>\n",
       "<style scoped>\n",
       "    .dataframe tbody tr th:only-of-type {\n",
       "        vertical-align: middle;\n",
       "    }\n",
       "\n",
       "    .dataframe tbody tr th {\n",
       "        vertical-align: top;\n",
       "    }\n",
       "\n",
       "    .dataframe thead th {\n",
       "        text-align: right;\n",
       "    }\n",
       "</style>\n",
       "<table border=\"1\" class=\"dataframe\">\n",
       "  <thead>\n",
       "    <tr style=\"text-align: right;\">\n",
       "      <th></th>\n",
       "      <th>Id</th>\n",
       "      <th>Title</th>\n",
       "      <th>FullDescription</th>\n",
       "      <th>SalaryNormalized</th>\n",
       "      <th>SourceName</th>\n",
       "      <th>LocationNormalized0</th>\n",
       "      <th>LocationNormalized1</th>\n",
       "    </tr>\n",
       "  </thead>\n",
       "  <tbody>\n",
       "    <tr>\n",
       "      <th>0</th>\n",
       "      <td>12612628</td>\n",
       "      <td>Engineering Systems Analyst</td>\n",
       "      <td>Engineering Systems Analyst Dorking Surrey Sal...</td>\n",
       "      <td>25000.0</td>\n",
       "      <td>cv-library.co.uk</td>\n",
       "      <td>-0.116790</td>\n",
       "      <td>-0.229172</td>\n",
       "    </tr>\n",
       "    <tr>\n",
       "      <th>1</th>\n",
       "      <td>12612830</td>\n",
       "      <td>Stress Engineer Glasgow</td>\n",
       "      <td>Stress Engineer Glasgow Salary **** to **** We...</td>\n",
       "      <td>30000.0</td>\n",
       "      <td>cv-library.co.uk</td>\n",
       "      <td>-0.118995</td>\n",
       "      <td>-0.237572</td>\n",
       "    </tr>\n",
       "    <tr>\n",
       "      <th>2</th>\n",
       "      <td>12612844</td>\n",
       "      <td>Modelling and simulation analyst</td>\n",
       "      <td>Mathematical Modeller / Simulation Analyst / O...</td>\n",
       "      <td>30000.0</td>\n",
       "      <td>cv-library.co.uk</td>\n",
       "      <td>-0.120516</td>\n",
       "      <td>-0.241914</td>\n",
       "    </tr>\n",
       "    <tr>\n",
       "      <th>3</th>\n",
       "      <td>12613049</td>\n",
       "      <td>Engineering Systems Analyst / Mathematical Mod...</td>\n",
       "      <td>Engineering Systems Analyst / Mathematical Mod...</td>\n",
       "      <td>27500.0</td>\n",
       "      <td>cv-library.co.uk</td>\n",
       "      <td>-0.122604</td>\n",
       "      <td>-0.249312</td>\n",
       "    </tr>\n",
       "    <tr>\n",
       "      <th>4</th>\n",
       "      <td>12613647</td>\n",
       "      <td>Pioneer, Miser Engineering Systems Analyst</td>\n",
       "      <td>Pioneer, Miser  Engineering Systems Analyst Do...</td>\n",
       "      <td>25000.0</td>\n",
       "      <td>cv-library.co.uk</td>\n",
       "      <td>-0.122604</td>\n",
       "      <td>-0.249312</td>\n",
       "    </tr>\n",
       "  </tbody>\n",
       "</table>\n",
       "</div>"
      ],
      "text/plain": [
       "         Id                                              Title  \\\n",
       "0  12612628                        Engineering Systems Analyst   \n",
       "1  12612830                            Stress Engineer Glasgow   \n",
       "2  12612844                   Modelling and simulation analyst   \n",
       "3  12613049  Engineering Systems Analyst / Mathematical Mod...   \n",
       "4  12613647         Pioneer, Miser Engineering Systems Analyst   \n",
       "\n",
       "                                     FullDescription  SalaryNormalized  \\\n",
       "0  Engineering Systems Analyst Dorking Surrey Sal...           25000.0   \n",
       "1  Stress Engineer Glasgow Salary **** to **** We...           30000.0   \n",
       "2  Mathematical Modeller / Simulation Analyst / O...           30000.0   \n",
       "3  Engineering Systems Analyst / Mathematical Mod...           27500.0   \n",
       "4  Pioneer, Miser  Engineering Systems Analyst Do...           25000.0   \n",
       "\n",
       "         SourceName  LocationNormalized0  LocationNormalized1  \n",
       "0  cv-library.co.uk            -0.116790            -0.229172  \n",
       "1  cv-library.co.uk            -0.118995            -0.237572  \n",
       "2  cv-library.co.uk            -0.120516            -0.241914  \n",
       "3  cv-library.co.uk            -0.122604            -0.249312  \n",
       "4  cv-library.co.uk            -0.122604            -0.249312  "
      ]
     },
     "execution_count": 48,
     "metadata": {},
     "output_type": "execute_result"
    }
   ],
   "source": [
    "df.head()"
   ]
  },
  {
   "cell_type": "markdown",
   "metadata": {
    "colab_type": "text",
    "id": "tL-laH_pEwC-"
   },
   "source": [
    "#### Title"
   ]
  },
  {
   "cell_type": "code",
   "execution_count": 49,
   "metadata": {
    "colab": {
     "autoexec": {
      "startup": false,
      "wait_interval": 0
     },
     "base_uri": "https://localhost:8080/",
     "height": 37
    },
    "colab_type": "code",
    "executionInfo": {
     "elapsed": 4337,
     "status": "ok",
     "timestamp": 1529801179499,
     "user": {
      "displayName": "Gabriel Cesar",
      "photoUrl": "//lh6.googleusercontent.com/-p5vDPiaCNfw/AAAAAAAAAAI/AAAAAAAAABs/bf-pbMKqe5c/s50-c-k-no/photo.jpg",
      "userId": "109223051625932368282"
     },
     "user_tz": 180
    },
    "id": "TpmwNKR_EwC_",
    "outputId": "f83246de-8b37-4d08-8a4b-f69de188cfcc"
   },
   "outputs": [],
   "source": [
    "df = normalizeTextField(df, 'Title')"
   ]
  },
  {
   "cell_type": "code",
   "execution_count": 50,
   "metadata": {
    "colab": {
     "autoexec": {
      "startup": false,
      "wait_interval": 0
     },
     "base_uri": "https://localhost:8080/",
     "height": 34
    },
    "colab_type": "code",
    "executionInfo": {
     "elapsed": 991,
     "status": "ok",
     "timestamp": 1529801182206,
     "user": {
      "displayName": "Gabriel Cesar",
      "photoUrl": "//lh6.googleusercontent.com/-p5vDPiaCNfw/AAAAAAAAAAI/AAAAAAAAABs/bf-pbMKqe5c/s50-c-k-no/photo.jpg",
      "userId": "109223051625932368282"
     },
     "user_tz": 180
    },
    "id": "kB93el4PEwDC",
    "outputId": "223e13d3-1c58-4d59-d82b-8c15f5517cc2"
   },
   "outputs": [
    {
     "data": {
      "text/plain": [
       "(367229, 8)"
      ]
     },
     "execution_count": 50,
     "metadata": {},
     "output_type": "execute_result"
    }
   ],
   "source": [
    "df.shape"
   ]
  },
  {
   "cell_type": "code",
   "execution_count": 51,
   "metadata": {},
   "outputs": [
    {
     "data": {
      "text/html": [
       "<div>\n",
       "<style scoped>\n",
       "    .dataframe tbody tr th:only-of-type {\n",
       "        vertical-align: middle;\n",
       "    }\n",
       "\n",
       "    .dataframe tbody tr th {\n",
       "        vertical-align: top;\n",
       "    }\n",
       "\n",
       "    .dataframe thead th {\n",
       "        text-align: right;\n",
       "    }\n",
       "</style>\n",
       "<table border=\"1\" class=\"dataframe\">\n",
       "  <thead>\n",
       "    <tr style=\"text-align: right;\">\n",
       "      <th></th>\n",
       "      <th>Id</th>\n",
       "      <th>FullDescription</th>\n",
       "      <th>SalaryNormalized</th>\n",
       "      <th>SourceName</th>\n",
       "      <th>LocationNormalized0</th>\n",
       "      <th>LocationNormalized1</th>\n",
       "      <th>Title0</th>\n",
       "      <th>Title1</th>\n",
       "    </tr>\n",
       "  </thead>\n",
       "  <tbody>\n",
       "    <tr>\n",
       "      <th>0</th>\n",
       "      <td>12612628</td>\n",
       "      <td>Engineering Systems Analyst Dorking Surrey Sal...</td>\n",
       "      <td>25000.0</td>\n",
       "      <td>cv-library.co.uk</td>\n",
       "      <td>-0.116790</td>\n",
       "      <td>-0.229172</td>\n",
       "      <td>-0.211711</td>\n",
       "      <td>0.010125</td>\n",
       "    </tr>\n",
       "    <tr>\n",
       "      <th>1</th>\n",
       "      <td>12612830</td>\n",
       "      <td>Stress Engineer Glasgow Salary **** to **** We...</td>\n",
       "      <td>30000.0</td>\n",
       "      <td>cv-library.co.uk</td>\n",
       "      <td>-0.118995</td>\n",
       "      <td>-0.237572</td>\n",
       "      <td>-0.379567</td>\n",
       "      <td>-0.578679</td>\n",
       "    </tr>\n",
       "    <tr>\n",
       "      <th>2</th>\n",
       "      <td>12612844</td>\n",
       "      <td>Mathematical Modeller / Simulation Analyst / O...</td>\n",
       "      <td>30000.0</td>\n",
       "      <td>cv-library.co.uk</td>\n",
       "      <td>-0.120516</td>\n",
       "      <td>-0.241914</td>\n",
       "      <td>-0.204023</td>\n",
       "      <td>0.064291</td>\n",
       "    </tr>\n",
       "    <tr>\n",
       "      <th>3</th>\n",
       "      <td>12613049</td>\n",
       "      <td>Engineering Systems Analyst / Mathematical Mod...</td>\n",
       "      <td>27500.0</td>\n",
       "      <td>cv-library.co.uk</td>\n",
       "      <td>-0.122604</td>\n",
       "      <td>-0.249312</td>\n",
       "      <td>-0.211711</td>\n",
       "      <td>0.010125</td>\n",
       "    </tr>\n",
       "    <tr>\n",
       "      <th>4</th>\n",
       "      <td>12613647</td>\n",
       "      <td>Pioneer, Miser  Engineering Systems Analyst Do...</td>\n",
       "      <td>25000.0</td>\n",
       "      <td>cv-library.co.uk</td>\n",
       "      <td>-0.122604</td>\n",
       "      <td>-0.249312</td>\n",
       "      <td>-0.211711</td>\n",
       "      <td>0.010125</td>\n",
       "    </tr>\n",
       "  </tbody>\n",
       "</table>\n",
       "</div>"
      ],
      "text/plain": [
       "         Id                                    FullDescription  \\\n",
       "0  12612628  Engineering Systems Analyst Dorking Surrey Sal...   \n",
       "1  12612830  Stress Engineer Glasgow Salary **** to **** We...   \n",
       "2  12612844  Mathematical Modeller / Simulation Analyst / O...   \n",
       "3  12613049  Engineering Systems Analyst / Mathematical Mod...   \n",
       "4  12613647  Pioneer, Miser  Engineering Systems Analyst Do...   \n",
       "\n",
       "   SalaryNormalized        SourceName  LocationNormalized0  \\\n",
       "0           25000.0  cv-library.co.uk            -0.116790   \n",
       "1           30000.0  cv-library.co.uk            -0.118995   \n",
       "2           30000.0  cv-library.co.uk            -0.120516   \n",
       "3           27500.0  cv-library.co.uk            -0.122604   \n",
       "4           25000.0  cv-library.co.uk            -0.122604   \n",
       "\n",
       "   LocationNormalized1    Title0    Title1  \n",
       "0            -0.229172 -0.211711  0.010125  \n",
       "1            -0.237572 -0.379567 -0.578679  \n",
       "2            -0.241914 -0.204023  0.064291  \n",
       "3            -0.249312 -0.211711  0.010125  \n",
       "4            -0.249312 -0.211711  0.010125  "
      ]
     },
     "execution_count": 51,
     "metadata": {},
     "output_type": "execute_result"
    }
   ],
   "source": [
    "df.head()"
   ]
  },
  {
   "cell_type": "markdown",
   "metadata": {
    "colab_type": "text",
    "id": "xDIMGEN7EwDG"
   },
   "source": [
    "#### Full Description"
   ]
  },
  {
   "cell_type": "code",
   "execution_count": 52,
   "metadata": {
    "colab": {
     "autoexec": {
      "startup": false,
      "wait_interval": 0
     },
     "base_uri": "https://localhost:8080/",
     "height": 37
    },
    "colab_type": "code",
    "executionInfo": {
     "elapsed": 68085,
     "status": "ok",
     "timestamp": 1529801253123,
     "user": {
      "displayName": "Gabriel Cesar",
      "photoUrl": "//lh6.googleusercontent.com/-p5vDPiaCNfw/AAAAAAAAAAI/AAAAAAAAABs/bf-pbMKqe5c/s50-c-k-no/photo.jpg",
      "userId": "109223051625932368282"
     },
     "user_tz": 180
    },
    "id": "nDp6SmCVEwDG",
    "outputId": "e6f242f1-591f-47f1-8454-d2e2eb75ee00"
   },
   "outputs": [],
   "source": [
    "df = normalizeTextField(df, 'FullDescription')"
   ]
  },
  {
   "cell_type": "code",
   "execution_count": 53,
   "metadata": {
    "colab": {
     "autoexec": {
      "startup": false,
      "wait_interval": 0
     },
     "base_uri": "https://localhost:8080/",
     "height": 34
    },
    "colab_type": "code",
    "executionInfo": {
     "elapsed": 2471,
     "status": "ok",
     "timestamp": 1529801284445,
     "user": {
      "displayName": "Gabriel Cesar",
      "photoUrl": "//lh6.googleusercontent.com/-p5vDPiaCNfw/AAAAAAAAAAI/AAAAAAAAABs/bf-pbMKqe5c/s50-c-k-no/photo.jpg",
      "userId": "109223051625932368282"
     },
     "user_tz": 180
    },
    "id": "jOBnnMV8EwDK",
    "outputId": "a027949e-77b5-4018-9e74-15a7a3dddfda"
   },
   "outputs": [
    {
     "data": {
      "text/plain": [
       "(367229, 9)"
      ]
     },
     "execution_count": 53,
     "metadata": {},
     "output_type": "execute_result"
    }
   ],
   "source": [
    "df.shape"
   ]
  },
  {
   "cell_type": "code",
   "execution_count": 54,
   "metadata": {},
   "outputs": [
    {
     "data": {
      "text/html": [
       "<div>\n",
       "<style scoped>\n",
       "    .dataframe tbody tr th:only-of-type {\n",
       "        vertical-align: middle;\n",
       "    }\n",
       "\n",
       "    .dataframe tbody tr th {\n",
       "        vertical-align: top;\n",
       "    }\n",
       "\n",
       "    .dataframe thead th {\n",
       "        text-align: right;\n",
       "    }\n",
       "</style>\n",
       "<table border=\"1\" class=\"dataframe\">\n",
       "  <thead>\n",
       "    <tr style=\"text-align: right;\">\n",
       "      <th></th>\n",
       "      <th>Id</th>\n",
       "      <th>SalaryNormalized</th>\n",
       "      <th>SourceName</th>\n",
       "      <th>LocationNormalized0</th>\n",
       "      <th>LocationNormalized1</th>\n",
       "      <th>Title0</th>\n",
       "      <th>Title1</th>\n",
       "      <th>FullDescription0</th>\n",
       "      <th>FullDescription1</th>\n",
       "    </tr>\n",
       "  </thead>\n",
       "  <tbody>\n",
       "    <tr>\n",
       "      <th>0</th>\n",
       "      <td>12612628</td>\n",
       "      <td>25000.0</td>\n",
       "      <td>cv-library.co.uk</td>\n",
       "      <td>-0.116790</td>\n",
       "      <td>-0.229172</td>\n",
       "      <td>-0.211711</td>\n",
       "      <td>0.010125</td>\n",
       "      <td>-18.530014</td>\n",
       "      <td>2.881801</td>\n",
       "    </tr>\n",
       "    <tr>\n",
       "      <th>1</th>\n",
       "      <td>12612830</td>\n",
       "      <td>30000.0</td>\n",
       "      <td>cv-library.co.uk</td>\n",
       "      <td>-0.118995</td>\n",
       "      <td>-0.237572</td>\n",
       "      <td>-0.379567</td>\n",
       "      <td>-0.578679</td>\n",
       "      <td>1.115408</td>\n",
       "      <td>-2.899838</td>\n",
       "    </tr>\n",
       "    <tr>\n",
       "      <th>2</th>\n",
       "      <td>12612844</td>\n",
       "      <td>30000.0</td>\n",
       "      <td>cv-library.co.uk</td>\n",
       "      <td>-0.120516</td>\n",
       "      <td>-0.241914</td>\n",
       "      <td>-0.204023</td>\n",
       "      <td>0.064291</td>\n",
       "      <td>-1.111251</td>\n",
       "      <td>2.198476</td>\n",
       "    </tr>\n",
       "    <tr>\n",
       "      <th>3</th>\n",
       "      <td>12613049</td>\n",
       "      <td>27500.0</td>\n",
       "      <td>cv-library.co.uk</td>\n",
       "      <td>-0.122604</td>\n",
       "      <td>-0.249312</td>\n",
       "      <td>-0.211711</td>\n",
       "      <td>0.010125</td>\n",
       "      <td>-18.890457</td>\n",
       "      <td>3.393422</td>\n",
       "    </tr>\n",
       "    <tr>\n",
       "      <th>4</th>\n",
       "      <td>12613647</td>\n",
       "      <td>25000.0</td>\n",
       "      <td>cv-library.co.uk</td>\n",
       "      <td>-0.122604</td>\n",
       "      <td>-0.249312</td>\n",
       "      <td>-0.211711</td>\n",
       "      <td>0.010125</td>\n",
       "      <td>-19.451188</td>\n",
       "      <td>2.751042</td>\n",
       "    </tr>\n",
       "  </tbody>\n",
       "</table>\n",
       "</div>"
      ],
      "text/plain": [
       "         Id  SalaryNormalized        SourceName  LocationNormalized0  \\\n",
       "0  12612628           25000.0  cv-library.co.uk            -0.116790   \n",
       "1  12612830           30000.0  cv-library.co.uk            -0.118995   \n",
       "2  12612844           30000.0  cv-library.co.uk            -0.120516   \n",
       "3  12613049           27500.0  cv-library.co.uk            -0.122604   \n",
       "4  12613647           25000.0  cv-library.co.uk            -0.122604   \n",
       "\n",
       "   LocationNormalized1    Title0    Title1  FullDescription0  FullDescription1  \n",
       "0            -0.229172 -0.211711  0.010125        -18.530014          2.881801  \n",
       "1            -0.237572 -0.379567 -0.578679          1.115408         -2.899838  \n",
       "2            -0.241914 -0.204023  0.064291         -1.111251          2.198476  \n",
       "3            -0.249312 -0.211711  0.010125        -18.890457          3.393422  \n",
       "4            -0.249312 -0.211711  0.010125        -19.451188          2.751042  "
      ]
     },
     "execution_count": 54,
     "metadata": {},
     "output_type": "execute_result"
    }
   ],
   "source": [
    "df.head()"
   ]
  },
  {
   "cell_type": "markdown",
   "metadata": {
    "colab_type": "text",
    "id": "3UqZ9i79EwDN"
   },
   "source": [
    "#### Source Name"
   ]
  },
  {
   "cell_type": "code",
   "execution_count": 55,
   "metadata": {
    "colab": {
     "autoexec": {
      "startup": false,
      "wait_interval": 0
     },
     "base_uri": "https://localhost:8080/",
     "height": 37
    },
    "colab_type": "code",
    "executionInfo": {
     "elapsed": 819,
     "status": "ok",
     "timestamp": 1529801289739,
     "user": {
      "displayName": "Gabriel Cesar",
      "photoUrl": "//lh6.googleusercontent.com/-p5vDPiaCNfw/AAAAAAAAAAI/AAAAAAAAABs/bf-pbMKqe5c/s50-c-k-no/photo.jpg",
      "userId": "109223051625932368282"
     },
     "user_tz": 180
    },
    "id": "Wakkvtn4EwDV",
    "outputId": "39e2df5b-a80a-4d86-89da-8c83a777754b"
   },
   "outputs": [],
   "source": [
    "_, sources = np.unique(df['SourceName'], return_inverse=True)"
   ]
  },
  {
   "cell_type": "code",
   "execution_count": 56,
   "metadata": {
    "colab": {
     "autoexec": {
      "startup": false,
      "wait_interval": 0
     },
     "base_uri": "https://localhost:8080/",
     "height": 34
    },
    "colab_type": "code",
    "executionInfo": {
     "elapsed": 3545,
     "status": "ok",
     "timestamp": 1529801294803,
     "user": {
      "displayName": "Gabriel Cesar",
      "photoUrl": "//lh6.googleusercontent.com/-p5vDPiaCNfw/AAAAAAAAAAI/AAAAAAAAABs/bf-pbMKqe5c/s50-c-k-no/photo.jpg",
      "userId": "109223051625932368282"
     },
     "user_tz": 180
    },
    "id": "W_FwJ5TYEwDZ",
    "outputId": "486c3805-18bc-40d4-e525-002b70e3453c"
   },
   "outputs": [
    {
     "data": {
      "text/plain": [
       "(367229,)"
      ]
     },
     "execution_count": 56,
     "metadata": {},
     "output_type": "execute_result"
    }
   ],
   "source": [
    "sources.shape"
   ]
  },
  {
   "cell_type": "code",
   "execution_count": 57,
   "metadata": {
    "colab": {
     "autoexec": {
      "startup": false,
      "wait_interval": 0
     },
     "base_uri": "https://localhost:8080/",
     "height": 37
    },
    "colab_type": "code",
    "executionInfo": {
     "elapsed": 4481,
     "status": "ok",
     "timestamp": 1529801299695,
     "user": {
      "displayName": "Gabriel Cesar",
      "photoUrl": "//lh6.googleusercontent.com/-p5vDPiaCNfw/AAAAAAAAAAI/AAAAAAAAABs/bf-pbMKqe5c/s50-c-k-no/photo.jpg",
      "userId": "109223051625932368282"
     },
     "user_tz": 180
    },
    "id": "JN1a4NevEwDj",
    "outputId": "2c7e337a-0f1b-4ec8-cfcd-1f605d426501"
   },
   "outputs": [],
   "source": [
    "df['SourceName'] = sources"
   ]
  },
  {
   "cell_type": "code",
   "execution_count": 58,
   "metadata": {
    "colab": {
     "autoexec": {
      "startup": false,
      "wait_interval": 0
     },
     "base_uri": "https://localhost:8080/",
     "height": 34
    },
    "colab_type": "code",
    "executionInfo": {
     "elapsed": 702,
     "status": "ok",
     "timestamp": 1529801300859,
     "user": {
      "displayName": "Gabriel Cesar",
      "photoUrl": "//lh6.googleusercontent.com/-p5vDPiaCNfw/AAAAAAAAAAI/AAAAAAAAABs/bf-pbMKqe5c/s50-c-k-no/photo.jpg",
      "userId": "109223051625932368282"
     },
     "user_tz": 180
    },
    "id": "BBjy-ZqbEwDo",
    "outputId": "639a972b-b8d7-49e6-e630-f6a234e1cb57"
   },
   "outputs": [
    {
     "data": {
      "text/plain": [
       "(367229, 9)"
      ]
     },
     "execution_count": 58,
     "metadata": {},
     "output_type": "execute_result"
    }
   ],
   "source": [
    "df.shape"
   ]
  },
  {
   "cell_type": "code",
   "execution_count": 59,
   "metadata": {
    "colab": {
     "autoexec": {
      "startup": false,
      "wait_interval": 0
     },
     "base_uri": "https://localhost:8080/",
     "height": 160
    },
    "colab_type": "code",
    "executionInfo": {
     "elapsed": 749,
     "status": "ok",
     "timestamp": 1529801304114,
     "user": {
      "displayName": "Gabriel Cesar",
      "photoUrl": "//lh6.googleusercontent.com/-p5vDPiaCNfw/AAAAAAAAAAI/AAAAAAAAABs/bf-pbMKqe5c/s50-c-k-no/photo.jpg",
      "userId": "109223051625932368282"
     },
     "user_tz": 180
    },
    "id": "CTVv0buBEwDw",
    "outputId": "5b58b9d4-c607-4c6d-a6a4-75a7d04bce92"
   },
   "outputs": [
    {
     "data": {
      "text/html": [
       "<div>\n",
       "<style scoped>\n",
       "    .dataframe tbody tr th:only-of-type {\n",
       "        vertical-align: middle;\n",
       "    }\n",
       "\n",
       "    .dataframe tbody tr th {\n",
       "        vertical-align: top;\n",
       "    }\n",
       "\n",
       "    .dataframe thead th {\n",
       "        text-align: right;\n",
       "    }\n",
       "</style>\n",
       "<table border=\"1\" class=\"dataframe\">\n",
       "  <thead>\n",
       "    <tr style=\"text-align: right;\">\n",
       "      <th></th>\n",
       "      <th>Id</th>\n",
       "      <th>SalaryNormalized</th>\n",
       "      <th>SourceName</th>\n",
       "      <th>LocationNormalized0</th>\n",
       "      <th>LocationNormalized1</th>\n",
       "      <th>Title0</th>\n",
       "      <th>Title1</th>\n",
       "      <th>FullDescription0</th>\n",
       "      <th>FullDescription1</th>\n",
       "    </tr>\n",
       "  </thead>\n",
       "  <tbody>\n",
       "    <tr>\n",
       "      <th>0</th>\n",
       "      <td>12612628</td>\n",
       "      <td>25000.0</td>\n",
       "      <td>42</td>\n",
       "      <td>-0.116790</td>\n",
       "      <td>-0.229172</td>\n",
       "      <td>-0.211711</td>\n",
       "      <td>0.010125</td>\n",
       "      <td>-18.530014</td>\n",
       "      <td>2.881801</td>\n",
       "    </tr>\n",
       "    <tr>\n",
       "      <th>1</th>\n",
       "      <td>12612830</td>\n",
       "      <td>30000.0</td>\n",
       "      <td>42</td>\n",
       "      <td>-0.118995</td>\n",
       "      <td>-0.237572</td>\n",
       "      <td>-0.379567</td>\n",
       "      <td>-0.578679</td>\n",
       "      <td>1.115408</td>\n",
       "      <td>-2.899838</td>\n",
       "    </tr>\n",
       "  </tbody>\n",
       "</table>\n",
       "</div>"
      ],
      "text/plain": [
       "         Id  SalaryNormalized  SourceName  LocationNormalized0  \\\n",
       "0  12612628           25000.0          42            -0.116790   \n",
       "1  12612830           30000.0          42            -0.118995   \n",
       "\n",
       "   LocationNormalized1    Title0    Title1  FullDescription0  FullDescription1  \n",
       "0            -0.229172 -0.211711  0.010125        -18.530014          2.881801  \n",
       "1            -0.237572 -0.379567 -0.578679          1.115408         -2.899838  "
      ]
     },
     "execution_count": 59,
     "metadata": {},
     "output_type": "execute_result"
    }
   ],
   "source": [
    "df.head(n=2)"
   ]
  },
  {
   "cell_type": "code",
   "execution_count": 60,
   "metadata": {
    "colab": {
     "autoexec": {
      "startup": false,
      "wait_interval": 0
     },
     "base_uri": "https://localhost:8080/",
     "height": 160
    },
    "colab_type": "code",
    "executionInfo": {
     "elapsed": 1926,
     "status": "ok",
     "timestamp": 1529801314400,
     "user": {
      "displayName": "Gabriel Cesar",
      "photoUrl": "//lh6.googleusercontent.com/-p5vDPiaCNfw/AAAAAAAAAAI/AAAAAAAAABs/bf-pbMKqe5c/s50-c-k-no/photo.jpg",
      "userId": "109223051625932368282"
     },
     "user_tz": 180
    },
    "id": "QB7-RNIHEwD4",
    "outputId": "1cc11811-1a6a-4572-e7c7-6f37bdef14f9"
   },
   "outputs": [
    {
     "data": {
      "text/html": [
       "<div>\n",
       "<style scoped>\n",
       "    .dataframe tbody tr th:only-of-type {\n",
       "        vertical-align: middle;\n",
       "    }\n",
       "\n",
       "    .dataframe tbody tr th {\n",
       "        vertical-align: top;\n",
       "    }\n",
       "\n",
       "    .dataframe thead th {\n",
       "        text-align: right;\n",
       "    }\n",
       "</style>\n",
       "<table border=\"1\" class=\"dataframe\">\n",
       "  <thead>\n",
       "    <tr style=\"text-align: right;\">\n",
       "      <th></th>\n",
       "      <th>Id</th>\n",
       "      <th>SalaryNormalized</th>\n",
       "      <th>SourceName</th>\n",
       "      <th>LocationNormalized0</th>\n",
       "      <th>LocationNormalized1</th>\n",
       "      <th>Title0</th>\n",
       "      <th>Title1</th>\n",
       "      <th>FullDescription0</th>\n",
       "      <th>FullDescription1</th>\n",
       "    </tr>\n",
       "  </thead>\n",
       "  <tbody>\n",
       "    <tr>\n",
       "      <th>122461</th>\n",
       "      <td>72705214</td>\n",
       "      <td>NaN</td>\n",
       "      <td>64</td>\n",
       "      <td>-0.116790</td>\n",
       "      <td>-0.229172</td>\n",
       "      <td>0.868987</td>\n",
       "      <td>-0.102754</td>\n",
       "      <td>-3.389519</td>\n",
       "      <td>-0.760345</td>\n",
       "    </tr>\n",
       "    <tr>\n",
       "      <th>122462</th>\n",
       "      <td>72705218</td>\n",
       "      <td>NaN</td>\n",
       "      <td>64</td>\n",
       "      <td>-0.118635</td>\n",
       "      <td>-0.235408</td>\n",
       "      <td>-0.168568</td>\n",
       "      <td>0.034971</td>\n",
       "      <td>-13.765711</td>\n",
       "      <td>-0.120908</td>\n",
       "    </tr>\n",
       "  </tbody>\n",
       "</table>\n",
       "</div>"
      ],
      "text/plain": [
       "              Id  SalaryNormalized  SourceName  LocationNormalized0  \\\n",
       "122461  72705214               NaN          64            -0.116790   \n",
       "122462  72705218               NaN          64            -0.118635   \n",
       "\n",
       "        LocationNormalized1    Title0    Title1  FullDescription0  \\\n",
       "122461            -0.229172  0.868987 -0.102754         -3.389519   \n",
       "122462            -0.235408 -0.168568  0.034971        -13.765711   \n",
       "\n",
       "        FullDescription1  \n",
       "122461         -0.760345  \n",
       "122462         -0.120908  "
      ]
     },
     "execution_count": 60,
     "metadata": {},
     "output_type": "execute_result"
    }
   ],
   "source": [
    "df.tail(n=2)"
   ]
  },
  {
   "cell_type": "markdown",
   "metadata": {
    "colab_type": "text",
    "id": "-EhpTVryEwD9"
   },
   "source": [
    "### Separando Train e Test "
   ]
  },
  {
   "cell_type": "code",
   "execution_count": 61,
   "metadata": {
    "colab": {
     "autoexec": {
      "startup": false,
      "wait_interval": 0
     },
     "base_uri": "https://localhost:8080/",
     "height": 37
    },
    "colab_type": "code",
    "executionInfo": {
     "elapsed": 1817,
     "status": "ok",
     "timestamp": 1529801321689,
     "user": {
      "displayName": "Gabriel Cesar",
      "photoUrl": "//lh6.googleusercontent.com/-p5vDPiaCNfw/AAAAAAAAAAI/AAAAAAAAABs/bf-pbMKqe5c/s50-c-k-no/photo.jpg",
      "userId": "109223051625932368282"
     },
     "user_tz": 180
    },
    "id": "doodiP6IEwD_",
    "outputId": "c8d75d4e-d9d0-4969-cf45-96d28e9c2b46"
   },
   "outputs": [],
   "source": [
    "X_train = df.values[:df_job_tuple[0], :df_job_tuple[0]]"
   ]
  },
  {
   "cell_type": "code",
   "execution_count": 62,
   "metadata": {
    "colab": {
     "autoexec": {
      "startup": false,
      "wait_interval": 0
     },
     "base_uri": "https://localhost:8080/",
     "height": 37
    },
    "colab_type": "code",
    "executionInfo": {
     "elapsed": 1466,
     "status": "ok",
     "timestamp": 1529801324123,
     "user": {
      "displayName": "Gabriel Cesar",
      "photoUrl": "//lh6.googleusercontent.com/-p5vDPiaCNfw/AAAAAAAAAAI/AAAAAAAAABs/bf-pbMKqe5c/s50-c-k-no/photo.jpg",
      "userId": "109223051625932368282"
     },
     "user_tz": 180
    },
    "id": "2Ryw0iShEwEE",
    "outputId": "5c518610-2da8-4e01-8c86-9def87aa91aa"
   },
   "outputs": [],
   "source": [
    "X_test = df.values[:df_test_tuple[0], :df_test_tuple[0]]"
   ]
  },
  {
   "cell_type": "code",
   "execution_count": 0,
   "metadata": {
    "colab": {
     "autoexec": {
      "startup": false,
      "wait_interval": 0
     }
    },
    "colab_type": "code",
    "id": "qKGGNDhVVf4B"
   },
   "outputs": [],
   "source": []
  },
  {
   "cell_type": "code",
   "execution_count": 63,
   "metadata": {
    "colab": {
     "autoexec": {
      "startup": false,
      "wait_interval": 0
     },
     "base_uri": "https://localhost:8080/",
     "height": 34
    },
    "colab_type": "code",
    "executionInfo": {
     "elapsed": 728,
     "status": "ok",
     "timestamp": 1529801329170,
     "user": {
      "displayName": "Gabriel Cesar",
      "photoUrl": "//lh6.googleusercontent.com/-p5vDPiaCNfw/AAAAAAAAAAI/AAAAAAAAABs/bf-pbMKqe5c/s50-c-k-no/photo.jpg",
      "userId": "109223051625932368282"
     },
     "user_tz": 180
    },
    "id": "9RLhOM49EwEI",
    "outputId": "e666aaef-3a0e-4ccf-bace-2ad37b65971e"
   },
   "outputs": [
    {
     "data": {
      "text/plain": [
       "((244766, 9), (122463, 9))"
      ]
     },
     "execution_count": 63,
     "metadata": {},
     "output_type": "execute_result"
    }
   ],
   "source": [
    "X_train.shape, X_test.shape"
   ]
  },
  {
   "cell_type": "markdown",
   "metadata": {
    "colab_type": "text",
    "id": "2QZB6KKaEwEM"
   },
   "source": [
    "## Estratificando dados"
   ]
  },
  {
   "cell_type": "code",
   "execution_count": 64,
   "metadata": {
    "colab": {
     "autoexec": {
      "startup": false,
      "wait_interval": 0
     },
     "base_uri": "https://localhost:8080/",
     "height": 37
    },
    "colab_type": "code",
    "executionInfo": {
     "elapsed": 780,
     "status": "ok",
     "timestamp": 1529801336408,
     "user": {
      "displayName": "Gabriel Cesar",
      "photoUrl": "//lh6.googleusercontent.com/-p5vDPiaCNfw/AAAAAAAAAAI/AAAAAAAAABs/bf-pbMKqe5c/s50-c-k-no/photo.jpg",
      "userId": "109223051625932368282"
     },
     "user_tz": 180
    },
    "id": "yl3cggxyEwEN",
    "outputId": "c223576e-ef0a-460a-ed48-dd16d9e76615"
   },
   "outputs": [],
   "source": [
    "scaler = StandardScaler()"
   ]
  },
  {
   "cell_type": "markdown",
   "metadata": {
    "colab_type": "text",
    "id": "btL2O-tJEwEn"
   },
   "source": [
    "## Criando Folds"
   ]
  },
  {
   "cell_type": "code",
   "execution_count": 132,
   "metadata": {
    "colab": {
     "autoexec": {
      "startup": false,
      "wait_interval": 0
     },
     "base_uri": "https://localhost:8080/",
     "height": 37
    },
    "colab_type": "code",
    "executionInfo": {
     "elapsed": 773,
     "status": "ok",
     "timestamp": 1529801345950,
     "user": {
      "displayName": "Gabriel Cesar",
      "photoUrl": "//lh6.googleusercontent.com/-p5vDPiaCNfw/AAAAAAAAAAI/AAAAAAAAABs/bf-pbMKqe5c/s50-c-k-no/photo.jpg",
      "userId": "109223051625932368282"
     },
     "user_tz": 180
    },
    "id": "SLlImgbfEwEo",
    "outputId": "e546ce8e-65e9-4332-df8d-bbe1b14a723e"
   },
   "outputs": [],
   "source": [
    "n_splits = 10\n",
    "kfold = KFold(n_splits=n_splits)"
   ]
  },
  {
   "cell_type": "markdown",
   "metadata": {},
   "source": [
    "## Função para executar modelos"
   ]
  },
  {
   "cell_type": "code",
   "execution_count": 137,
   "metadata": {},
   "outputs": [],
   "source": [
    "def cross_validation(model, X, y):\n",
    "    scoring = [ 'neg_mean_absolute_error', 'neg_mean_squared_error']\n",
    "    pipeline = Pipeline([('transformer', scaler), ('estimator', model)])\n",
    "    \n",
    "    return cross_validate(pipeline, X=X, y=y, cv=kfold, n_jobs=1, verbose=5, scoring=scoring, return_train_score=True)"
   ]
  },
  {
   "cell_type": "markdown",
   "metadata": {
    "colab_type": "text",
    "id": "YfAiDB8dEwEv"
   },
   "source": [
    "## Criando modelos"
   ]
  },
  {
   "cell_type": "code",
   "execution_count": 66,
   "metadata": {
    "colab": {
     "autoexec": {
      "startup": false,
      "wait_interval": 0
     },
     "base_uri": "https://localhost:8080/",
     "height": 37
    },
    "colab_type": "code",
    "executionInfo": {
     "elapsed": 753,
     "status": "ok",
     "timestamp": 1529801353639,
     "user": {
      "displayName": "Gabriel Cesar",
      "photoUrl": "//lh6.googleusercontent.com/-p5vDPiaCNfw/AAAAAAAAAAI/AAAAAAAAABs/bf-pbMKqe5c/s50-c-k-no/photo.jpg",
      "userId": "109223051625932368282"
     },
     "user_tz": 180
    },
    "id": "GwdEADLvEwEw",
    "outputId": "38ba3f27-9e4d-4adf-b0fd-0612650296b4"
   },
   "outputs": [],
   "source": [
    "rf_model = RandomForestRegressor(n_estimators=50, min_samples_split=30, random_state=1)"
   ]
  },
  {
   "cell_type": "code",
   "execution_count": 67,
   "metadata": {
    "colab": {
     "autoexec": {
      "startup": false,
      "wait_interval": 0
     },
     "base_uri": "https://localhost:8080/",
     "height": 37
    },
    "colab_type": "code",
    "executionInfo": {
     "elapsed": 672,
     "status": "ok",
     "timestamp": 1529801355131,
     "user": {
      "displayName": "Gabriel Cesar",
      "photoUrl": "//lh6.googleusercontent.com/-p5vDPiaCNfw/AAAAAAAAAAI/AAAAAAAAABs/bf-pbMKqe5c/s50-c-k-no/photo.jpg",
      "userId": "109223051625932368282"
     },
     "user_tz": 180
    },
    "id": "JEHZ_sfvEwE0",
    "outputId": "cadc9dd1-3a5e-4e30-a4c2-83d40c5cdb36"
   },
   "outputs": [],
   "source": [
    "gb_model = GradientBoostingRegressor(min_samples_split=30, random_state=1)"
   ]
  },
  {
   "cell_type": "code",
   "execution_count": 68,
   "metadata": {
    "colab": {
     "autoexec": {
      "startup": false,
      "wait_interval": 0
     },
     "base_uri": "https://localhost:8080/",
     "height": 37
    },
    "colab_type": "code",
    "executionInfo": {
     "elapsed": 835,
     "status": "ok",
     "timestamp": 1529801356411,
     "user": {
      "displayName": "Gabriel Cesar",
      "photoUrl": "//lh6.googleusercontent.com/-p5vDPiaCNfw/AAAAAAAAAAI/AAAAAAAAABs/bf-pbMKqe5c/s50-c-k-no/photo.jpg",
      "userId": "109223051625932368282"
     },
     "user_tz": 180
    },
    "id": "TD3Ax3vVEwE2",
    "outputId": "0cb801a2-5f25-4de7-9aea-745efecfd6f5"
   },
   "outputs": [],
   "source": [
    "lgr_model = LogisticRegression(random_state=1)"
   ]
  },
  {
   "cell_type": "code",
   "execution_count": 69,
   "metadata": {
    "colab": {
     "autoexec": {
      "startup": false,
      "wait_interval": 0
     },
     "base_uri": "https://localhost:8080/",
     "height": 37
    },
    "colab_type": "code",
    "executionInfo": {
     "elapsed": 1055,
     "status": "ok",
     "timestamp": 1529801357880,
     "user": {
      "displayName": "Gabriel Cesar",
      "photoUrl": "//lh6.googleusercontent.com/-p5vDPiaCNfw/AAAAAAAAAAI/AAAAAAAAABs/bf-pbMKqe5c/s50-c-k-no/photo.jpg",
      "userId": "109223051625932368282"
     },
     "user_tz": 180
    },
    "id": "WvFkxrQsEwE6",
    "outputId": "6f3778eb-e7fc-4f03-fb58-68cf164a6a52"
   },
   "outputs": [],
   "source": [
    "ada_model = AdaBoostRegressor(random_state=1)"
   ]
  },
  {
   "cell_type": "code",
   "execution_count": 70,
   "metadata": {
    "colab": {
     "autoexec": {
      "startup": false,
      "wait_interval": 0
     },
     "base_uri": "https://localhost:8080/",
     "height": 37
    },
    "colab_type": "code",
    "executionInfo": {
     "elapsed": 1476,
     "status": "ok",
     "timestamp": 1529801359857,
     "user": {
      "displayName": "Gabriel Cesar",
      "photoUrl": "//lh6.googleusercontent.com/-p5vDPiaCNfw/AAAAAAAAAAI/AAAAAAAAABs/bf-pbMKqe5c/s50-c-k-no/photo.jpg",
      "userId": "109223051625932368282"
     },
     "user_tz": 180
    },
    "id": "KtNyotnoEwE9",
    "outputId": "8d3f5269-5f05-4dfc-9fd4-5718ca61f69a"
   },
   "outputs": [],
   "source": [
    "knn_model = KNeighborsRegressor()"
   ]
  },
  {
   "cell_type": "markdown",
   "metadata": {
    "colab_type": "text",
    "id": "p4gR0Ps9EwFH"
   },
   "source": [
    "## Treinamento"
   ]
  },
  {
   "cell_type": "code",
   "execution_count": 134,
   "metadata": {
    "colab": {
     "autoexec": {
      "startup": false,
      "wait_interval": 0
     }
    },
    "colab_type": "code",
    "id": "RHM9qeOEMFT3"
   },
   "outputs": [],
   "source": [
    "_X_train = X_train[0:10000, :]\n",
    "_y = y[0:10000]"
   ]
  },
  {
   "cell_type": "code",
   "execution_count": 135,
   "metadata": {
    "colab": {
     "autoexec": {
      "startup": false,
      "wait_interval": 0
     }
    },
    "colab_type": "code",
    "id": "KBpmctP6RMyE"
   },
   "outputs": [
    {
     "data": {
      "text/plain": [
       "((10000, 9), (10000,))"
      ]
     },
     "execution_count": 135,
     "metadata": {},
     "output_type": "execute_result"
    }
   ],
   "source": [
    "_X_train.shape, _y.shape"
   ]
  },
  {
   "cell_type": "markdown",
   "metadata": {},
   "source": [
    "### KNN"
   ]
  },
  {
   "cell_type": "code",
   "execution_count": 142,
   "metadata": {
    "colab": {
     "autoexec": {
      "startup": false,
      "wait_interval": 0
     }
    },
    "colab_type": "code",
    "id": "3EU7lJjeAm3G"
   },
   "outputs": [
    {
     "name": "stdout",
     "output_type": "stream",
     "text": [
      "[CV]  ................................................................\n",
      "[CV]  , neg_mean_absolute_error=-2550.122, neg_mean_squared_error=-15744662.243280001, total=   0.2s\n",
      "[CV]  ................................................................\n"
     ]
    },
    {
     "name": "stderr",
     "output_type": "stream",
     "text": [
      "[Parallel(n_jobs=1)]: Done   1 out of   1 | elapsed:    1.7s remaining:    0.0s\n"
     ]
    },
    {
     "name": "stdout",
     "output_type": "stream",
     "text": [
      "[CV]  , neg_mean_absolute_error=-2214.6792, neg_mean_squared_error=-12458117.76312, total=   0.1s\n",
      "[CV]  ................................................................\n"
     ]
    },
    {
     "name": "stderr",
     "output_type": "stream",
     "text": [
      "[Parallel(n_jobs=1)]: Done   2 out of   2 | elapsed:    3.1s remaining:    0.0s\n"
     ]
    },
    {
     "name": "stdout",
     "output_type": "stream",
     "text": [
      "[CV]  , neg_mean_absolute_error=-2828.7947999999997, neg_mean_squared_error=-15848798.990559999, total=   0.2s\n",
      "[CV]  ................................................................\n"
     ]
    },
    {
     "name": "stderr",
     "output_type": "stream",
     "text": [
      "[Parallel(n_jobs=1)]: Done   3 out of   3 | elapsed:    4.4s remaining:    0.0s\n"
     ]
    },
    {
     "name": "stdout",
     "output_type": "stream",
     "text": [
      "[CV]  , neg_mean_absolute_error=-2497.3994000000002, neg_mean_squared_error=-13610335.29028, total=   0.2s\n",
      "[CV]  ................................................................\n"
     ]
    },
    {
     "name": "stderr",
     "output_type": "stream",
     "text": [
      "[Parallel(n_jobs=1)]: Done   4 out of   4 | elapsed:    5.8s remaining:    0.0s\n"
     ]
    },
    {
     "name": "stdout",
     "output_type": "stream",
     "text": [
      "[CV]  , neg_mean_absolute_error=-2165.3876, neg_mean_squared_error=-9908923.28816, total=   0.2s\n",
      "[CV]  ................................................................\n",
      "[CV]  , neg_mean_absolute_error=-2624.421, neg_mean_squared_error=-15562216.90532, total=   0.2s\n",
      "[CV]  ................................................................\n",
      "[CV]  , neg_mean_absolute_error=-2649.2385999999997, neg_mean_squared_error=-16014176.654759998, total=   0.2s\n",
      "[CV]  ................................................................\n",
      "[CV]  , neg_mean_absolute_error=-2482.4066000000003, neg_mean_squared_error=-14431853.60396, total=   0.2s\n",
      "[CV]  ................................................................\n",
      "[CV]  , neg_mean_absolute_error=-2747.912, neg_mean_squared_error=-16478976.41624, total=   0.2s\n",
      "[CV]  ................................................................\n",
      "[CV]  , neg_mean_absolute_error=-2782.3858, neg_mean_squared_error=-16022491.66852, total=   0.2s\n"
     ]
    },
    {
     "name": "stderr",
     "output_type": "stream",
     "text": [
      "[Parallel(n_jobs=1)]: Done  10 out of  10 | elapsed:   13.8s finished\n"
     ]
    },
    {
     "data": {
      "text/plain": [
       "{'fit_time': array([0.08238339, 0.01304674, 0.01403999, 0.01553154, 0.01260948,\n",
       "        0.01632166, 0.01613665, 0.01424146, 0.01343989, 0.01306725]),\n",
       " 'score_time': array([0.16094398, 0.11355901, 0.19534731, 0.19469833, 0.17406321,\n",
       "        0.16777301, 0.15837765, 0.14983416, 0.15908694, 0.1451602 ]),\n",
       " 'test_neg_mean_absolute_error': array([-2550.122 , -2214.6792, -2828.7948, -2497.3994, -2165.3876,\n",
       "        -2624.421 , -2649.2386, -2482.4066, -2747.912 , -2782.3858]),\n",
       " 'train_neg_mean_absolute_error': array([-1954.66437778, -1887.07488889, -1791.60766667, -1796.35971111,\n",
       "        -1870.7512    , -1875.34964444, -1819.23557778, -1833.56475556,\n",
       "        -1832.91535556, -1807.4956    ]),\n",
       " 'test_neg_mean_squared_error': array([-15744662.24328, -12458117.76312, -15848798.99056, -13610335.29028,\n",
       "         -9908923.28816, -15562216.90532, -16014176.65476, -14431853.60396,\n",
       "        -16478976.41624, -16022491.66852]),\n",
       " 'train_neg_mean_squared_error': array([-8701229.5046    , -8395795.83823111, -7911633.92729333,\n",
       "        -7869916.64312444, -8417395.44681778, -8405347.31143111,\n",
       "        -8110024.46326667, -8037695.80977778, -8093563.88913333,\n",
       "        -8046188.55973333])}"
      ]
     },
     "execution_count": 142,
     "metadata": {},
     "output_type": "execute_result"
    }
   ],
   "source": [
    "cv_knn = cross_validation(model=knn_model, X=_X_train, y=_y)\n",
    "cv_knn"
   ]
  },
  {
   "cell_type": "markdown",
   "metadata": {},
   "source": [
    "### ADA"
   ]
  },
  {
   "cell_type": "code",
   "execution_count": 143,
   "metadata": {
    "colab": {
     "autoexec": {
      "startup": false,
      "wait_interval": 0
     }
    },
    "colab_type": "code",
    "id": "W_R1eykiEwFO"
   },
   "outputs": [
    {
     "name": "stdout",
     "output_type": "stream",
     "text": [
      "[CV]  ................................................................\n",
      "[CV]  , neg_mean_absolute_error=-1257.442047543157, neg_mean_squared_error=-2447096.3696461488, total=   0.6s\n",
      "[CV]  ................................................................\n"
     ]
    },
    {
     "name": "stderr",
     "output_type": "stream",
     "text": [
      "[Parallel(n_jobs=1)]: Done   1 out of   1 | elapsed:    0.7s remaining:    0.0s\n"
     ]
    },
    {
     "name": "stdout",
     "output_type": "stream",
     "text": [
      "[CV]  , neg_mean_absolute_error=-1189.1709356958243, neg_mean_squared_error=-2223189.859184863, total=   0.8s\n",
      "[CV]  ................................................................\n"
     ]
    },
    {
     "name": "stderr",
     "output_type": "stream",
     "text": [
      "[Parallel(n_jobs=1)]: Done   2 out of   2 | elapsed:    1.5s remaining:    0.0s\n"
     ]
    },
    {
     "name": "stdout",
     "output_type": "stream",
     "text": [
      "[CV]  , neg_mean_absolute_error=-1083.9454787092502, neg_mean_squared_error=-1855631.928882781, total=   1.2s\n",
      "[CV]  ................................................................\n"
     ]
    },
    {
     "name": "stderr",
     "output_type": "stream",
     "text": [
      "[Parallel(n_jobs=1)]: Done   3 out of   3 | elapsed:    2.8s remaining:    0.0s\n"
     ]
    },
    {
     "name": "stdout",
     "output_type": "stream",
     "text": [
      "[CV]  , neg_mean_absolute_error=-1487.3715982455426, neg_mean_squared_error=-3761588.0604206715, total=   0.5s\n",
      "[CV]  ................................................................\n"
     ]
    },
    {
     "name": "stderr",
     "output_type": "stream",
     "text": [
      "[Parallel(n_jobs=1)]: Done   4 out of   4 | elapsed:    3.3s remaining:    0.0s\n"
     ]
    },
    {
     "name": "stdout",
     "output_type": "stream",
     "text": [
      "[CV]  , neg_mean_absolute_error=-1310.5972536349068, neg_mean_squared_error=-2692964.3258552663, total=   0.9s\n",
      "[CV]  ................................................................\n",
      "[CV]  , neg_mean_absolute_error=-1802.1741363665485, neg_mean_squared_error=-4902974.649374635, total=   0.8s\n",
      "[CV]  ................................................................\n",
      "[CV]  , neg_mean_absolute_error=-1380.4973449396166, neg_mean_squared_error=-3982149.8791560703, total=   0.7s\n",
      "[CV]  ................................................................\n",
      "[CV]  , neg_mean_absolute_error=-1441.7396684492999, neg_mean_squared_error=-3051915.462881405, total=   0.6s\n",
      "[CV]  ................................................................\n",
      "[CV]  , neg_mean_absolute_error=-1543.7290467987125, neg_mean_squared_error=-3290416.9288304797, total=   0.7s\n",
      "[CV]  ................................................................\n",
      "[CV]  , neg_mean_absolute_error=-1091.8701408406612, neg_mean_squared_error=-1966254.488529929, total=   1.2s\n"
     ]
    },
    {
     "name": "stderr",
     "output_type": "stream",
     "text": [
      "[Parallel(n_jobs=1)]: Done  10 out of  10 | elapsed:    8.5s finished\n"
     ]
    },
    {
     "data": {
      "text/plain": [
       "{'fit_time': array([0.61782336, 0.76314497, 1.151968  , 0.49003673, 0.90698767,\n",
       "        0.7666502 , 0.65726519, 0.63609624, 0.66434479, 1.16955066]),\n",
       " 'score_time': array([0.00834894, 0.00970173, 0.01907849, 0.00723267, 0.01216912,\n",
       "        0.00931382, 0.00864649, 0.010921  , 0.01091027, 0.01821923]),\n",
       " 'test_neg_mean_absolute_error': array([-1257.44204754, -1189.1709357 , -1083.94547871, -1487.37159825,\n",
       "        -1310.59725363, -1802.17413637, -1380.49734494, -1441.73966845,\n",
       "        -1543.7290468 , -1091.87014084]),\n",
       " 'train_neg_mean_absolute_error': array([-1294.58419399, -1288.47175685, -1047.69419239, -1429.17868539,\n",
       "        -1241.46957057, -1663.71923839, -1315.87213727, -1460.39681608,\n",
       "        -1527.93340331, -1070.47354605]),\n",
       " 'test_neg_mean_squared_error': array([-2447096.36964615, -2223189.85918486, -1855631.92888278,\n",
       "        -3761588.06042067, -2692964.32585527, -4902974.64937463,\n",
       "        -3982149.87915607, -3051915.4628814 , -3290416.92883048,\n",
       "        -1966254.48852993]),\n",
       " 'train_neg_mean_squared_error': array([-2773172.9172225 , -2576853.73109396, -1698368.14331404,\n",
       "        -3225984.60939912, -2480115.05006204, -4040068.7206333 ,\n",
       "        -2741427.1570551 , -3116458.95085181, -3306960.69169851,\n",
       "        -1907008.21825415])}"
      ]
     },
     "execution_count": 143,
     "metadata": {},
     "output_type": "execute_result"
    }
   ],
   "source": [
    "cv_ada = cross_validation(model=ada_model, X=_X_train, y=_y)\n",
    "cv_ada"
   ]
  },
  {
   "cell_type": "markdown",
   "metadata": {},
   "source": [
    "### Gradient Boosting"
   ]
  },
  {
   "cell_type": "code",
   "execution_count": 144,
   "metadata": {
    "colab": {
     "autoexec": {
      "startup": false,
      "wait_interval": 0
     },
     "base_uri": "https://localhost:8080/",
     "height": 1866
    },
    "colab_type": "code",
    "executionInfo": {
     "elapsed": 620046,
     "status": "error",
     "timestamp": 1527489481723,
     "user": {
      "displayName": "Gabriel Cesar",
      "photoUrl": "//lh6.googleusercontent.com/-p5vDPiaCNfw/AAAAAAAAAAI/AAAAAAAAABs/bf-pbMKqe5c/s50-c-k-no/photo.jpg",
      "userId": "109223051625932368282"
     },
     "user_tz": 180
    },
    "id": "2IRh66SLAgbA",
    "outputId": "dce47b87-c196-4d84-d65c-e12a64a195db"
   },
   "outputs": [
    {
     "name": "stdout",
     "output_type": "stream",
     "text": [
      "[CV]  ................................................................\n",
      "[CV]  , neg_mean_absolute_error=-67.30092815795007, neg_mean_squared_error=-80788.45260609436, total=   1.1s\n",
      "[CV]  ................................................................\n"
     ]
    },
    {
     "name": "stderr",
     "output_type": "stream",
     "text": [
      "[Parallel(n_jobs=1)]: Done   1 out of   1 | elapsed:    1.1s remaining:    0.0s\n"
     ]
    },
    {
     "name": "stdout",
     "output_type": "stream",
     "text": [
      "[CV]  , neg_mean_absolute_error=-60.46498147038024, neg_mean_squared_error=-9971.01019403888, total=   1.1s\n",
      "[CV]  ................................................................\n"
     ]
    },
    {
     "name": "stderr",
     "output_type": "stream",
     "text": [
      "[Parallel(n_jobs=1)]: Done   2 out of   2 | elapsed:    2.2s remaining:    0.0s\n"
     ]
    },
    {
     "name": "stdout",
     "output_type": "stream",
     "text": [
      "[CV]  , neg_mean_absolute_error=-52.47695261015145, neg_mean_squared_error=-46967.30204160595, total=   1.0s\n",
      "[CV]  ................................................................\n"
     ]
    },
    {
     "name": "stderr",
     "output_type": "stream",
     "text": [
      "[Parallel(n_jobs=1)]: Done   3 out of   3 | elapsed:    3.3s remaining:    0.0s\n"
     ]
    },
    {
     "name": "stdout",
     "output_type": "stream",
     "text": [
      "[CV]  , neg_mean_absolute_error=-54.373526364346745, neg_mean_squared_error=-9806.417986480847, total=   1.1s\n",
      "[CV]  ................................................................\n"
     ]
    },
    {
     "name": "stderr",
     "output_type": "stream",
     "text": [
      "[Parallel(n_jobs=1)]: Done   4 out of   4 | elapsed:    4.4s remaining:    0.0s\n"
     ]
    },
    {
     "name": "stdout",
     "output_type": "stream",
     "text": [
      "[CV]  , neg_mean_absolute_error=-44.49609575903625, neg_mean_squared_error=-7428.717945544002, total=   1.1s\n",
      "[CV]  ................................................................\n",
      "[CV]  , neg_mean_absolute_error=-48.717534495005694, neg_mean_squared_error=-7953.6024637814835, total=   1.0s\n",
      "[CV]  ................................................................\n",
      "[CV]  , neg_mean_absolute_error=-45.175241995388674, neg_mean_squared_error=-11583.960540118911, total=   1.0s\n",
      "[CV]  ................................................................\n",
      "[CV]  , neg_mean_absolute_error=-47.44889754410903, neg_mean_squared_error=-8361.091747525212, total=   1.0s\n",
      "[CV]  ................................................................\n",
      "[CV]  , neg_mean_absolute_error=-55.6102562079959, neg_mean_squared_error=-13680.677461129439, total=   1.1s\n",
      "[CV]  ................................................................\n",
      "[CV]  , neg_mean_absolute_error=-56.90067018536043, neg_mean_squared_error=-74653.60282511871, total=   1.0s\n"
     ]
    },
    {
     "name": "stderr",
     "output_type": "stream",
     "text": [
      "[Parallel(n_jobs=1)]: Done  10 out of  10 | elapsed:   10.9s finished\n"
     ]
    },
    {
     "data": {
      "text/plain": [
       "{'fit_time': array([1.05953479, 1.05363297, 0.99702692, 1.09057975, 1.05202579,\n",
       "        1.03469467, 1.01335287, 1.00400591, 1.08423162, 1.00319076]),\n",
       " 'score_time': array([0.005548  , 0.00565481, 0.0057559 , 0.00591278, 0.00648952,\n",
       "        0.00572777, 0.00562668, 0.00620365, 0.00620508, 0.00677609]),\n",
       " 'test_neg_mean_absolute_error': array([-67.30092816, -60.46498147, -52.47695261, -54.37352636,\n",
       "        -44.49609576, -48.7175345 , -45.175242  , -47.44889754,\n",
       "        -55.61025621, -56.90067019]),\n",
       " 'train_neg_mean_absolute_error': array([-45.31289308, -44.90129377, -49.11102351, -43.15026228,\n",
       "        -48.24343662, -46.25471808, -47.28219049, -48.53999471,\n",
       "        -47.85831803, -47.69498149]),\n",
       " 'test_neg_mean_squared_error': array([-80788.45260609,  -9971.01019404, -46967.30204161,  -9806.41798648,\n",
       "         -7428.71794554,  -7953.60246378, -11583.96054012,  -8361.09174753,\n",
       "        -13680.67746113, -74653.60282512]),\n",
       " 'train_neg_mean_squared_error': array([-7631.01840535, -7553.43067035, -7988.05674308, -6656.78303542,\n",
       "        -8068.55357946, -7549.51260642, -7698.22305627, -8086.58527603,\n",
       "        -7389.36535784, -7839.27046257])}"
      ]
     },
     "execution_count": 144,
     "metadata": {},
     "output_type": "execute_result"
    }
   ],
   "source": [
    "cv_gb = cross_validation(model=gb_model, X=_X_train, y=_y)\n",
    "cv_gb"
   ]
  },
  {
   "cell_type": "markdown",
   "metadata": {},
   "source": [
    "### Random Forest"
   ]
  },
  {
   "cell_type": "code",
   "execution_count": 138,
   "metadata": {
    "colab": {
     "autoexec": {
      "startup": false,
      "wait_interval": 0
     },
     "base_uri": "https://localhost:8080/",
     "height": 442
    },
    "colab_type": "code",
    "executionInfo": {
     "elapsed": 6282845,
     "status": "ok",
     "timestamp": 1527482202118,
     "user": {
      "displayName": "Gabriel Cesar",
      "photoUrl": "//lh6.googleusercontent.com/-p5vDPiaCNfw/AAAAAAAAAAI/AAAAAAAAABs/bf-pbMKqe5c/s50-c-k-no/photo.jpg",
      "userId": "109223051625932368282"
     },
     "user_tz": 180
    },
    "id": "qxLDy6a0EwFI",
    "outputId": "6bd7664a-5ea8-4c8d-ea48-d055e86a75e1"
   },
   "outputs": [
    {
     "name": "stdout",
     "output_type": "stream",
     "text": [
      "[CV]  ................................................................\n",
      "[CV]  , neg_mean_absolute_error=-55.562509551141346, neg_mean_squared_error=-586325.2316016416, total=   2.6s\n",
      "[CV]  ................................................................\n"
     ]
    },
    {
     "name": "stderr",
     "output_type": "stream",
     "text": [
      "[Parallel(n_jobs=1)]: Done   1 out of   1 | elapsed:    2.8s remaining:    0.0s\n"
     ]
    },
    {
     "name": "stdout",
     "output_type": "stream",
     "text": [
      "[CV]  , neg_mean_absolute_error=-22.963020819693092, neg_mean_squared_error=-5444.335279026209, total=   2.6s\n",
      "[CV]  ................................................................\n"
     ]
    },
    {
     "name": "stderr",
     "output_type": "stream",
     "text": [
      "[Parallel(n_jobs=1)]: Done   2 out of   2 | elapsed:    5.5s remaining:    0.0s\n"
     ]
    },
    {
     "name": "stdout",
     "output_type": "stream",
     "text": [
      "[CV]  , neg_mean_absolute_error=-35.89334843694616, neg_mean_squared_error=-93258.77280102817, total=   2.6s\n",
      "[CV]  ................................................................\n"
     ]
    },
    {
     "name": "stderr",
     "output_type": "stream",
     "text": [
      "[Parallel(n_jobs=1)]: Done   3 out of   3 | elapsed:    8.3s remaining:    0.0s\n"
     ]
    },
    {
     "name": "stdout",
     "output_type": "stream",
     "text": [
      "[CV]  , neg_mean_absolute_error=-81.37884162785562, neg_mean_squared_error=-771229.6259854292, total=   2.7s\n",
      "[CV]  ................................................................\n"
     ]
    },
    {
     "name": "stderr",
     "output_type": "stream",
     "text": [
      "[Parallel(n_jobs=1)]: Done   4 out of   4 | elapsed:   11.1s remaining:    0.0s\n"
     ]
    },
    {
     "name": "stdout",
     "output_type": "stream",
     "text": [
      "[CV]  , neg_mean_absolute_error=-41.08348085124478, neg_mean_squared_error=-713339.6473190195, total=   2.7s\n",
      "[CV]  ................................................................\n",
      "[CV]  , neg_mean_absolute_error=-34.737701291830305, neg_mean_squared_error=-47771.83273553999, total=   2.6s\n",
      "[CV]  ................................................................\n",
      "[CV]  , neg_mean_absolute_error=-114.57181423539531, neg_mean_squared_error=-1913367.856971233, total=   2.6s\n",
      "[CV]  ................................................................\n",
      "[CV]  , neg_mean_absolute_error=-63.0794198892261, neg_mean_squared_error=-606083.2693849637, total=   2.6s\n",
      "[CV]  ................................................................\n",
      "[CV]  , neg_mean_absolute_error=-39.05665633500016, neg_mean_squared_error=-40281.6753056752, total=   2.6s\n",
      "[CV]  ................................................................\n",
      "[CV]  , neg_mean_absolute_error=-50.68000791179162, neg_mean_squared_error=-146792.16902688204, total=   2.6s\n"
     ]
    },
    {
     "name": "stderr",
     "output_type": "stream",
     "text": [
      "[Parallel(n_jobs=1)]: Done  10 out of  10 | elapsed:   27.6s finished\n"
     ]
    }
   ],
   "source": [
    "cv_rf = cross_validation(X=_X_train, y=_y, model=rf_model)\n",
    "cv_rf"
   ]
  },
  {
   "cell_type": "code",
   "execution_count": 139,
   "metadata": {
    "colab": {
     "autoexec": {
      "startup": false,
      "wait_interval": 0
     },
     "base_uri": "https://localhost:8080/",
     "height": 224
    },
    "colab_type": "code",
    "executionInfo": {
     "elapsed": 461,
     "status": "ok",
     "timestamp": 1527483163748,
     "user": {
      "displayName": "Gabriel Cesar",
      "photoUrl": "//lh6.googleusercontent.com/-p5vDPiaCNfw/AAAAAAAAAAI/AAAAAAAAABs/bf-pbMKqe5c/s50-c-k-no/photo.jpg",
      "userId": "109223051625932368282"
     },
     "user_tz": 180
    },
    "id": "iNbmqvRbGOYi",
    "outputId": "cb3881c1-3ab8-4f33-d462-c514c2267fa8"
   },
   "outputs": [
    {
     "data": {
      "text/plain": [
       "{'fit_time': array([2.58192205, 2.59777188, 2.53510451, 2.63707209, 2.62536192,\n",
       "        2.57012105, 2.55237556, 2.60491347, 2.58832979, 2.55537987]),\n",
       " 'score_time': array([0.02659726, 0.02875805, 0.02907968, 0.02380204, 0.02556014,\n",
       "        0.02531815, 0.028651  , 0.02699685, 0.02937818, 0.02381301]),\n",
       " 'test_neg_mean_absolute_error': array([ -55.56250955,  -22.96302082,  -35.89334844,  -81.37884163,\n",
       "         -41.08348085,  -34.73770129, -114.57181424,  -63.07941989,\n",
       "         -39.05665634,  -50.68000791]),\n",
       " 'train_neg_mean_absolute_error': array([-42.04888757, -47.43308463, -48.87857052, -45.34740659,\n",
       "        -44.90841964, -47.67803349, -39.09535815, -43.04473874,\n",
       "        -47.48205401, -45.71524366]),\n",
       " 'test_neg_mean_squared_error': array([ -586325.23160164,    -5444.33527903,   -93258.77280103,\n",
       "         -771229.62598543,  -713339.64731902,   -47771.83273554,\n",
       "        -1913367.85697123,  -606083.26938496,   -40281.67530568,\n",
       "         -146792.16902688]),\n",
       " 'train_neg_mean_squared_error': array([-245260.59188032, -348715.76245108, -331284.6590631 ,\n",
       "        -286867.42571719, -279129.52038115, -348409.56806612,\n",
       "        -213040.84038144, -297098.60212458, -354762.17772512,\n",
       "        -344006.75249948])}"
      ]
     },
     "execution_count": 139,
     "metadata": {},
     "output_type": "execute_result"
    }
   ],
   "source": [
    "# cv_rf"
   ]
  },
  {
   "cell_type": "markdown",
   "metadata": {},
   "source": [
    "### Logistic Regression"
   ]
  },
  {
   "cell_type": "code",
   "execution_count": 140,
   "metadata": {
    "colab": {
     "autoexec": {
      "startup": false,
      "wait_interval": 0
     }
    },
    "colab_type": "code",
    "id": "8qASJHuyEwFM"
   },
   "outputs": [
    {
     "name": "stdout",
     "output_type": "stream",
     "text": [
      "[CV]  ................................................................\n",
      "[CV]  , neg_mean_absolute_error=-9388.959, neg_mean_squared_error=-298186838.629, total=  59.3s\n",
      "[CV]  ................................................................\n"
     ]
    },
    {
     "name": "stderr",
     "output_type": "stream",
     "text": [
      "[Parallel(n_jobs=1)]: Done   1 out of   1 | elapsed:   59.6s remaining:    0.0s\n"
     ]
    },
    {
     "name": "stdout",
     "output_type": "stream",
     "text": [
      "[CV]  , neg_mean_absolute_error=-5111.648, neg_mean_squared_error=-58447057.352, total=  58.8s\n",
      "[CV]  ................................................................\n"
     ]
    },
    {
     "name": "stderr",
     "output_type": "stream",
     "text": [
      "[Parallel(n_jobs=1)]: Done   2 out of   2 | elapsed:  2.0min remaining:    0.0s\n"
     ]
    },
    {
     "name": "stdout",
     "output_type": "stream",
     "text": [
      "[CV]  , neg_mean_absolute_error=-6677.879, neg_mean_squared_error=-102045168.657, total= 1.0min\n",
      "[CV]  ................................................................\n"
     ]
    },
    {
     "name": "stderr",
     "output_type": "stream",
     "text": [
      "[Parallel(n_jobs=1)]: Done   3 out of   3 | elapsed:  3.0min remaining:    0.0s\n"
     ]
    },
    {
     "name": "stdout",
     "output_type": "stream",
     "text": [
      "[CV]  , neg_mean_absolute_error=-6078.356, neg_mean_squared_error=-91384368.7, total= 1.0min\n",
      "[CV]  ................................................................\n"
     ]
    },
    {
     "name": "stderr",
     "output_type": "stream",
     "text": [
      "[Parallel(n_jobs=1)]: Done   4 out of   4 | elapsed:  4.0min remaining:    0.0s\n"
     ]
    },
    {
     "name": "stdout",
     "output_type": "stream",
     "text": [
      "[CV]  , neg_mean_absolute_error=-5315.759, neg_mean_squared_error=-57498299.619, total= 1.0min\n",
      "[CV]  ................................................................\n",
      "[CV]  , neg_mean_absolute_error=-5778.033, neg_mean_squared_error=-58494403.317, total=  58.7s\n",
      "[CV]  ................................................................\n",
      "[CV]  , neg_mean_absolute_error=-6840.943, neg_mean_squared_error=-119362198.729, total= 1.0min\n",
      "[CV]  ................................................................\n",
      "[CV]  , neg_mean_absolute_error=-7490.043, neg_mean_squared_error=-130218972.545, total= 1.0min\n",
      "[CV]  ................................................................\n",
      "[CV]  , neg_mean_absolute_error=-7911.921, neg_mean_squared_error=-140723642.127, total=  59.9s\n",
      "[CV]  ................................................................\n",
      "[CV]  , neg_mean_absolute_error=-7854.64, neg_mean_squared_error=-135600951.766, total=  59.9s\n"
     ]
    },
    {
     "name": "stderr",
     "output_type": "stream",
     "text": [
      "[Parallel(n_jobs=1)]: Done  10 out of  10 | elapsed: 10.1min finished\n"
     ]
    }
   ],
   "source": [
    "cv_lgr = cross_validation(model=lgr_model, X=_X_train, y=_y)\n",
    "cv_lgr"
   ]
  },
  {
   "cell_type": "code",
   "execution_count": 141,
   "metadata": {},
   "outputs": [
    {
     "data": {
      "text/plain": [
       "{'fit_time': array([59.27159739, 58.77196527, 60.06457376, 60.46583629, 61.50546384,\n",
       "        58.65249777, 61.27168941, 60.19165301, 59.83763933, 59.86498761]),\n",
       " 'score_time': array([0.01460624, 0.0123167 , 0.01384878, 0.013659  , 0.01427674,\n",
       "        0.0137887 , 0.01442432, 0.01476526, 0.0124917 , 0.01391506]),\n",
       " 'test_neg_mean_absolute_error': array([-9388.959, -5111.648, -6677.879, -6078.356, -5315.759, -5778.033,\n",
       "        -6840.943, -7490.043, -7911.921, -7854.64 ]),\n",
       " 'train_neg_mean_absolute_error': array([-6396.45722222, -6387.49566667, -6002.62811111, -5871.79622222,\n",
       "        -5904.23644444, -6118.644     , -5911.43333333, -5749.06744444,\n",
       "        -6107.43955556, -6118.50133333]),\n",
       " 'test_neg_mean_squared_error': array([-2.98186839e+08, -5.84470574e+07, -1.02045169e+08, -9.13843687e+07,\n",
       "        -5.74982996e+07, -5.84944033e+07, -1.19362199e+08, -1.30218973e+08,\n",
       "        -1.40723642e+08, -1.35600952e+08]),\n",
       " 'train_neg_mean_squared_error': array([-1.01885621e+08, -9.74869099e+07, -9.05698015e+07, -8.67255023e+07,\n",
       "        -8.63478818e+07, -9.39615060e+07, -7.93962169e+07, -8.01996839e+07,\n",
       "        -9.13643582e+07, -8.91641978e+07])}"
      ]
     },
     "execution_count": 141,
     "metadata": {},
     "output_type": "execute_result"
    }
   ],
   "source": [
    "# cv_lgr"
   ]
  },
  {
   "cell_type": "markdown",
   "metadata": {
    "colab_type": "text",
    "id": "vfOnUk1RU5nq"
   },
   "source": []
  }
 ],
 "metadata": {
  "colab": {
   "collapsed_sections": [
    "OHzogV28EwBJ",
    "SUuskyQsEwBP",
    "TuGX7DRrEwBW",
    "3qa4BYJUEwBb",
    "iILrtpDxEwBi",
    "uIOf83lkEwBm",
    "JeIbKYJCEwBz",
    "FDBRPSj_EwB8",
    "ztzrX_FOEwCE",
    "slLrezFsEwCZ",
    "WUHN-XxLEwCv",
    "tL-laH_pEwC-",
    "xDIMGEN7EwDG",
    "3UqZ9i79EwDN",
    "-EhpTVryEwD9",
    "btL2O-tJEwEn"
   ],
   "default_view": {},
   "name": "Job Salary Prediction.ipynb",
   "provenance": [],
   "version": "0.3.2",
   "views": {}
  },
  "kernelspec": {
   "display_name": "Python 3",
   "language": "python",
   "name": "python3"
  },
  "language_info": {
   "codemirror_mode": {
    "name": "ipython",
    "version": 3
   },
   "file_extension": ".py",
   "mimetype": "text/x-python",
   "name": "python",
   "nbconvert_exporter": "python",
   "pygments_lexer": "ipython3",
   "version": "3.6.5"
  }
 },
 "nbformat": 4,
 "nbformat_minor": 1
}
