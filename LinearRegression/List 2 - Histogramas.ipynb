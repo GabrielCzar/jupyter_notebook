{
 "cells": [
  {
   "cell_type": "markdown",
   "metadata": {},
   "source": [
    "### IMPORTS"
   ]
  },
  {
   "cell_type": "code",
   "execution_count": 142,
   "metadata": {
    "collapsed": true
   },
   "outputs": [],
   "source": [
    "%matplotlib inline\n",
    "from matplotlib import pyplot as plt\n",
    "from sklearn import linear_model\n",
    "import pandas as pd\n",
    "import numpy as np"
   ]
  },
  {
   "cell_type": "markdown",
   "metadata": {},
   "source": [
    "# Histograma"
   ]
  },
  {
   "cell_type": "markdown",
   "metadata": {},
   "source": [
    "## Dataset"
   ]
  },
  {
   "cell_type": "code",
   "execution_count": 97,
   "metadata": {
    "collapsed": true
   },
   "outputs": [],
   "source": [
    "X = np.array([0, 5, 2, 1, 5, 3, 4, 0, 5, 5])"
   ]
  },
  {
   "cell_type": "markdown",
   "metadata": {},
   "source": [
    "### Média"
   ]
  },
  {
   "cell_type": "code",
   "execution_count": 98,
   "metadata": {},
   "outputs": [
    {
     "data": {
      "text/plain": [
       "3.0"
      ]
     },
     "execution_count": 98,
     "metadata": {},
     "output_type": "execute_result"
    }
   ],
   "source": [
    "mean = np.mean(X)\n",
    "mean"
   ]
  },
  {
   "cell_type": "markdown",
   "metadata": {},
   "source": [
    "### Variância"
   ]
  },
  {
   "cell_type": "code",
   "execution_count": 99,
   "metadata": {},
   "outputs": [
    {
     "data": {
      "text/plain": [
       "4.0"
      ]
     },
     "execution_count": 99,
     "metadata": {},
     "output_type": "execute_result"
    }
   ],
   "source": [
    "variance = np.var(X)\n",
    "variance"
   ]
  },
  {
   "cell_type": "markdown",
   "metadata": {},
   "source": [
    "### Desvio Padrão"
   ]
  },
  {
   "cell_type": "code",
   "execution_count": 100,
   "metadata": {},
   "outputs": [
    {
     "data": {
      "text/plain": [
       "2.0"
      ]
     },
     "execution_count": 100,
     "metadata": {},
     "output_type": "execute_result"
    }
   ],
   "source": [
    "std = np.std(X)\n",
    "std"
   ]
  },
  {
   "cell_type": "markdown",
   "metadata": {},
   "source": [
    "### Histograma"
   ]
  },
  {
   "cell_type": "code",
   "execution_count": 101,
   "metadata": {},
   "outputs": [
    {
     "data": {
      "text/plain": [
       "(array([ 2.,  0.,  1.,  0.,  1.,  0.,  1.,  0.,  1.,  4.]),\n",
       " array([ 0. ,  0.5,  1. ,  1.5,  2. ,  2.5,  3. ,  3.5,  4. ,  4.5,  5. ]),\n",
       " <a list of 10 Patch objects>)"
      ]
     },
     "execution_count": 101,
     "metadata": {},
     "output_type": "execute_result"
    },
    {
     "data": {
      "image/png": "[encoded data removed]",
      "text/plain": [
       "<matplotlib.figure.Figure at 0x7fc5a86d8fd0>"
      ]
     },
     "metadata": {},
     "output_type": "display_data"
    }
   ],
   "source": [
    "plt.hist(X)"
   ]
  },
  {
   "cell_type": "markdown",
   "metadata": {},
   "source": [
    "## Histograma de uma distribuição normal Randomica"
   ]
  },
  {
   "cell_type": "code",
   "execution_count": 110,
   "metadata": {},
   "outputs": [],
   "source": [
    "hr = np.random.normal(loc=60, scale=10, size=5000)"
   ]
  },
  {
   "cell_type": "markdown",
   "metadata": {},
   "source": [
    "### Media"
   ]
  },
  {
   "cell_type": "code",
   "execution_count": 111,
   "metadata": {},
   "outputs": [
    {
     "data": {
      "text/plain": [
       "60.000953859427106"
      ]
     },
     "execution_count": 111,
     "metadata": {},
     "output_type": "execute_result"
    }
   ],
   "source": [
    "hr.mean()"
   ]
  },
  {
   "cell_type": "markdown",
   "metadata": {},
   "source": [
    "### Desvio Padrao"
   ]
  },
  {
   "cell_type": "code",
   "execution_count": 128,
   "metadata": {},
   "outputs": [
    {
     "data": {
      "text/plain": [
       "10.025778185210493"
      ]
     },
     "execution_count": 128,
     "metadata": {},
     "output_type": "execute_result"
    }
   ],
   "source": [
    "hr.std()"
   ]
  },
  {
   "cell_type": "markdown",
   "metadata": {},
   "source": [
    "### Histograma"
   ]
  },
  {
   "cell_type": "code",
   "execution_count": 130,
   "metadata": {},
   "outputs": [
    {
     "data": {
      "text/plain": [
       "(array([   1.,    0.,    0.,    1.,    0.,    1.,    2.,    4.,    3.,\n",
       "           8.,    8.,   20.,   27.,   40.,   42.,   57.,   79.,  106.,\n",
       "         147.,  160.,  190.,  216.,  240.,  247.,  306.,  287.,  328.,\n",
       "         315.,  301.,  298.,  247.,  213.,  240.,  198.,  141.,  133.,\n",
       "         109.,   79.,   60.,   31.,   44.,   17.,   15.,   12.,    7.,\n",
       "           4.,    9.,    4.,    1.,    2.]),\n",
       " array([ 18.05235792,  19.60873001,  21.16510211,  22.7214742 ,\n",
       "         24.2778463 ,  25.83421839,  27.39059049,  28.94696258,\n",
       "         30.50333468,  32.05970677,  33.61607887,  35.17245096,\n",
       "         36.72882305,  38.28519515,  39.84156724,  41.39793934,\n",
       "         42.95431143,  44.51068353,  46.06705562,  47.62342772,\n",
       "         49.17979981,  50.73617191,  52.292544  ,  53.8489161 ,\n",
       "         55.40528819,  56.96166029,  58.51803238,  60.07440448,\n",
       "         61.63077657,  63.18714867,  64.74352076,  66.29989286,\n",
       "         67.85626495,  69.41263705,  70.96900914,  72.52538123,\n",
       "         74.08175333,  75.63812542,  77.19449752,  78.75086961,\n",
       "         80.30724171,  81.8636138 ,  83.4199859 ,  84.97635799,\n",
       "         86.53273009,  88.08910218,  89.64547428,  91.20184637,\n",
       "         92.75821847,  94.31459056,  95.87096266]),\n",
       " <a list of 50 Patch objects>)"
      ]
     },
     "execution_count": 130,
     "metadata": {},
     "output_type": "execute_result"
    },
    {
     "data": {
      "image/png": "[encoded data removed]",
      "text/plain": [
       "<matplotlib.figure.Figure at 0x7fc5a7935710>"
      ]
     },
     "metadata": {},
     "output_type": "display_data"
    }
   ],
   "source": [
    "plt.hist(hr, bins=50)"
   ]
  },
  {
   "cell_type": "markdown",
   "metadata": {},
   "source": [
    "## Histograma - Outras variações"
   ]
  },
  {
   "cell_type": "markdown",
   "metadata": {},
   "source": [
    "### Exponencial"
   ]
  },
  {
   "cell_type": "code",
   "execution_count": 116,
   "metadata": {
    "collapsed": true
   },
   "outputs": [],
   "source": [
    "exp = np.random.exponential(size=10000)"
   ]
  },
  {
   "cell_type": "code",
   "execution_count": 119,
   "metadata": {},
   "outputs": [
    {
     "data": {
      "text/plain": [
       "(array([ 796.,  687.,  661.,  579.,  566.,  492.,  441.,  443.,  395.,\n",
       "         388.,  355.,  310.,  273.,  230.,  242.,  242.,  229.,  208.,\n",
       "         188.,  166.,  145.,  147.,  136.,  128.,  111.,  131.,   89.,\n",
       "          93.,   98.,   81.,   67.,   66.,   66.,   50.,   43.,   47.,\n",
       "          36.,   31.,   41.,   33.,   28.,   32.,   29.,   28.,   24.,\n",
       "          38.,   20.,   22.,   27.,   14.,   16.,   11.,   11.,   11.,\n",
       "          17.,   10.,   14.,    7.,   11.,    9.,    5.,    5.,   10.,\n",
       "           3.,    8.,    9.,    4.,    4.,    6.,    2.,    0.,    3.,\n",
       "           4.,    0.,    6.,    2.,    1.,    0.,    0.,    1.,    1.,\n",
       "           2.,    5.,    1.,    1.,    1.,    0.,    1.,    0.,    2.,\n",
       "           0.,    1.,    2.,    0.,    0.,    0.,    0.,    0.,    0.,    1.]),\n",
       " array([  2.94765484e-05,   7.83187492e-02,   1.56608022e-01,\n",
       "          2.34897295e-01,   3.13186567e-01,   3.91475840e-01,\n",
       "          4.69765113e-01,   5.48054385e-01,   6.26343658e-01,\n",
       "          7.04632931e-01,   7.82922203e-01,   8.61211476e-01,\n",
       "          9.39500749e-01,   1.01779002e+00,   1.09607929e+00,\n",
       "          1.17436857e+00,   1.25265784e+00,   1.33094711e+00,\n",
       "          1.40923638e+00,   1.48752566e+00,   1.56581493e+00,\n",
       "          1.64410420e+00,   1.72239348e+00,   1.80068275e+00,\n",
       "          1.87897202e+00,   1.95726129e+00,   2.03555057e+00,\n",
       "          2.11383984e+00,   2.19212911e+00,   2.27041838e+00,\n",
       "          2.34870766e+00,   2.42699693e+00,   2.50528620e+00,\n",
       "          2.58357547e+00,   2.66186475e+00,   2.74015402e+00,\n",
       "          2.81844329e+00,   2.89673257e+00,   2.97502184e+00,\n",
       "          3.05331111e+00,   3.13160038e+00,   3.20988966e+00,\n",
       "          3.28817893e+00,   3.36646820e+00,   3.44475747e+00,\n",
       "          3.52304675e+00,   3.60133602e+00,   3.67962529e+00,\n",
       "          3.75791456e+00,   3.83620384e+00,   3.91449311e+00,\n",
       "          3.99278238e+00,   4.07107166e+00,   4.14936093e+00,\n",
       "          4.22765020e+00,   4.30593947e+00,   4.38422875e+00,\n",
       "          4.46251802e+00,   4.54080729e+00,   4.61909656e+00,\n",
       "          4.69738584e+00,   4.77567511e+00,   4.85396438e+00,\n",
       "          4.93225365e+00,   5.01054293e+00,   5.08883220e+00,\n",
       "          5.16712147e+00,   5.24541075e+00,   5.32370002e+00,\n",
       "          5.40198929e+00,   5.48027856e+00,   5.55856784e+00,\n",
       "          5.63685711e+00,   5.71514638e+00,   5.79343565e+00,\n",
       "          5.87172493e+00,   5.95001420e+00,   6.02830347e+00,\n",
       "          6.10659274e+00,   6.18488202e+00,   6.26317129e+00,\n",
       "          6.34146056e+00,   6.41974984e+00,   6.49803911e+00,\n",
       "          6.57632838e+00,   6.65461765e+00,   6.73290693e+00,\n",
       "          6.81119620e+00,   6.88948547e+00,   6.96777474e+00,\n",
       "          7.04606402e+00,   7.12435329e+00,   7.20264256e+00,\n",
       "          7.28093183e+00,   7.35922111e+00,   7.43751038e+00,\n",
       "          7.51579965e+00,   7.59408893e+00,   7.67237820e+00,\n",
       "          7.75066747e+00,   7.82895674e+00]),\n",
       " <a list of 100 Patch objects>)"
      ]
     },
     "execution_count": 119,
     "metadata": {},
     "output_type": "execute_result"
    },
    {
     "data": {
      "image/png": "[encoded data removed]",
      "text/plain": [
       "<matplotlib.figure.Figure at 0x7fc5a85075c0>"
      ]
     },
     "metadata": {},
     "output_type": "display_data"
    }
   ],
   "source": [
    "plt.hist(exp, bins=100)"
   ]
  },
  {
   "cell_type": "markdown",
   "metadata": {},
   "source": [
    "### Poisson"
   ]
  },
  {
   "cell_type": "code",
   "execution_count": 138,
   "metadata": {},
   "outputs": [],
   "source": [
    "ps = np.random.poisson(size=10000)"
   ]
  },
  {
   "cell_type": "code",
   "execution_count": 141,
   "metadata": {},
   "outputs": [
    {
     "data": {
      "text/plain": [
       "(array([ 3734.,     0.,     0.,     0.,     0.,     0.,     0.,     0.,\n",
       "         3688.,     0.,     0.,     0.,     0.,     0.,     0.,     0.,\n",
       "         1825.,     0.,     0.,     0.,     0.,     0.,     0.,     0.,\n",
       "            0.,   565.,     0.,     0.,     0.,     0.,     0.,     0.,\n",
       "            0.,   157.,     0.,     0.,     0.,     0.,     0.,     0.,\n",
       "            0.,    25.,     0.,     0.,     0.,     0.,     0.,     0.,\n",
       "            0.,     6.]),\n",
       " array([ 0.  ,  0.12,  0.24,  0.36,  0.48,  0.6 ,  0.72,  0.84,  0.96,\n",
       "         1.08,  1.2 ,  1.32,  1.44,  1.56,  1.68,  1.8 ,  1.92,  2.04,\n",
       "         2.16,  2.28,  2.4 ,  2.52,  2.64,  2.76,  2.88,  3.  ,  3.12,\n",
       "         3.24,  3.36,  3.48,  3.6 ,  3.72,  3.84,  3.96,  4.08,  4.2 ,\n",
       "         4.32,  4.44,  4.56,  4.68,  4.8 ,  4.92,  5.04,  5.16,  5.28,\n",
       "         5.4 ,  5.52,  5.64,  5.76,  5.88,  6.  ]),\n",
       " <a list of 50 Patch objects>)"
      ]
     },
     "execution_count": 141,
     "metadata": {},
     "output_type": "execute_result"
    },
    {
     "data": {
      "image/png": "[encoded data removed]",
      "text/plain": [
       "<matplotlib.figure.Figure at 0x7fc5a70226a0>"
      ]
     },
     "metadata": {},
     "output_type": "display_data"
    }
   ],
   "source": [
    "plt.hist(ps, bins=50)"
   ]
  },
  {
   "cell_type": "markdown",
   "metadata": {},
   "source": [
    "# Gradiente Descendente"
   ]
  },
  {
   "cell_type": "code",
   "execution_count": 150,
   "metadata": {
    "collapsed": true
   },
   "outputs": [],
   "source": [
    "# y = b0 + b1 * x\n",
    "# b1 é a inclinação, b0 é y-intercept\n",
    "def compute_error_for_line_given_points(b0, b1, x, y):\n",
    "    totalError = np.sum((y - (b1 * x + b0)) ** 2)\n",
    "    return totalError / float(len(y))\n",
    "\n",
    "def step_gradient(b0_current, b1_current, x, y, learning_rate):\n",
    "    N = float(len(y))\n",
    "    b0_gradient = 2/N * np.sum(-(y - ((b1_current * x) + b0_current)))\n",
    "    b1_gradient = 2/N * np.sum(-x * (y - ((b1_current * x) + b0_current)))\n",
    "    new_b0 = b0_current - (learning_rate * b0_gradient)\n",
    "    new_b1 = b1_current - (learning_rate * b1_gradient)\n",
    "    return new_b0, new_b1\n",
    "\n",
    "def gradient_descent_runner(x, y, b0, b1, learning_rate, num_iterations):\n",
    "    for _ in range(num_iterations):\n",
    "        b0, b1 = step_gradient(b0, b1, x, y, learning_rate)\n",
    "    return b0, b1\n",
    "\n",
    "def run(x, y, initial_b0, initial_b1, learning_rate, num_iterations):\n",
    "    print(\"Inicia com b0 = {}, b1 = {}, error = {}\".format(initial_b0, initial_b1, compute_error_for_line_given_points(initial_b0, initial_b1, x, y)))  \n",
    "    print(\"Executando...\")\n",
    "    b0, b1 = gradient_descent_runner(x, y, initial_b0, initial_b1, learning_rate, num_iterations)\n",
    "    err = compute_error_for_line_given_points(b0, b1, x, y)\n",
    "    print(\"Após {} iterações, obtemos b0 = {}, b1 = {}, error = {}\".format(num_iterations, b0, b1, err))\n",
    "    return err"
   ]
  },
  {
   "cell_type": "markdown",
   "metadata": {},
   "source": [
    "### Load dataset"
   ]
  },
  {
   "cell_type": "code",
   "execution_count": 151,
   "metadata": {
    "collapsed": true
   },
   "outputs": [],
   "source": [
    "points = np.genfromtxt(\"data.csv\", delimiter=\",\")"
   ]
  },
  {
   "cell_type": "code",
   "execution_count": 152,
   "metadata": {},
   "outputs": [
    {
     "data": {
      "text/plain": [
       "(100, 2)"
      ]
     },
     "execution_count": 152,
     "metadata": {},
     "output_type": "execute_result"
    }
   ],
   "source": [
    "points.shape"
   ]
  },
  {
   "cell_type": "markdown",
   "metadata": {},
   "source": [
    "### Execução "
   ]
  },
  {
   "cell_type": "markdown",
   "metadata": {},
   "source": [
    "#### Grandiente Descendente"
   ]
  },
  {
   "cell_type": "code",
   "execution_count": 170,
   "metadata": {},
   "outputs": [
    {
     "name": "stdout",
     "output_type": "stream",
     "text": [
      "Inicia com b0 = 0, b1 = 0, error = 5565.107834483214\n",
      "Executando...\n",
      "Após 1000000 iterações, obtemos b0 = 7.986822773189424, b1 = 1.3225135372757006, error = 110.25738413161345\n",
      "CPU times: user 29 s, sys: 0 ns, total: 29 s\n",
      "Wall time: 29 s\n"
     ]
    }
   ],
   "source": [
    "%%time\n",
    "x = points[:, 0]\n",
    "y = points[:, 1]\n",
    "learning_rate = 0.0001\n",
    "initial_b0 = 0 # y-intercept inicial\n",
    "initial_b1 = 0 # inclinação inicial\n",
    "num_iterations = 1000000\n",
    "error = run(x, y, initial_b0, initial_b1, learning_rate, num_iterations)"
   ]
  },
  {
   "cell_type": "markdown",
   "metadata": {},
   "source": [
    "#### Linear Regression"
   ]
  },
  {
   "cell_type": "code",
   "execution_count": 173,
   "metadata": {},
   "outputs": [
    {
     "name": "stdout",
     "output_type": "stream",
     "text": [
      "b0 = 7.991020982270399, b1 = [ 1.32243102], error = 110.25738346621316\n",
      "CPU times: user 6.4 ms, sys: 31 µs, total: 6.43 ms\n",
      "Wall time: 3.56 ms\n"
     ]
    }
   ],
   "source": [
    "%%time\n",
    "model = linear_model.LinearRegression()\n",
    "X = [ [i] for i in x ] \n",
    "model.fit(X, y)\n",
    "b0, b1 = model.intercept_, model.coef_\n",
    "y_pred = model.predict(X)\n",
    "err = compute_error_for_line_given_points(b0, b1, x, y)\n",
    "print(\"b0 = {}, b1 = {}, error = {}\".format(b0, b1, err))"
   ]
  },
  {
   "cell_type": "markdown",
   "metadata": {},
   "source": [
    "### Diferenca entre as margens de erro"
   ]
  },
  {
   "cell_type": "code",
   "execution_count": 176,
   "metadata": {},
   "outputs": [
    {
     "data": {
      "text/plain": [
       "True"
      ]
     },
     "execution_count": 176,
     "metadata": {},
     "output_type": "execute_result"
    }
   ],
   "source": [
    "diff = abs(error - err) < 0.01\n",
    "diff"
   ]
  },
  {
   "cell_type": "markdown",
   "metadata": {},
   "source": [
    "### O que ocorre quando aumenta a taxa de aprendizagem"
   ]
  },
  {
   "cell_type": "code",
   "execution_count": 185,
   "metadata": {},
   "outputs": [
    {
     "name": "stdout",
     "output_type": "stream",
     "text": [
      "Inicia com b0 = 0, b1 = 0, error = 5565.107834483214\n",
      "Executando...\n"
     ]
    },
    {
     "name": "stderr",
     "output_type": "stream",
     "text": [
      "/home/unknown/anaconda3/lib/python3.6/site-packages/ipykernel_launcher.py:12: RuntimeWarning: invalid value encountered in double_scalars\n",
      "  if sys.path[0] == '':\n"
     ]
    },
    {
     "name": "stdout",
     "output_type": "stream",
     "text": [
      "Após 100000 iterações, obtemos b0 = nan, b1 = nan, error = nan\n",
      "CPU times: user 3.02 s, sys: 10 µs, total: 3.02 s\n",
      "Wall time: 3.03 s\n"
     ]
    }
   ],
   "source": [
    "%%time\n",
    "x = points[:, 0]\n",
    "y = points[:, 1]\n",
    "learning_rate = 0.01\n",
    "initial_b0 = 0 # y-intercept inicial\n",
    "initial_b1 = 0 # inclinação inicial\n",
    "num_iterations = 100000\n",
    "error = run(x, y, initial_b0, initial_b1, learning_rate, num_iterations)"
   ]
  },
  {
   "cell_type": "markdown",
   "metadata": {},
   "source": [
    "Bom, ocorre um overflow."
   ]
  },
  {
   "cell_type": "markdown",
   "metadata": {},
   "source": [
    "### Num iterações para 0.01 de Learning Rate"
   ]
  },
  {
   "cell_type": "code",
   "execution_count": 218,
   "metadata": {},
   "outputs": [
    {
     "name": "stdout",
     "output_type": "stream",
     "text": [
      "Inicia com b0 = 0, b1 = 0, error = 5565.107834483214\n",
      "Executando...\n",
      "Após 1 iterações, obtemos b0 = 1.4547010110737293, b1 = 73.70702973591055, error = 13005291.973556831\n",
      "CPU times: user 760 µs, sys: 8 µs, total: 768 µs\n",
      "Wall time: 643 µs\n"
     ]
    }
   ],
   "source": [
    "%%time\n",
    "x = points[:, 0]\n",
    "y = points[:, 1]\n",
    "learning_rate = 0.01\n",
    "initial_b0 = 0 # y-intercept inicial\n",
    "initial_b1 = 0 # inclinação inicial\n",
    "MAX_ITERATIONS = 90\n",
    "num_iterations = 1\n",
    "error = run(x, y, initial_b0, initial_b1, learning_rate, num_iterations)"
   ]
  },
  {
   "cell_type": "markdown",
   "metadata": {},
   "source": [
    "## Predição do valor de casas"
   ]
  },
  {
   "cell_type": "markdown",
   "metadata": {},
   "source": [
    "### Dataset"
   ]
  },
  {
   "cell_type": "code",
   "execution_count": 247,
   "metadata": {},
   "outputs": [
    {
     "data": {
      "text/html": [
       "<div>\n",
       "<style>\n",
       "    .dataframe thead tr:only-child th {\n",
       "        text-align: right;\n",
       "    }\n",
       "\n",
       "    .dataframe thead th {\n",
       "        text-align: left;\n",
       "    }\n",
       "\n",
       "    .dataframe tbody tr th {\n",
       "        vertical-align: top;\n",
       "    }\n",
       "</style>\n",
       "<table border=\"1\" class=\"dataframe\">\n",
       "  <thead>\n",
       "    <tr style=\"text-align: right;\">\n",
       "      <th></th>\n",
       "      <th>Casa sq.ft(X)</th>\n",
       "      <th>Price Y</th>\n",
       "    </tr>\n",
       "  </thead>\n",
       "  <tbody>\n",
       "    <tr>\n",
       "      <th>0</th>\n",
       "      <td>1400</td>\n",
       "      <td>245000</td>\n",
       "    </tr>\n",
       "    <tr>\n",
       "      <th>1</th>\n",
       "      <td>1600</td>\n",
       "      <td>312000</td>\n",
       "    </tr>\n",
       "    <tr>\n",
       "      <th>2</th>\n",
       "      <td>1700</td>\n",
       "      <td>279000</td>\n",
       "    </tr>\n",
       "    <tr>\n",
       "      <th>3</th>\n",
       "      <td>1875</td>\n",
       "      <td>308000</td>\n",
       "    </tr>\n",
       "    <tr>\n",
       "      <th>4</th>\n",
       "      <td>1100</td>\n",
       "      <td>199000</td>\n",
       "    </tr>\n",
       "    <tr>\n",
       "      <th>5</th>\n",
       "      <td>1550</td>\n",
       "      <td>219000</td>\n",
       "    </tr>\n",
       "    <tr>\n",
       "      <th>6</th>\n",
       "      <td>2350</td>\n",
       "      <td>405000</td>\n",
       "    </tr>\n",
       "    <tr>\n",
       "      <th>7</th>\n",
       "      <td>2450</td>\n",
       "      <td>324000</td>\n",
       "    </tr>\n",
       "    <tr>\n",
       "      <th>8</th>\n",
       "      <td>1425</td>\n",
       "      <td>319000</td>\n",
       "    </tr>\n",
       "    <tr>\n",
       "      <th>9</th>\n",
       "      <td>1700</td>\n",
       "      <td>255000</td>\n",
       "    </tr>\n",
       "  </tbody>\n",
       "</table>\n",
       "</div>"
      ],
      "text/plain": [
       "   Casa sq.ft(X)  Price Y\n",
       "0           1400   245000\n",
       "1           1600   312000\n",
       "2           1700   279000\n",
       "3           1875   308000\n",
       "4           1100   199000\n",
       "5           1550   219000\n",
       "6           2350   405000\n",
       "7           2450   324000\n",
       "8           1425   319000\n",
       "9           1700   255000"
      ]
     },
     "execution_count": 247,
     "metadata": {},
     "output_type": "execute_result"
    }
   ],
   "source": [
    "casas = pd.DataFrame([\n",
    "    [1400, 245000],\n",
    "    [1600, 312000],\n",
    "    [1700, 279000],\n",
    "    [1875, 308000],\n",
    "    [1100, 199000],\n",
    "    [1550, 219000],\n",
    "    [2350, 405000],\n",
    "    [2450, 324000],\n",
    "    [1425, 319000],\n",
    "    [1700, 255000],\n",
    "], columns=['Casa sq.ft(X)', 'Price Y'])\n",
    "\n",
    "casas"
   ]
  },
  {
   "cell_type": "code",
   "execution_count": 248,
   "metadata": {},
   "outputs": [],
   "source": [
    "# Convert pés quadrados a metros quadrados\n",
    "def m2(ft): return ft / 10.764"
   ]
  },
  {
   "cell_type": "code",
   "execution_count": 249,
   "metadata": {},
   "outputs": [
    {
     "name": "stdout",
     "output_type": "stream",
     "text": [
      "[ 130.06317354  148.6436269   157.93385359  174.19175028  102.1924935\n",
      "  143.99851356  218.32032702  227.6105537   132.38573021  157.93385359]\n",
      "[245000 312000 279000 308000 199000 219000 405000 324000 319000 255000]\n"
     ]
    }
   ],
   "source": [
    "Xc = m2(np.array(casas)[:,0])\n",
    "yc = np.array(casas)[:,1]\n",
    "print (Xc)\n",
    "print (yc)"
   ]
  },
  {
   "cell_type": "code",
   "execution_count": 268,
   "metadata": {},
   "outputs": [
    {
     "name": "stdout",
     "output_type": "stream",
     "text": [
      "Inicia com b0 = 0, b1 = 0, error = 85342300000.0\n",
      "Executando...\n",
      "Após 1000000 iterações, obtemos b0 = 62624.176018587714, b1 = 1393.7906695233057, error = 1430924448.291332\n",
      "CPU times: user 26.9 s, sys: 240 ms, total: 27.2 s\n",
      "Wall time: 27 s\n"
     ]
    }
   ],
   "source": [
    "%%time\n",
    "learning_rate = 0.00001\n",
    "initial_b0 = 0 # y-intercept inicial\n",
    "initial_b1 = 0 # inclinação inicial\n",
    "num_iterations = 1000000\n",
    "error = run(Xc, yc, initial_b0, initial_b1, learning_rate, num_iterations)"
   ]
  },
  {
   "cell_type": "code",
   "execution_count": 269,
   "metadata": {
    "collapsed": true
   },
   "outputs": [],
   "source": [
    "model = linear_model.LinearRegression()"
   ]
  },
  {
   "cell_type": "code",
   "execution_count": 272,
   "metadata": {},
   "outputs": [
    {
     "data": {
      "text/plain": [
       "LinearRegression(copy_X=True, fit_intercept=True, n_jobs=1, normalize=False)"
      ]
     },
     "execution_count": 272,
     "metadata": {},
     "output_type": "execute_result"
    }
   ],
   "source": [
    "Xcc = [ [i] for i in Xc ]\n",
    "model.fit(Xcc, yc)"
   ]
  },
  {
   "cell_type": "code",
   "execution_count": 281,
   "metadata": {},
   "outputs": [
    {
     "data": {
      "text/plain": [
       "(array([ 1181.53993]), 98248.329621380806)"
      ]
     },
     "execution_count": 281,
     "metadata": {},
     "output_type": "execute_result"
    }
   ],
   "source": [
    "model.coef_, model.intercept_"
   ]
  },
  {
   "cell_type": "code",
   "execution_count": 278,
   "metadata": {},
   "outputs": [
    {
     "data": {
      "text/plain": [
       "array([ 216402.3226217])"
      ]
     },
     "execution_count": 278,
     "metadata": {},
     "output_type": "execute_result"
    }
   ],
   "source": [
    "y_pred = model.predict([[100]])\n",
    "y_pred"
   ]
  },
  {
   "cell_type": "code",
   "execution_count": 280,
   "metadata": {},
   "outputs": [
    {
     "name": "stdout",
     "output_type": "stream",
     "text": [
      "216402.322622\n"
     ]
    }
   ],
   "source": [
    "print (y_pred[0])"
   ]
  }
 ],
 "metadata": {
  "kernelspec": {
   "display_name": "Python 3",
   "language": "python",
   "name": "python3"
  },
  "language_info": {
   "codemirror_mode": {
    "name": "ipython",
    "version": 3
   },
   "file_extension": ".py",
   "mimetype": "text/x-python",
   "name": "python",
   "nbconvert_exporter": "python",
   "pygments_lexer": "ipython3",
   "version": "3.6.1"
  }
 },
 "nbformat": 4,
 "nbformat_minor": 2
}
