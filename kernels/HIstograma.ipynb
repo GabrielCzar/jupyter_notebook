{
 "cells": [
  {
   "cell_type": "code",
   "execution_count": 2,
   "metadata": {
    "collapsed": true
   },
   "outputs": [],
   "source": [
    "%matplotlib inline\n",
    "from matplotlib import pyplot as plt\n",
    "import pandas as pd\n",
    "import numpy as np"
   ]
  },
  {
   "cell_type": "code",
   "execution_count": 9,
   "metadata": {},
   "outputs": [
    {
     "data": {
      "text/plain": [
       "(array([   1.,    0.,    1.,    0.,    0.,    1.,    0.,    1.,    1.,\n",
       "           0.,    1.,    3.,    2.,    1.,    1.,    5.,    4.,    8.,\n",
       "           8.,   12.,   18.,   18.,   19.,   25.,   33.,   27.,   36.,\n",
       "          40.,   47.,   46.,   80.,   85.,   98.,   94.,  114.,  146.,\n",
       "         145.,  168.,  183.,  204.,  212.,  225.,  228.,  248.,  272.,\n",
       "         324.,  311.,  298.,  330.,  314.,  294.,  321.,  325.,  298.,\n",
       "         333.,  315.,  281.,  277.,  273.,  250.,  287.,  265.,  231.,\n",
       "         203.,  181.,  212.,  185.,  127.,  107.,  120.,   97.,   97.,\n",
       "          82.,   80.,   52.,   48.,   49.,   27.,   23.,   22.,   16.,\n",
       "          18.,   13.,    8.,    8.,    2.,   10.,    8.,    6.,    2.,\n",
       "           2.,    3.,    3.,    0.,    0.,    0.,    0.,    0.,    0.,    1.]),\n",
       " array([-4.13507459, -4.09390619, -4.0527378 , -4.0115694 , -3.97040101,\n",
       "        -3.92923261, -3.88806422, -3.84689582, -3.80572743, -3.76455903,\n",
       "        -3.72339064, -3.68222224, -3.64105385, -3.59988545, -3.55871706,\n",
       "        -3.51754866, -3.47638027, -3.43521187, -3.39404348, -3.35287508,\n",
       "        -3.31170669, -3.27053829, -3.2293699 , -3.1882015 , -3.14703311,\n",
       "        -3.10586471, -3.06469632, -3.02352792, -2.98235952, -2.94119113,\n",
       "        -2.90002273, -2.85885434, -2.81768594, -2.77651755, -2.73534915,\n",
       "        -2.69418076, -2.65301236, -2.61184397, -2.57067557, -2.52950718,\n",
       "        -2.48833878, -2.44717039, -2.40600199, -2.3648336 , -2.3236652 ,\n",
       "        -2.28249681, -2.24132841, -2.20016002, -2.15899162, -2.11782323,\n",
       "        -2.07665483, -2.03548644, -1.99431804, -1.95314965, -1.91198125,\n",
       "        -1.87081286, -1.82964446, -1.78847607, -1.74730767, -1.70613928,\n",
       "        -1.66497088, -1.62380249, -1.58263409, -1.5414657 , -1.5002973 ,\n",
       "        -1.45912891, -1.41796051, -1.37679212, -1.33562372, -1.29445533,\n",
       "        -1.25328693, -1.21211854, -1.17095014, -1.12978175, -1.08861335,\n",
       "        -1.04744496, -1.00627656, -0.96510817, -0.92393977, -0.88277138,\n",
       "        -0.84160298, -0.80043459, -0.75926619, -0.7180978 , -0.6769294 ,\n",
       "        -0.63576101, -0.59459261, -0.55342422, -0.51225582, -0.47108743,\n",
       "        -0.42991903, -0.38875064, -0.34758224, -0.30641385, -0.26524545,\n",
       "        -0.22407706, -0.18290866, -0.14174027, -0.10057187, -0.05940348,\n",
       "        -0.01823508]),\n",
       " <a list of 100 Patch objects>)"
      ]
     },
     "execution_count": 9,
     "metadata": {},
     "output_type": "execute_result"
    },
    {
     "data": {
      "image/png": "[encoded data removed]",
      "text/plain": [
       "<matplotlib.figure.Figure at 0x7f561737e390>"
      ]
     },
     "metadata": {},
     "output_type": "display_data"
    }
   ],
   "source": [
    "n = np.random.normal(loc=-2,scale=0.5, size=10000)\n",
    "plt.hist(n, bins=100)"
   ]
  },
  {
   "cell_type": "code",
   "execution_count": null,
   "metadata": {
    "collapsed": true
   },
   "outputs": [],
   "source": []
  }
 ],
 "metadata": {
  "kernelspec": {
   "display_name": "Python 3",
   "language": "python",
   "name": "python3"
  },
  "language_info": {
   "codemirror_mode": {
    "name": "ipython",
    "version": 3
   },
   "file_extension": ".py",
   "mimetype": "text/x-python",
   "name": "python",
   "nbconvert_exporter": "python",
   "pygments_lexer": "ipython3",
   "version": "3.6.1"
  }
 },
 "nbformat": 4,
 "nbformat_minor": 2
}
