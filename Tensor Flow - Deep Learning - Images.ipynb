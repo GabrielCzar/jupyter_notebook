{
 "cells": [
  {
   "cell_type": "code",
   "execution_count": 5,
   "metadata": {
    "collapsed": false
   },
   "outputs": [],
   "source": [
    "import tensorflow as tf\n",
    "from tensorflow.contrib import learn\n",
    "from sklearn import metrics, cross_validation"
   ]
  },
  {
   "cell_type": "code",
   "execution_count": 6,
   "metadata": {
    "collapsed": true
   },
   "outputs": [],
   "source": [
    "def main (unused_argv):\n",
    "    # load dataset\n",
    "    iris = learn.datasets.load_dataset('iris')\n",
    "    X_train, X_test, y_train, y_test = cross_validation.train_test_split(\n",
    "        iris.data, iris.target, test_size = 0.2, random_state = 42)\n",
    "    \n",
    "    classifier = learn.DNNClassifier(hidden_units = [10, 20, 10], n_classes = 3)\n",
    "    \n",
    "    classifier.fit(X_train, y_train, steps = 200)\n",
    "    predict = classifier.predict(X_test)\n",
    "    score = metrics.accuracy_score(y_test, predict)\n",
    "    \n",
    "    print ('Accuracy: {0:f}'.format(score))"
   ]
  },
  {
   "cell_type": "code",
   "execution_count": null,
   "metadata": {
    "collapsed": true
   },
   "outputs": [],
   "source": []
  }
 ],
 "metadata": {
  "kernelspec": {
   "display_name": "Python 3",
   "language": "python",
   "name": "python3"
  },
  "language_info": {
   "codemirror_mode": {
    "name": "ipython",
    "version": 3
   },
   "file_extension": ".py",
   "mimetype": "text/x-python",
   "name": "python",
   "nbconvert_exporter": "python",
   "pygments_lexer": "ipython3",
   "version": "3.6.0"
  }
 },
 "nbformat": 4,
 "nbformat_minor": 2
}
