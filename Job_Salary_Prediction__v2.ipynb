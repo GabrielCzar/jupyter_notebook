{
 "cells": [
  {
   "cell_type": "markdown",
   "metadata": {
    "colab_type": "text",
    "id": "BsX4l60fEwAa"
   },
   "source": [
    "# Job Salary Prediction\n",
    "_Predict the salary of any UK job ad based on its contents_\n",
    "\n",
    "### Job Data\n",
    "\n",
    "- **Id**: Identificador para cada job.\n",
    "\n",
    "- **Title**: Texto livre com o titulo ou resumo da vaga.\n",
    "\n",
    "- **FullDescription**: Descrição da vaga sem qualquer informação salarial.\n",
    "\n",
    "- **LocationRaw**: Localização da vaga em texto livre.\n",
    "\n",
    "- **LocationNormalized**: Localização aproximada a partir da convesao do texto livre.\n",
    "\n",
    "- **ContractType**: full_time ou part_time.\n",
    "\n",
    "- **ContractTime**: permanent or contract.\n",
    "\n",
    "- **Company**: Nome da empresa.\n",
    "\n",
    "- **Category**: Qual das 30 categorias de trabalho padrão esse anúncio se encaixa, inferida de uma maneira muito confusa com base na origem da origem do anúncio. Sabemos que há muito barulho e erro nesse campo.\n",
    "\n",
    "- **SalaryRaw**: Descrição salarial em texto livre.\n",
    "\n",
    "- **SalaryNormalised**: Salario bruto anual. Valor que estamos tentando prever.\n",
    "\n",
    "- **SourceName**: Nome do site ou anunciante da vaga.\n",
    "\n",
    "### Location Tree\n",
    "\n",
    "Este é um conjunto de dados suplementares que descreve o relacionamento hierárquico entre os diferentes locais normalizados mostrados nos dados do trabalho. É provável que existam relações significativas entre os salários dos empregos em uma área geográfica semelhante, por exemplo, os salários médios em Londres e no Sudeste são mais altos do que no resto do Reino Unido.\n",
    "\n",
    "### Saida\n",
    "\n",
    "\n",
    "    Id,SalaryNormalized\n",
    "    13656201,36205\n",
    "    14663195,74570\n",
    "    16530664,31910.50\n",
    "    ... \n",
    "    "
   ]
  },
  {
   "cell_type": "markdown",
   "metadata": {
    "colab_type": "text",
    "id": "gx6OgD6XEwAd"
   },
   "source": [
    "## Imports"
   ]
  },
  {
   "cell_type": "code",
   "execution_count": 2,
   "metadata": {
    "colab": {
     "autoexec": {
      "startup": false,
      "wait_interval": 0
     },
     "base_uri": "https://localhost:8080/",
     "height": 37
    },
    "colab_type": "code",
    "executionInfo": {
     "elapsed": 1333,
     "status": "ok",
     "timestamp": 1529805951283,
     "user": {
      "displayName": "Gabriel Cesar",
      "photoUrl": "//lh6.googleusercontent.com/-p5vDPiaCNfw/AAAAAAAAAAI/AAAAAAAAABs/bf-pbMKqe5c/s50-c-k-no/photo.jpg",
      "userId": "109223051625932368282"
     },
     "user_tz": 180
    },
    "id": "AA0eH24pEwAe",
    "outputId": "7b086481-a9af-48e5-f9dc-bab2a63cb8c6"
   },
   "outputs": [],
   "source": [
    "import numpy as np\n",
    "import pandas as pd\n",
    "from sklearn.svm import SVR\n",
    "from sklearn.decomposition import PCA\n",
    "from sklearn.pipeline import Pipeline\n",
    "from sklearn.preprocessing import StandardScaler\n",
    "from sklearn.neighbors import KNeighborsRegressor\n",
    "from sklearn.model_selection import KFold, cross_validate\n",
    "from sklearn.feature_extraction.text import CountVectorizer\n",
    "from sklearn.linear_model import LinearRegression, LogisticRegression\n",
    "from sklearn.discriminant_analysis import LinearDiscriminantAnalysis as LDA\n",
    "from sklearn.ensemble import RandomForestRegressor, GradientBoostingRegressor, AdaBoostRegressor\n"
   ]
  },
  {
   "cell_type": "markdown",
   "metadata": {
    "colab_type": "text",
    "id": "cLl3SdOOEwAh"
   },
   "source": [
    "## Dataset"
   ]
  },
  {
   "cell_type": "code",
   "execution_count": 67,
   "metadata": {
    "colab": {
     "autoexec": {
      "startup": false,
      "wait_interval": 0
     },
     "base_uri": "https://localhost:8080/",
     "height": 119
    },
    "colab_type": "code",
    "executionInfo": {
     "elapsed": 13874,
     "status": "ok",
     "timestamp": 1529805965717,
     "user": {
      "displayName": "Gabriel Cesar",
      "photoUrl": "//lh6.googleusercontent.com/-p5vDPiaCNfw/AAAAAAAAAAI/AAAAAAAAABs/bf-pbMKqe5c/s50-c-k-no/photo.jpg",
      "userId": "109223051625932368282"
     },
     "user_tz": 180
    },
    "id": "KKA2_0IAvLbW",
    "outputId": "4eb9fc8a-9f18-47b6-f899-161b128618d4"
   },
   "outputs": [
    {
     "name": "stdout",
     "output_type": "stream",
     "text": [
      "gpg: keybox '/tmp/tmpfhvsk8t_/pubring.gpg' created\n",
      "gpg: /tmp/tmpfhvsk8t_/trustdb.gpg: trustdb created\n",
      "gpg: key AD5F235DF639B041: public key \"Launchpad PPA for Alessandro Strada\" imported\n",
      "gpg: Total number processed: 1\n",
      "gpg:               imported: 1\n",
      "Warning: apt-key output should not be parsed (stdout is not a terminal)\n"
     ]
    }
   ],
   "source": [
    "# Install a Drive FUSE wrapper.\n",
    "# https://github.com/astrada/google-drive-ocamlfuse\n",
    "# !apt-get install -y -qq software-properties-common python-software-properties module-init-tools\n",
    "# !add-apt-repository -y ppa:alessandro-strada/ppa 2>&1 > /dev/null\n",
    "# !apt-get update -qq 2>&1 > /dev/null\n",
    "# !apt-get -y install -qq google-drive-ocamlfuse fuse"
   ]
  },
  {
   "cell_type": "code",
   "execution_count": 72,
   "metadata": {
    "colab": {
     "autoexec": {
      "startup": false,
      "wait_interval": 0
     },
     "base_uri": "https://localhost:8080/",
     "height": 37
    },
    "colab_type": "code",
    "executionInfo": {
     "elapsed": 800,
     "status": "ok",
     "timestamp": 1529806041455,
     "user": {
      "displayName": "Gabriel Cesar",
      "photoUrl": "//lh6.googleusercontent.com/-p5vDPiaCNfw/AAAAAAAAAAI/AAAAAAAAABs/bf-pbMKqe5c/s50-c-k-no/photo.jpg",
      "userId": "109223051625932368282"
     },
     "user_tz": 180
    },
    "id": "MWjHftNGvS6n",
    "outputId": "46242e47-1d4d-4410-f4a1-f9f123e17e96"
   },
   "outputs": [],
   "source": [
    "# Generate auth tokens for Colab\n",
    "# from google.colab import auth\n",
    "# auth.authenticate_user()"
   ]
  },
  {
   "cell_type": "code",
   "execution_count": 0,
   "metadata": {
    "colab": {
     "autoexec": {
      "startup": false,
      "wait_interval": 0
     },
     "base_uri": "https://localhost:8080/",
     "height": 38
    },
    "colab_type": "code",
    "id": "zM95JBT8vXIt",
    "outputId": "39420066-3851-4ecc-8e84-dcaaee1634ab"
   },
   "outputs": [],
   "source": [
    "# Generate creds for the Drive FUSE library.\n",
    "# from oauth2client.client import GoogleCredentials\n",
    "# creds = GoogleCredentials.get_application_default()\n",
    "# import getpass\n",
    "# !google-drive-ocamlfuse -headless -id={creds.client_id} -secret={creds.client_secret} < /dev/null 2>&1 | grep URL\n",
    "# vcode = getpass.getpass()\n",
    "# !echo {vcode} | google-drive-ocamlfuse -headless -id={creds.client_id} -secret={creds.client_secret}"
   ]
  },
  {
   "cell_type": "code",
   "execution_count": 12,
   "metadata": {
    "colab": {
     "autoexec": {
      "startup": false,
      "wait_interval": 0
     },
     "base_uri": "https://localhost:8080/",
     "height": 17
    },
    "colab_type": "code",
    "executionInfo": {
     "elapsed": 3185,
     "status": "ok",
     "timestamp": 1529800916778,
     "user": {
      "displayName": "Gabriel Cesar",
      "photoUrl": "//lh6.googleusercontent.com/-p5vDPiaCNfw/AAAAAAAAAAI/AAAAAAAAABs/bf-pbMKqe5c/s50-c-k-no/photo.jpg",
      "userId": "109223051625932368282"
     },
     "user_tz": 180
    },
    "id": "gzmeJODSwF-v",
    "outputId": "670d28a4-0ab6-48db-ccc9-9595262767aa"
   },
   "outputs": [],
   "source": [
    "# Create a directory and mount Google Drive using that directory.\n",
    "# !mkdir -p drive\n",
    "# !google-drive-ocamlfuse drive"
   ]
  },
  {
   "cell_type": "code",
   "execution_count": 13,
   "metadata": {
    "colab": {
     "autoexec": {
      "startup": false,
      "wait_interval": 0
     },
     "base_uri": "https://localhost:8080/",
     "height": 37
    },
    "colab_type": "code",
    "executionInfo": {
     "elapsed": 1925,
     "status": "ok",
     "timestamp": 1529800921735,
     "user": {
      "displayName": "Gabriel Cesar",
      "photoUrl": "//lh6.googleusercontent.com/-p5vDPiaCNfw/AAAAAAAAAAI/AAAAAAAAABs/bf-pbMKqe5c/s50-c-k-no/photo.jpg",
      "userId": "109223051625932368282"
     },
     "user_tz": 180
    },
    "id": "baqi-Nkfw6XA",
    "outputId": "286684a5-2b14-4328-a1f2-e68deccea9e4"
   },
   "outputs": [],
   "source": [
    "# !cd drive/"
   ]
  },
  {
   "cell_type": "code",
   "execution_count": 3,
   "metadata": {
    "colab": {
     "autoexec": {
      "startup": false,
      "wait_interval": 0
     },
     "base_uri": "https://localhost:8080/",
     "height": 34
    },
    "colab_type": "code",
    "executionInfo": {
     "elapsed": 1837,
     "status": "ok",
     "timestamp": 1529800925284,
     "user": {
      "displayName": "Gabriel Cesar",
      "photoUrl": "//lh6.googleusercontent.com/-p5vDPiaCNfw/AAAAAAAAAAI/AAAAAAAAABs/bf-pbMKqe5c/s50-c-k-no/photo.jpg",
      "userId": "109223051625932368282"
     },
     "user_tz": 180
    },
    "id": "jJyRejGsGJ78",
    "outputId": "f37fe0c7-41b3-4850-ae3b-f457e006c051"
   },
   "outputs": [
    {
     "name": "stdout",
     "output_type": "stream",
     "text": [
      "Job Salary Prediction.ipynb\t\t    README.md\r\n",
      "List_12__Clustering.ipynb\t\t    Train_rev1.csv\r\n",
      "List_13__Clusterization_Hierarchical.ipynb  Train_rev1.zip\r\n",
      "Não confirmado 712499.crdownload\r\n"
     ]
    }
   ],
   "source": [
    "!ls"
   ]
  },
  {
   "cell_type": "code",
   "execution_count": 15,
   "metadata": {
    "colab": {
     "autoexec": {
      "startup": false,
      "wait_interval": 0
     },
     "base_uri": "https://localhost:8080/",
     "height": 17
    },
    "colab_type": "code",
    "executionInfo": {
     "elapsed": 20596,
     "status": "ok",
     "timestamp": 1529800947830,
     "user": {
      "displayName": "Gabriel Cesar",
      "photoUrl": "//lh6.googleusercontent.com/-p5vDPiaCNfw/AAAAAAAAAAI/AAAAAAAAABs/bf-pbMKqe5c/s50-c-k-no/photo.jpg",
      "userId": "109223051625932368282"
     },
     "user_tz": 180
    },
    "id": "a9tsfPzNEwAj",
    "outputId": "e12fd566-42fd-4f9d-d718-d3d374f29656"
   },
   "outputs": [],
   "source": [
    "# df_job_data = pd.read_csv('drive/MachineLearning/JobSalaryPredict/Train_rev1.csv')"
   ]
  },
  {
   "cell_type": "code",
   "execution_count": 5,
   "metadata": {},
   "outputs": [],
   "source": [
    "df_job_data = pd.read_csv('Train_rev1.csv')"
   ]
  },
  {
   "cell_type": "code",
   "execution_count": 16,
   "metadata": {
    "colab": {
     "autoexec": {
      "startup": false,
      "wait_interval": 0
     },
     "base_uri": "https://localhost:8080/",
     "height": 37
    },
    "colab_type": "code",
    "executionInfo": {
     "elapsed": 10623,
     "status": "ok",
     "timestamp": 1529801010613,
     "user": {
      "displayName": "Gabriel Cesar",
      "photoUrl": "//lh6.googleusercontent.com/-p5vDPiaCNfw/AAAAAAAAAAI/AAAAAAAAABs/bf-pbMKqe5c/s50-c-k-no/photo.jpg",
      "userId": "109223051625932368282"
     },
     "user_tz": 180
    },
    "id": "oX2e1TDREwAn",
    "outputId": "500bd6d9-8462-4fe1-ec0a-11f3e2407f2a"
   },
   "outputs": [],
   "source": [
    "# df_test_rev1 = pd.read_csv('drive/MachineLearning/JobSalaryPredict/Test_rev1.csv')"
   ]
  },
  {
   "cell_type": "code",
   "execution_count": 6,
   "metadata": {},
   "outputs": [],
   "source": [
    "df_test_rev1 = pd.read_csv('Test_rev1.csv')"
   ]
  },
  {
   "cell_type": "markdown",
   "metadata": {
    "colab_type": "text",
    "id": "PRC1vAQrEwAr"
   },
   "source": [
    "## Informações"
   ]
  },
  {
   "cell_type": "markdown",
   "metadata": {
    "colab_type": "text",
    "id": "bQe_4GOHEwAr"
   },
   "source": [
    "### Job Data"
   ]
  },
  {
   "cell_type": "code",
   "execution_count": 7,
   "metadata": {
    "colab": {
     "autoexec": {
      "startup": false,
      "wait_interval": 0
     },
     "base_uri": "https://localhost:8080/",
     "height": 216
    },
    "colab_type": "code",
    "executionInfo": {
     "elapsed": 3211,
     "status": "ok",
     "timestamp": 1529801029609,
     "user": {
      "displayName": "Gabriel Cesar",
      "photoUrl": "//lh6.googleusercontent.com/-p5vDPiaCNfw/AAAAAAAAAAI/AAAAAAAAABs/bf-pbMKqe5c/s50-c-k-no/photo.jpg",
      "userId": "109223051625932368282"
     },
     "user_tz": 180
    },
    "id": "GozC7kFvEwAs",
    "outputId": "825320fc-27e0-4ece-8a9e-773c6e668fbb"
   },
   "outputs": [
    {
     "data": {
      "text/html": [
       "<div>\n",
       "<style scoped>\n",
       "    .dataframe tbody tr th:only-of-type {\n",
       "        vertical-align: middle;\n",
       "    }\n",
       "\n",
       "    .dataframe tbody tr th {\n",
       "        vertical-align: top;\n",
       "    }\n",
       "\n",
       "    .dataframe thead th {\n",
       "        text-align: right;\n",
       "    }\n",
       "</style>\n",
       "<table border=\"1\" class=\"dataframe\">\n",
       "  <thead>\n",
       "    <tr style=\"text-align: right;\">\n",
       "      <th></th>\n",
       "      <th>Id</th>\n",
       "      <th>Title</th>\n",
       "      <th>FullDescription</th>\n",
       "      <th>LocationRaw</th>\n",
       "      <th>LocationNormalized</th>\n",
       "      <th>ContractType</th>\n",
       "      <th>ContractTime</th>\n",
       "      <th>Company</th>\n",
       "      <th>Category</th>\n",
       "      <th>SalaryRaw</th>\n",
       "      <th>SalaryNormalized</th>\n",
       "      <th>SourceName</th>\n",
       "    </tr>\n",
       "  </thead>\n",
       "  <tbody>\n",
       "    <tr>\n",
       "      <th>0</th>\n",
       "      <td>12612628</td>\n",
       "      <td>Engineering Systems Analyst</td>\n",
       "      <td>Engineering Systems Analyst Dorking Surrey Sal...</td>\n",
       "      <td>Dorking, Surrey, Surrey</td>\n",
       "      <td>Dorking</td>\n",
       "      <td>NaN</td>\n",
       "      <td>permanent</td>\n",
       "      <td>Gregory Martin International</td>\n",
       "      <td>Engineering Jobs</td>\n",
       "      <td>20000 - 30000/annum 20-30K</td>\n",
       "      <td>25000</td>\n",
       "      <td>cv-library.co.uk</td>\n",
       "    </tr>\n",
       "    <tr>\n",
       "      <th>1</th>\n",
       "      <td>12612830</td>\n",
       "      <td>Stress Engineer Glasgow</td>\n",
       "      <td>Stress Engineer Glasgow Salary **** to **** We...</td>\n",
       "      <td>Glasgow, Scotland, Scotland</td>\n",
       "      <td>Glasgow</td>\n",
       "      <td>NaN</td>\n",
       "      <td>permanent</td>\n",
       "      <td>Gregory Martin International</td>\n",
       "      <td>Engineering Jobs</td>\n",
       "      <td>25000 - 35000/annum 25-35K</td>\n",
       "      <td>30000</td>\n",
       "      <td>cv-library.co.uk</td>\n",
       "    </tr>\n",
       "  </tbody>\n",
       "</table>\n",
       "</div>"
      ],
      "text/plain": [
       "         Id                        Title  \\\n",
       "0  12612628  Engineering Systems Analyst   \n",
       "1  12612830      Stress Engineer Glasgow   \n",
       "\n",
       "                                     FullDescription  \\\n",
       "0  Engineering Systems Analyst Dorking Surrey Sal...   \n",
       "1  Stress Engineer Glasgow Salary **** to **** We...   \n",
       "\n",
       "                   LocationRaw LocationNormalized ContractType ContractTime  \\\n",
       "0      Dorking, Surrey, Surrey            Dorking          NaN    permanent   \n",
       "1  Glasgow, Scotland, Scotland            Glasgow          NaN    permanent   \n",
       "\n",
       "                        Company          Category                   SalaryRaw  \\\n",
       "0  Gregory Martin International  Engineering Jobs  20000 - 30000/annum 20-30K   \n",
       "1  Gregory Martin International  Engineering Jobs  25000 - 35000/annum 25-35K   \n",
       "\n",
       "   SalaryNormalized        SourceName  \n",
       "0             25000  cv-library.co.uk  \n",
       "1             30000  cv-library.co.uk  "
      ]
     },
     "execution_count": 7,
     "metadata": {},
     "output_type": "execute_result"
    }
   ],
   "source": [
    "df_job_data.head(n=2)"
   ]
  },
  {
   "cell_type": "code",
   "execution_count": 8,
   "metadata": {
    "colab": {
     "autoexec": {
      "startup": false,
      "wait_interval": 0
     },
     "base_uri": "https://localhost:8080/",
     "height": 306
    },
    "colab_type": "code",
    "executionInfo": {
     "elapsed": 5385,
     "status": "ok",
     "timestamp": 1529801041548,
     "user": {
      "displayName": "Gabriel Cesar",
      "photoUrl": "//lh6.googleusercontent.com/-p5vDPiaCNfw/AAAAAAAAAAI/AAAAAAAAABs/bf-pbMKqe5c/s50-c-k-no/photo.jpg",
      "userId": "109223051625932368282"
     },
     "user_tz": 180
    },
    "id": "Hvfq0CKlEwA0",
    "outputId": "8184344d-3cb5-43bb-fb11-c8fbbc94eb5a"
   },
   "outputs": [
    {
     "name": "stdout",
     "output_type": "stream",
     "text": [
      "<class 'pandas.core.frame.DataFrame'>\n",
      "RangeIndex: 244768 entries, 0 to 244767\n",
      "Data columns (total 12 columns):\n",
      "Id                    244768 non-null int64\n",
      "Title                 244767 non-null object\n",
      "FullDescription       244768 non-null object\n",
      "LocationRaw           244768 non-null object\n",
      "LocationNormalized    244768 non-null object\n",
      "ContractType          65442 non-null object\n",
      "ContractTime          180863 non-null object\n",
      "Company               212338 non-null object\n",
      "Category              244768 non-null object\n",
      "SalaryRaw             244768 non-null object\n",
      "SalaryNormalized      244768 non-null int64\n",
      "SourceName            244767 non-null object\n",
      "dtypes: int64(2), object(10)\n",
      "memory usage: 22.4+ MB\n"
     ]
    }
   ],
   "source": [
    "df_job_data.info()"
   ]
  },
  {
   "cell_type": "markdown",
   "metadata": {
    "colab_type": "text",
    "id": "O5pvNAk2EwA6"
   },
   "source": [
    "### Test"
   ]
  },
  {
   "cell_type": "code",
   "execution_count": 9,
   "metadata": {
    "colab": {
     "autoexec": {
      "startup": false,
      "wait_interval": 0
     },
     "base_uri": "https://localhost:8080/",
     "height": 162
    },
    "colab_type": "code",
    "executionInfo": {
     "elapsed": 2533,
     "status": "ok",
     "timestamp": 1529801091483,
     "user": {
      "displayName": "Gabriel Cesar",
      "photoUrl": "//lh6.googleusercontent.com/-p5vDPiaCNfw/AAAAAAAAAAI/AAAAAAAAABs/bf-pbMKqe5c/s50-c-k-no/photo.jpg",
      "userId": "109223051625932368282"
     },
     "user_tz": 180
    },
    "id": "eLuOUoyREwA6",
    "outputId": "92b02f00-f266-44ec-8661-23fd9d420996"
   },
   "outputs": [
    {
     "data": {
      "text/html": [
       "<div>\n",
       "<style scoped>\n",
       "    .dataframe tbody tr th:only-of-type {\n",
       "        vertical-align: middle;\n",
       "    }\n",
       "\n",
       "    .dataframe tbody tr th {\n",
       "        vertical-align: top;\n",
       "    }\n",
       "\n",
       "    .dataframe thead th {\n",
       "        text-align: right;\n",
       "    }\n",
       "</style>\n",
       "<table border=\"1\" class=\"dataframe\">\n",
       "  <thead>\n",
       "    <tr style=\"text-align: right;\">\n",
       "      <th></th>\n",
       "      <th>Id</th>\n",
       "      <th>Title</th>\n",
       "      <th>FullDescription</th>\n",
       "      <th>LocationRaw</th>\n",
       "      <th>LocationNormalized</th>\n",
       "      <th>ContractType</th>\n",
       "      <th>ContractTime</th>\n",
       "      <th>Company</th>\n",
       "      <th>Category</th>\n",
       "      <th>SourceName</th>\n",
       "    </tr>\n",
       "  </thead>\n",
       "  <tbody>\n",
       "    <tr>\n",
       "      <th>0</th>\n",
       "      <td>11888454</td>\n",
       "      <td>Business Development Manager</td>\n",
       "      <td>The Company: Our client is a national training...</td>\n",
       "      <td>Tyne Wear, North East</td>\n",
       "      <td>Newcastle Upon Tyne</td>\n",
       "      <td>NaN</td>\n",
       "      <td>permanent</td>\n",
       "      <td>Asset Appointments</td>\n",
       "      <td>Teaching Jobs</td>\n",
       "      <td>cv-library.co.uk</td>\n",
       "    </tr>\n",
       "    <tr>\n",
       "      <th>1</th>\n",
       "      <td>11988350</td>\n",
       "      <td>Internal Account Manager</td>\n",
       "      <td>The Company: Founded in **** our client is a U...</td>\n",
       "      <td>Tyne and Wear, North East</td>\n",
       "      <td>Newcastle Upon Tyne</td>\n",
       "      <td>NaN</td>\n",
       "      <td>permanent</td>\n",
       "      <td>Asset Appointments</td>\n",
       "      <td>Consultancy Jobs</td>\n",
       "      <td>cv-library.co.uk</td>\n",
       "    </tr>\n",
       "  </tbody>\n",
       "</table>\n",
       "</div>"
      ],
      "text/plain": [
       "         Id                         Title  \\\n",
       "0  11888454  Business Development Manager   \n",
       "1  11988350      Internal Account Manager   \n",
       "\n",
       "                                     FullDescription  \\\n",
       "0  The Company: Our client is a national training...   \n",
       "1  The Company: Founded in **** our client is a U...   \n",
       "\n",
       "                 LocationRaw   LocationNormalized ContractType ContractTime  \\\n",
       "0      Tyne Wear, North East  Newcastle Upon Tyne          NaN    permanent   \n",
       "1  Tyne and Wear, North East  Newcastle Upon Tyne          NaN    permanent   \n",
       "\n",
       "              Company          Category        SourceName  \n",
       "0  Asset Appointments     Teaching Jobs  cv-library.co.uk  \n",
       "1  Asset Appointments  Consultancy Jobs  cv-library.co.uk  "
      ]
     },
     "execution_count": 9,
     "metadata": {},
     "output_type": "execute_result"
    }
   ],
   "source": [
    "df_test_rev1.head(n=2)"
   ]
  },
  {
   "cell_type": "code",
   "execution_count": 10,
   "metadata": {
    "colab": {
     "autoexec": {
      "startup": false,
      "wait_interval": 0
     },
     "base_uri": "https://localhost:8080/",
     "height": 272
    },
    "colab_type": "code",
    "executionInfo": {
     "elapsed": 741,
     "status": "ok",
     "timestamp": 1529801095157,
     "user": {
      "displayName": "Gabriel Cesar",
      "photoUrl": "//lh6.googleusercontent.com/-p5vDPiaCNfw/AAAAAAAAAAI/AAAAAAAAABs/bf-pbMKqe5c/s50-c-k-no/photo.jpg",
      "userId": "109223051625932368282"
     },
     "user_tz": 180
    },
    "id": "23KJVhIKEwA_",
    "outputId": "e92fd119-9ad8-4f17-f9f1-c2cf9736e848"
   },
   "outputs": [
    {
     "name": "stdout",
     "output_type": "stream",
     "text": [
      "<class 'pandas.core.frame.DataFrame'>\n",
      "RangeIndex: 122463 entries, 0 to 122462\n",
      "Data columns (total 10 columns):\n",
      "Id                    122463 non-null int64\n",
      "Title                 122463 non-null object\n",
      "FullDescription       122463 non-null object\n",
      "LocationRaw           122463 non-null object\n",
      "LocationNormalized    122463 non-null object\n",
      "ContractType          33013 non-null object\n",
      "ContractTime          90702 non-null object\n",
      "Company               106202 non-null object\n",
      "Category              122463 non-null object\n",
      "SourceName            122463 non-null object\n",
      "dtypes: int64(1), object(9)\n",
      "memory usage: 9.3+ MB\n"
     ]
    }
   ],
   "source": [
    "df_test_rev1.info()"
   ]
  },
  {
   "cell_type": "markdown",
   "metadata": {
    "colab_type": "text",
    "id": "OBLh0PIxEwBF"
   },
   "source": [
    "## Pré-processamento"
   ]
  },
  {
   "cell_type": "code",
   "execution_count": 44,
   "metadata": {
    "colab": {
     "autoexec": {
      "startup": false,
      "wait_interval": 0
     },
     "base_uri": "https://localhost:8080/",
     "height": 37
    },
    "colab_type": "code",
    "executionInfo": {
     "elapsed": 955,
     "status": "ok",
     "timestamp": 1529801099122,
     "user": {
      "displayName": "Gabriel Cesar",
      "photoUrl": "//lh6.googleusercontent.com/-p5vDPiaCNfw/AAAAAAAAAAI/AAAAAAAAABs/bf-pbMKqe5c/s50-c-k-no/photo.jpg",
      "userId": "109223051625932368282"
     },
     "user_tz": 180
    },
    "id": "aqPyCLOfEwBG",
    "outputId": "e842d9b0-3453-4c2b-fe3f-6c43ffce7024"
   },
   "outputs": [],
   "source": [
    "def normalizeTextField(df, field):\n",
    "    vectorizer = CountVectorizer(max_features=100)\n",
    "    fields = vectorizer.fit_transform(df[field]).toarray()\n",
    "    # Generate field names\n",
    "    fcols = np.vectorize(lambda x: field + str(x))(np.arange(2))\n",
    "    # Reduz a dimensionalidade para 2 \n",
    "    pca = PCA(n_components = 2)\n",
    "    _df = pd.DataFrame(pca.fit_transform(fields), columns=fcols)\n",
    "    # Concatena o dataframe com o novo\n",
    "    df = pd.concat([df, _df], join ='inner', axis=1)\n",
    "    del df[field]\n",
    "    return df"
   ]
  },
  {
   "cell_type": "markdown",
   "metadata": {
    "colab_type": "text",
    "id": "OHzogV28EwBJ"
   },
   "source": [
    "### SalaryRaw"
   ]
  },
  {
   "cell_type": "code",
   "execution_count": 12,
   "metadata": {
    "colab": {
     "autoexec": {
      "startup": false,
      "wait_interval": 0
     },
     "base_uri": "https://localhost:8080/",
     "height": 37
    },
    "colab_type": "code",
    "executionInfo": {
     "elapsed": 1138,
     "status": "ok",
     "timestamp": 1529801103174,
     "user": {
      "displayName": "Gabriel Cesar",
      "photoUrl": "//lh6.googleusercontent.com/-p5vDPiaCNfw/AAAAAAAAAAI/AAAAAAAAABs/bf-pbMKqe5c/s50-c-k-no/photo.jpg",
      "userId": "109223051625932368282"
     },
     "user_tz": 180
    },
    "id": "Tf_wd3knEwBK",
    "outputId": "f9844ff9-02c1-4641-9498-8250636e6d09"
   },
   "outputs": [],
   "source": [
    "del df_job_data['SalaryRaw']"
   ]
  },
  {
   "cell_type": "markdown",
   "metadata": {
    "colab_type": "text",
    "id": "SUuskyQsEwBP"
   },
   "source": [
    "### Remove ContractType"
   ]
  },
  {
   "cell_type": "markdown",
   "metadata": {
    "colab_type": "text",
    "id": "SkLiRtjpEwBP"
   },
   "source": [
    "Grande quantidade de valores null"
   ]
  },
  {
   "cell_type": "code",
   "execution_count": 13,
   "metadata": {
    "colab": {
     "autoexec": {
      "startup": false,
      "wait_interval": 0
     },
     "base_uri": "https://localhost:8080/",
     "height": 37
    },
    "colab_type": "code",
    "executionInfo": {
     "elapsed": 2707,
     "status": "ok",
     "timestamp": 1529801107862,
     "user": {
      "displayName": "Gabriel Cesar",
      "photoUrl": "//lh6.googleusercontent.com/-p5vDPiaCNfw/AAAAAAAAAAI/AAAAAAAAABs/bf-pbMKqe5c/s50-c-k-no/photo.jpg",
      "userId": "109223051625932368282"
     },
     "user_tz": 180
    },
    "id": "PwsCuAoyEwBQ",
    "outputId": "f083dfd4-58a1-4bbc-efcf-cb7b42e6ae3d"
   },
   "outputs": [],
   "source": [
    "del df_job_data['ContractType']\n",
    "del df_test_rev1['ContractType']"
   ]
  },
  {
   "cell_type": "markdown",
   "metadata": {
    "colab_type": "text",
    "id": "TuGX7DRrEwBW"
   },
   "source": [
    "### Remove ContractTime"
   ]
  },
  {
   "cell_type": "code",
   "execution_count": 17,
   "metadata": {
    "colab": {
     "autoexec": {
      "startup": false,
      "wait_interval": 0
     },
     "base_uri": "https://localhost:8080/",
     "height": 37
    },
    "colab_type": "code",
    "executionInfo": {
     "elapsed": 887,
     "status": "ok",
     "timestamp": 1529801110023,
     "user": {
      "displayName": "Gabriel Cesar",
      "photoUrl": "//lh6.googleusercontent.com/-p5vDPiaCNfw/AAAAAAAAAAI/AAAAAAAAABs/bf-pbMKqe5c/s50-c-k-no/photo.jpg",
      "userId": "109223051625932368282"
     },
     "user_tz": 180
    },
    "id": "L7JlYf_dEwBY",
    "outputId": "6f32ac6e-6608-4fa6-b977-8059eae0b64a"
   },
   "outputs": [],
   "source": [
    "del df_job_data['ContractTime']\n",
    "del df_test_rev1['ContractTime']"
   ]
  },
  {
   "cell_type": "markdown",
   "metadata": {
    "colab_type": "text",
    "id": "3qa4BYJUEwBb"
   },
   "source": [
    "### Removendo Category"
   ]
  },
  {
   "cell_type": "code",
   "execution_count": 18,
   "metadata": {
    "colab": {
     "autoexec": {
      "startup": false,
      "wait_interval": 0
     },
     "base_uri": "https://localhost:8080/",
     "height": 37
    },
    "colab_type": "code",
    "executionInfo": {
     "elapsed": 738,
     "status": "ok",
     "timestamp": 1529801113956,
     "user": {
      "displayName": "Gabriel Cesar",
      "photoUrl": "//lh6.googleusercontent.com/-p5vDPiaCNfw/AAAAAAAAAAI/AAAAAAAAABs/bf-pbMKqe5c/s50-c-k-no/photo.jpg",
      "userId": "109223051625932368282"
     },
     "user_tz": 180
    },
    "id": "9QF_BvwYEwBe",
    "outputId": "916c7390-15a2-4db6-f7d5-728b75d8028b"
   },
   "outputs": [],
   "source": [
    "del df_job_data['Category']\n",
    "del df_test_rev1['Category']"
   ]
  },
  {
   "cell_type": "markdown",
   "metadata": {
    "colab_type": "text",
    "id": "iILrtpDxEwBi"
   },
   "source": [
    "### Removendo Location Raw"
   ]
  },
  {
   "cell_type": "code",
   "execution_count": 19,
   "metadata": {
    "colab": {
     "autoexec": {
      "startup": false,
      "wait_interval": 0
     },
     "base_uri": "https://localhost:8080/",
     "height": 37
    },
    "colab_type": "code",
    "executionInfo": {
     "elapsed": 963,
     "status": "ok",
     "timestamp": 1529801118238,
     "user": {
      "displayName": "Gabriel Cesar",
      "photoUrl": "//lh6.googleusercontent.com/-p5vDPiaCNfw/AAAAAAAAAAI/AAAAAAAAABs/bf-pbMKqe5c/s50-c-k-no/photo.jpg",
      "userId": "109223051625932368282"
     },
     "user_tz": 180
    },
    "id": "XYyvZMbjEwBi",
    "outputId": "261cae9d-276a-4549-bd7d-8dbbbd23d067"
   },
   "outputs": [],
   "source": [
    "del df_job_data['LocationRaw']\n",
    "del df_test_rev1['LocationRaw']"
   ]
  },
  {
   "cell_type": "markdown",
   "metadata": {
    "colab_type": "text",
    "id": "uIOf83lkEwBm"
   },
   "source": [
    "### Company"
   ]
  },
  {
   "cell_type": "code",
   "execution_count": 20,
   "metadata": {
    "colab": {
     "autoexec": {
      "startup": false,
      "wait_interval": 0
     },
     "base_uri": "https://localhost:8080/",
     "height": 37
    },
    "colab_type": "code",
    "executionInfo": {
     "elapsed": 751,
     "status": "ok",
     "timestamp": 1529801121561,
     "user": {
      "displayName": "Gabriel Cesar",
      "photoUrl": "//lh6.googleusercontent.com/-p5vDPiaCNfw/AAAAAAAAAAI/AAAAAAAAABs/bf-pbMKqe5c/s50-c-k-no/photo.jpg",
      "userId": "109223051625932368282"
     },
     "user_tz": 180
    },
    "id": "RjY1lzucEwBo",
    "outputId": "df57792a-2df7-4301-ded5-a2d2fcb5bcac"
   },
   "outputs": [],
   "source": [
    "del df_job_data['Company']"
   ]
  },
  {
   "cell_type": "code",
   "execution_count": 21,
   "metadata": {
    "colab": {
     "autoexec": {
      "startup": false,
      "wait_interval": 0
     },
     "base_uri": "https://localhost:8080/",
     "height": 37
    },
    "colab_type": "code",
    "executionInfo": {
     "elapsed": 940,
     "status": "ok",
     "timestamp": 1529801123641,
     "user": {
      "displayName": "Gabriel Cesar",
      "photoUrl": "//lh6.googleusercontent.com/-p5vDPiaCNfw/AAAAAAAAAAI/AAAAAAAAABs/bf-pbMKqe5c/s50-c-k-no/photo.jpg",
      "userId": "109223051625932368282"
     },
     "user_tz": 180
    },
    "id": "AVXE3xOfEwBw",
    "outputId": "b4dc0c4d-1fba-42f4-b72f-ba6e02bf255b"
   },
   "outputs": [],
   "source": [
    "del df_test_rev1['Company']"
   ]
  },
  {
   "cell_type": "markdown",
   "metadata": {
    "colab_type": "text",
    "id": "JeIbKYJCEwBz"
   },
   "source": [
    "### Removendo linhas com valores NULL"
   ]
  },
  {
   "cell_type": "code",
   "execution_count": 23,
   "metadata": {
    "colab": {
     "autoexec": {
      "startup": false,
      "wait_interval": 0
     },
     "base_uri": "https://localhost:8080/",
     "height": 37
    },
    "colab_type": "code",
    "executionInfo": {
     "elapsed": 778,
     "status": "ok",
     "timestamp": 1529801127234,
     "user": {
      "displayName": "Gabriel Cesar",
      "photoUrl": "//lh6.googleusercontent.com/-p5vDPiaCNfw/AAAAAAAAAAI/AAAAAAAAABs/bf-pbMKqe5c/s50-c-k-no/photo.jpg",
      "userId": "109223051625932368282"
     },
     "user_tz": 180
    },
    "id": "1goRZOL-EwB1",
    "outputId": "e2b250f2-03d5-48f8-ddf4-08d0f7764ce8"
   },
   "outputs": [],
   "source": [
    "df_job_data.dropna(subset=['Title'], inplace = True)"
   ]
  },
  {
   "cell_type": "code",
   "execution_count": 24,
   "metadata": {
    "colab": {
     "autoexec": {
      "startup": false,
      "wait_interval": 0
     },
     "base_uri": "https://localhost:8080/",
     "height": 37
    },
    "colab_type": "code",
    "executionInfo": {
     "elapsed": 748,
     "status": "ok",
     "timestamp": 1529801129354,
     "user": {
      "displayName": "Gabriel Cesar",
      "photoUrl": "//lh6.googleusercontent.com/-p5vDPiaCNfw/AAAAAAAAAAI/AAAAAAAAABs/bf-pbMKqe5c/s50-c-k-no/photo.jpg",
      "userId": "109223051625932368282"
     },
     "user_tz": 180
    },
    "id": "MEUOmmdmEwB4",
    "outputId": "ced2f425-5e70-476e-cb98-17dfbcd74d78"
   },
   "outputs": [],
   "source": [
    "df_job_data.dropna(subset=['SourceName'], inplace = True)"
   ]
  },
  {
   "cell_type": "markdown",
   "metadata": {
    "colab_type": "text",
    "id": "FDBRPSj_EwB8"
   },
   "source": [
    "### Retirando Label"
   ]
  },
  {
   "cell_type": "code",
   "execution_count": 25,
   "metadata": {
    "colab": {
     "autoexec": {
      "startup": false,
      "wait_interval": 0
     },
     "base_uri": "https://localhost:8080/",
     "height": 37
    },
    "colab_type": "code",
    "executionInfo": {
     "elapsed": 789,
     "status": "ok",
     "timestamp": 1529801134604,
     "user": {
      "displayName": "Gabriel Cesar",
      "photoUrl": "//lh6.googleusercontent.com/-p5vDPiaCNfw/AAAAAAAAAAI/AAAAAAAAABs/bf-pbMKqe5c/s50-c-k-no/photo.jpg",
      "userId": "109223051625932368282"
     },
     "user_tz": 180
    },
    "id": "8LftYmQUEwB8",
    "outputId": "c0d28223-86eb-4b0f-889a-c8eceddfe985"
   },
   "outputs": [],
   "source": [
    "y = df_job_data['SalaryNormalized'].values"
   ]
  },
  {
   "cell_type": "code",
   "execution_count": 26,
   "metadata": {
    "colab": {
     "autoexec": {
      "startup": false,
      "wait_interval": 0
     },
     "base_uri": "https://localhost:8080/",
     "height": 34
    },
    "colab_type": "code",
    "executionInfo": {
     "elapsed": 741,
     "status": "ok",
     "timestamp": 1529801137435,
     "user": {
      "displayName": "Gabriel Cesar",
      "photoUrl": "//lh6.googleusercontent.com/-p5vDPiaCNfw/AAAAAAAAAAI/AAAAAAAAABs/bf-pbMKqe5c/s50-c-k-no/photo.jpg",
      "userId": "109223051625932368282"
     },
     "user_tz": 180
    },
    "id": "bHra0m_cEwCA",
    "outputId": "8ef54773-01f3-4faa-a8e4-cae54008bf11"
   },
   "outputs": [
    {
     "data": {
      "text/plain": [
       "array([25000, 30000, 30000, ..., 22800, 22800, 42500])"
      ]
     },
     "execution_count": 26,
     "metadata": {},
     "output_type": "execute_result"
    }
   ],
   "source": [
    "y"
   ]
  },
  {
   "cell_type": "markdown",
   "metadata": {
    "colab_type": "text",
    "id": "ztzrX_FOEwCE"
   },
   "source": [
    "### Retirando IDS"
   ]
  },
  {
   "cell_type": "code",
   "execution_count": 27,
   "metadata": {
    "colab": {
     "autoexec": {
      "startup": false,
      "wait_interval": 0
     },
     "base_uri": "https://localhost:8080/",
     "height": 37
    },
    "colab_type": "code",
    "executionInfo": {
     "elapsed": 820,
     "status": "ok",
     "timestamp": 1529801142077,
     "user": {
      "displayName": "Gabriel Cesar",
      "photoUrl": "//lh6.googleusercontent.com/-p5vDPiaCNfw/AAAAAAAAAAI/AAAAAAAAABs/bf-pbMKqe5c/s50-c-k-no/photo.jpg",
      "userId": "109223051625932368282"
     },
     "user_tz": 180
    },
    "id": "iLsjAp48EwCF",
    "outputId": "cedfc00b-981e-41c6-c794-5c6c0baed4eb"
   },
   "outputs": [],
   "source": [
    "idx_job = df_job_data['Id'].values"
   ]
  },
  {
   "cell_type": "code",
   "execution_count": 28,
   "metadata": {
    "colab": {
     "autoexec": {
      "startup": false,
      "wait_interval": 0
     },
     "base_uri": "https://localhost:8080/",
     "height": 34
    },
    "colab_type": "code",
    "executionInfo": {
     "elapsed": 1004,
     "status": "ok",
     "timestamp": 1529801144276,
     "user": {
      "displayName": "Gabriel Cesar",
      "photoUrl": "//lh6.googleusercontent.com/-p5vDPiaCNfw/AAAAAAAAAAI/AAAAAAAAABs/bf-pbMKqe5c/s50-c-k-no/photo.jpg",
      "userId": "109223051625932368282"
     },
     "user_tz": 180
    },
    "id": "2WC4Yn_-EwCI",
    "outputId": "07086f3f-25a5-4a5e-bb4a-a5b1ef476189"
   },
   "outputs": [
    {
     "data": {
      "text/plain": [
       "array([12612628, 12612830, 12612844, ..., 72705213, 72705216, 72705235])"
      ]
     },
     "execution_count": 28,
     "metadata": {},
     "output_type": "execute_result"
    }
   ],
   "source": [
    "idx_job"
   ]
  },
  {
   "cell_type": "code",
   "execution_count": 29,
   "metadata": {
    "colab": {
     "autoexec": {
      "startup": false,
      "wait_interval": 0
     },
     "base_uri": "https://localhost:8080/",
     "height": 37
    },
    "colab_type": "code",
    "executionInfo": {
     "elapsed": 762,
     "status": "ok",
     "timestamp": 1529801146895,
     "user": {
      "displayName": "Gabriel Cesar",
      "photoUrl": "//lh6.googleusercontent.com/-p5vDPiaCNfw/AAAAAAAAAAI/AAAAAAAAABs/bf-pbMKqe5c/s50-c-k-no/photo.jpg",
      "userId": "109223051625932368282"
     },
     "user_tz": 180
    },
    "id": "QpyY_VXBEwCM",
    "outputId": "e9977d70-2ff9-42e6-c5b3-0a39274c318e"
   },
   "outputs": [],
   "source": [
    "idx_test = df_test_rev1['Id'].values"
   ]
  },
  {
   "cell_type": "code",
   "execution_count": 30,
   "metadata": {
    "colab": {
     "autoexec": {
      "startup": false,
      "wait_interval": 0
     },
     "base_uri": "https://localhost:8080/",
     "height": 34
    },
    "colab_type": "code",
    "executionInfo": {
     "elapsed": 732,
     "status": "ok",
     "timestamp": 1529801149196,
     "user": {
      "displayName": "Gabriel Cesar",
      "photoUrl": "//lh6.googleusercontent.com/-p5vDPiaCNfw/AAAAAAAAAAI/AAAAAAAAABs/bf-pbMKqe5c/s50-c-k-no/photo.jpg",
      "userId": "109223051625932368282"
     },
     "user_tz": 180
    },
    "id": "noj4zYiaEwCT",
    "outputId": "74e041cb-20cc-4c37-8778-c3c51041d3d9"
   },
   "outputs": [
    {
     "data": {
      "text/plain": [
       "array([11888454, 11988350, 12612558, ..., 72705210, 72705214, 72705218])"
      ]
     },
     "execution_count": 30,
     "metadata": {},
     "output_type": "execute_result"
    }
   ],
   "source": [
    "idx_test"
   ]
  },
  {
   "cell_type": "markdown",
   "metadata": {
    "colab_type": "text",
    "id": "slLrezFsEwCZ"
   },
   "source": [
    "### Juntando conteudo"
   ]
  },
  {
   "cell_type": "code",
   "execution_count": 31,
   "metadata": {
    "colab": {
     "autoexec": {
      "startup": false,
      "wait_interval": 0
     },
     "base_uri": "https://localhost:8080/",
     "height": 34
    },
    "colab_type": "code",
    "executionInfo": {
     "elapsed": 765,
     "status": "ok",
     "timestamp": 1529801154922,
     "user": {
      "displayName": "Gabriel Cesar",
      "photoUrl": "//lh6.googleusercontent.com/-p5vDPiaCNfw/AAAAAAAAAAI/AAAAAAAAABs/bf-pbMKqe5c/s50-c-k-no/photo.jpg",
      "userId": "109223051625932368282"
     },
     "user_tz": 180
    },
    "id": "c4kx1jyOEwCa",
    "outputId": "55517387-f516-4921-f719-5cb541f8b58c"
   },
   "outputs": [
    {
     "data": {
      "text/plain": [
       "(244766, 6)"
      ]
     },
     "execution_count": 31,
     "metadata": {},
     "output_type": "execute_result"
    }
   ],
   "source": [
    "df_job_tuple = df_job_data.shape\n",
    "df_job_tuple"
   ]
  },
  {
   "cell_type": "code",
   "execution_count": 32,
   "metadata": {
    "colab": {
     "autoexec": {
      "startup": false,
      "wait_interval": 0
     },
     "base_uri": "https://localhost:8080/",
     "height": 34
    },
    "colab_type": "code",
    "executionInfo": {
     "elapsed": 736,
     "status": "ok",
     "timestamp": 1529801157401,
     "user": {
      "displayName": "Gabriel Cesar",
      "photoUrl": "//lh6.googleusercontent.com/-p5vDPiaCNfw/AAAAAAAAAAI/AAAAAAAAABs/bf-pbMKqe5c/s50-c-k-no/photo.jpg",
      "userId": "109223051625932368282"
     },
     "user_tz": 180
    },
    "id": "pZ2qSLGwEwCf",
    "outputId": "b6916215-2bd4-42fe-dcd1-b37875b26a1e"
   },
   "outputs": [
    {
     "data": {
      "text/plain": [
       "(122463, 5)"
      ]
     },
     "execution_count": 32,
     "metadata": {},
     "output_type": "execute_result"
    }
   ],
   "source": [
    "df_test_tuple = df_test_rev1.shape\n",
    "df_test_tuple"
   ]
  },
  {
   "cell_type": "code",
   "execution_count": 38,
   "metadata": {
    "colab": {
     "autoexec": {
      "startup": false,
      "wait_interval": 0
     },
     "base_uri": "https://localhost:8080/",
     "height": 37
    },
    "colab_type": "code",
    "executionInfo": {
     "elapsed": 755,
     "status": "ok",
     "timestamp": 1529801161403,
     "user": {
      "displayName": "Gabriel Cesar",
      "photoUrl": "//lh6.googleusercontent.com/-p5vDPiaCNfw/AAAAAAAAAAI/AAAAAAAAABs/bf-pbMKqe5c/s50-c-k-no/photo.jpg",
      "userId": "109223051625932368282"
     },
     "user_tz": 180
    },
    "id": "eRG7FgLoEwCl",
    "outputId": "0186aee5-5356-4a00-9be1-55b35d7908e6"
   },
   "outputs": [],
   "source": [
    "df = df_job_data.append(df_test_rev1, sort=False)"
   ]
  },
  {
   "cell_type": "code",
   "execution_count": 45,
   "metadata": {
    "colab": {
     "autoexec": {
      "startup": false,
      "wait_interval": 0
     },
     "base_uri": "https://localhost:8080/",
     "height": 34
    },
    "colab_type": "code",
    "executionInfo": {
     "elapsed": 779,
     "status": "ok",
     "timestamp": 1529801163957,
     "user": {
      "displayName": "Gabriel Cesar",
      "photoUrl": "//lh6.googleusercontent.com/-p5vDPiaCNfw/AAAAAAAAAAI/AAAAAAAAABs/bf-pbMKqe5c/s50-c-k-no/photo.jpg",
      "userId": "109223051625932368282"
     },
     "user_tz": 180
    },
    "id": "c2ZxM7ThEwCo",
    "outputId": "f206b2c9-60b8-4f31-b590-899ab1321e55"
   },
   "outputs": [
    {
     "data": {
      "text/plain": [
       "(367229, 6)"
      ]
     },
     "execution_count": 45,
     "metadata": {},
     "output_type": "execute_result"
    }
   ],
   "source": [
    "df.shape"
   ]
  },
  {
   "cell_type": "markdown",
   "metadata": {
    "colab_type": "text",
    "id": "WUHN-XxLEwCv"
   },
   "source": [
    "#### LocationNormalized"
   ]
  },
  {
   "cell_type": "code",
   "execution_count": 46,
   "metadata": {
    "colab": {
     "autoexec": {
      "startup": false,
      "wait_interval": 0
     },
     "base_uri": "https://localhost:8080/",
     "height": 37
    },
    "colab_type": "code",
    "executionInfo": {
     "elapsed": 3215,
     "status": "ok",
     "timestamp": 1529801169844,
     "user": {
      "displayName": "Gabriel Cesar",
      "photoUrl": "//lh6.googleusercontent.com/-p5vDPiaCNfw/AAAAAAAAAAI/AAAAAAAAABs/bf-pbMKqe5c/s50-c-k-no/photo.jpg",
      "userId": "109223051625932368282"
     },
     "user_tz": 180
    },
    "id": "iQKRzS_DEwCv",
    "outputId": "c008de64-1b60-46e4-8f64-536af8a08e0b"
   },
   "outputs": [],
   "source": [
    "df = normalizeTextField(df, 'LocationNormalized')"
   ]
  },
  {
   "cell_type": "code",
   "execution_count": 47,
   "metadata": {
    "colab": {
     "autoexec": {
      "startup": false,
      "wait_interval": 0
     },
     "base_uri": "https://localhost:8080/",
     "height": 34
    },
    "colab_type": "code",
    "executionInfo": {
     "elapsed": 745,
     "status": "ok",
     "timestamp": 1529801171609,
     "user": {
      "displayName": "Gabriel Cesar",
      "photoUrl": "//lh6.googleusercontent.com/-p5vDPiaCNfw/AAAAAAAAAAI/AAAAAAAAABs/bf-pbMKqe5c/s50-c-k-no/photo.jpg",
      "userId": "109223051625932368282"
     },
     "user_tz": 180
    },
    "id": "q2FnUvsLEwC0",
    "outputId": "cb9bef89-0efd-43f9-88f5-b2a0b1c3eafa"
   },
   "outputs": [
    {
     "data": {
      "text/plain": [
       "(367229, 7)"
      ]
     },
     "execution_count": 47,
     "metadata": {},
     "output_type": "execute_result"
    }
   ],
   "source": [
    "df.shape"
   ]
  },
  {
   "cell_type": "code",
   "execution_count": 48,
   "metadata": {},
   "outputs": [
    {
     "data": {
      "text/html": [
       "<div>\n",
       "<style scoped>\n",
       "    .dataframe tbody tr th:only-of-type {\n",
       "        vertical-align: middle;\n",
       "    }\n",
       "\n",
       "    .dataframe tbody tr th {\n",
       "        vertical-align: top;\n",
       "    }\n",
       "\n",
       "    .dataframe thead th {\n",
       "        text-align: right;\n",
       "    }\n",
       "</style>\n",
       "<table border=\"1\" class=\"dataframe\">\n",
       "  <thead>\n",
       "    <tr style=\"text-align: right;\">\n",
       "      <th></th>\n",
       "      <th>Id</th>\n",
       "      <th>Title</th>\n",
       "      <th>FullDescription</th>\n",
       "      <th>SalaryNormalized</th>\n",
       "      <th>SourceName</th>\n",
       "      <th>LocationNormalized0</th>\n",
       "      <th>LocationNormalized1</th>\n",
       "    </tr>\n",
       "  </thead>\n",
       "  <tbody>\n",
       "    <tr>\n",
       "      <th>0</th>\n",
       "      <td>12612628</td>\n",
       "      <td>Engineering Systems Analyst</td>\n",
       "      <td>Engineering Systems Analyst Dorking Surrey Sal...</td>\n",
       "      <td>25000.0</td>\n",
       "      <td>cv-library.co.uk</td>\n",
       "      <td>-0.116790</td>\n",
       "      <td>-0.229172</td>\n",
       "    </tr>\n",
       "    <tr>\n",
       "      <th>1</th>\n",
       "      <td>12612830</td>\n",
       "      <td>Stress Engineer Glasgow</td>\n",
       "      <td>Stress Engineer Glasgow Salary **** to **** We...</td>\n",
       "      <td>30000.0</td>\n",
       "      <td>cv-library.co.uk</td>\n",
       "      <td>-0.118995</td>\n",
       "      <td>-0.237572</td>\n",
       "    </tr>\n",
       "    <tr>\n",
       "      <th>2</th>\n",
       "      <td>12612844</td>\n",
       "      <td>Modelling and simulation analyst</td>\n",
       "      <td>Mathematical Modeller / Simulation Analyst / O...</td>\n",
       "      <td>30000.0</td>\n",
       "      <td>cv-library.co.uk</td>\n",
       "      <td>-0.120516</td>\n",
       "      <td>-0.241914</td>\n",
       "    </tr>\n",
       "    <tr>\n",
       "      <th>3</th>\n",
       "      <td>12613049</td>\n",
       "      <td>Engineering Systems Analyst / Mathematical Mod...</td>\n",
       "      <td>Engineering Systems Analyst / Mathematical Mod...</td>\n",
       "      <td>27500.0</td>\n",
       "      <td>cv-library.co.uk</td>\n",
       "      <td>-0.122604</td>\n",
       "      <td>-0.249312</td>\n",
       "    </tr>\n",
       "    <tr>\n",
       "      <th>4</th>\n",
       "      <td>12613647</td>\n",
       "      <td>Pioneer, Miser Engineering Systems Analyst</td>\n",
       "      <td>Pioneer, Miser  Engineering Systems Analyst Do...</td>\n",
       "      <td>25000.0</td>\n",
       "      <td>cv-library.co.uk</td>\n",
       "      <td>-0.122604</td>\n",
       "      <td>-0.249312</td>\n",
       "    </tr>\n",
       "  </tbody>\n",
       "</table>\n",
       "</div>"
      ],
      "text/plain": [
       "         Id                                              Title  \\\n",
       "0  12612628                        Engineering Systems Analyst   \n",
       "1  12612830                            Stress Engineer Glasgow   \n",
       "2  12612844                   Modelling and simulation analyst   \n",
       "3  12613049  Engineering Systems Analyst / Mathematical Mod...   \n",
       "4  12613647         Pioneer, Miser Engineering Systems Analyst   \n",
       "\n",
       "                                     FullDescription  SalaryNormalized  \\\n",
       "0  Engineering Systems Analyst Dorking Surrey Sal...           25000.0   \n",
       "1  Stress Engineer Glasgow Salary **** to **** We...           30000.0   \n",
       "2  Mathematical Modeller / Simulation Analyst / O...           30000.0   \n",
       "3  Engineering Systems Analyst / Mathematical Mod...           27500.0   \n",
       "4  Pioneer, Miser  Engineering Systems Analyst Do...           25000.0   \n",
       "\n",
       "         SourceName  LocationNormalized0  LocationNormalized1  \n",
       "0  cv-library.co.uk            -0.116790            -0.229172  \n",
       "1  cv-library.co.uk            -0.118995            -0.237572  \n",
       "2  cv-library.co.uk            -0.120516            -0.241914  \n",
       "3  cv-library.co.uk            -0.122604            -0.249312  \n",
       "4  cv-library.co.uk            -0.122604            -0.249312  "
      ]
     },
     "execution_count": 48,
     "metadata": {},
     "output_type": "execute_result"
    }
   ],
   "source": [
    "df.head()"
   ]
  },
  {
   "cell_type": "markdown",
   "metadata": {
    "colab_type": "text",
    "id": "tL-laH_pEwC-"
   },
   "source": [
    "#### Title"
   ]
  },
  {
   "cell_type": "code",
   "execution_count": 49,
   "metadata": {
    "colab": {
     "autoexec": {
      "startup": false,
      "wait_interval": 0
     },
     "base_uri": "https://localhost:8080/",
     "height": 37
    },
    "colab_type": "code",
    "executionInfo": {
     "elapsed": 4337,
     "status": "ok",
     "timestamp": 1529801179499,
     "user": {
      "displayName": "Gabriel Cesar",
      "photoUrl": "//lh6.googleusercontent.com/-p5vDPiaCNfw/AAAAAAAAAAI/AAAAAAAAABs/bf-pbMKqe5c/s50-c-k-no/photo.jpg",
      "userId": "109223051625932368282"
     },
     "user_tz": 180
    },
    "id": "TpmwNKR_EwC_",
    "outputId": "f83246de-8b37-4d08-8a4b-f69de188cfcc"
   },
   "outputs": [],
   "source": [
    "df = normalizeTextField(df, 'Title')"
   ]
  },
  {
   "cell_type": "code",
   "execution_count": 50,
   "metadata": {
    "colab": {
     "autoexec": {
      "startup": false,
      "wait_interval": 0
     },
     "base_uri": "https://localhost:8080/",
     "height": 34
    },
    "colab_type": "code",
    "executionInfo": {
     "elapsed": 991,
     "status": "ok",
     "timestamp": 1529801182206,
     "user": {
      "displayName": "Gabriel Cesar",
      "photoUrl": "//lh6.googleusercontent.com/-p5vDPiaCNfw/AAAAAAAAAAI/AAAAAAAAABs/bf-pbMKqe5c/s50-c-k-no/photo.jpg",
      "userId": "109223051625932368282"
     },
     "user_tz": 180
    },
    "id": "kB93el4PEwDC",
    "outputId": "223e13d3-1c58-4d59-d82b-8c15f5517cc2"
   },
   "outputs": [
    {
     "data": {
      "text/plain": [
       "(367229, 8)"
      ]
     },
     "execution_count": 50,
     "metadata": {},
     "output_type": "execute_result"
    }
   ],
   "source": [
    "df.shape"
   ]
  },
  {
   "cell_type": "code",
   "execution_count": 51,
   "metadata": {},
   "outputs": [
    {
     "data": {
      "text/html": [
       "<div>\n",
       "<style scoped>\n",
       "    .dataframe tbody tr th:only-of-type {\n",
       "        vertical-align: middle;\n",
       "    }\n",
       "\n",
       "    .dataframe tbody tr th {\n",
       "        vertical-align: top;\n",
       "    }\n",
       "\n",
       "    .dataframe thead th {\n",
       "        text-align: right;\n",
       "    }\n",
       "</style>\n",
       "<table border=\"1\" class=\"dataframe\">\n",
       "  <thead>\n",
       "    <tr style=\"text-align: right;\">\n",
       "      <th></th>\n",
       "      <th>Id</th>\n",
       "      <th>FullDescription</th>\n",
       "      <th>SalaryNormalized</th>\n",
       "      <th>SourceName</th>\n",
       "      <th>LocationNormalized0</th>\n",
       "      <th>LocationNormalized1</th>\n",
       "      <th>Title0</th>\n",
       "      <th>Title1</th>\n",
       "    </tr>\n",
       "  </thead>\n",
       "  <tbody>\n",
       "    <tr>\n",
       "      <th>0</th>\n",
       "      <td>12612628</td>\n",
       "      <td>Engineering Systems Analyst Dorking Surrey Sal...</td>\n",
       "      <td>25000.0</td>\n",
       "      <td>cv-library.co.uk</td>\n",
       "      <td>-0.116790</td>\n",
       "      <td>-0.229172</td>\n",
       "      <td>-0.211711</td>\n",
       "      <td>0.010125</td>\n",
       "    </tr>\n",
       "    <tr>\n",
       "      <th>1</th>\n",
       "      <td>12612830</td>\n",
       "      <td>Stress Engineer Glasgow Salary **** to **** We...</td>\n",
       "      <td>30000.0</td>\n",
       "      <td>cv-library.co.uk</td>\n",
       "      <td>-0.118995</td>\n",
       "      <td>-0.237572</td>\n",
       "      <td>-0.379567</td>\n",
       "      <td>-0.578679</td>\n",
       "    </tr>\n",
       "    <tr>\n",
       "      <th>2</th>\n",
       "      <td>12612844</td>\n",
       "      <td>Mathematical Modeller / Simulation Analyst / O...</td>\n",
       "      <td>30000.0</td>\n",
       "      <td>cv-library.co.uk</td>\n",
       "      <td>-0.120516</td>\n",
       "      <td>-0.241914</td>\n",
       "      <td>-0.204023</td>\n",
       "      <td>0.064291</td>\n",
       "    </tr>\n",
       "    <tr>\n",
       "      <th>3</th>\n",
       "      <td>12613049</td>\n",
       "      <td>Engineering Systems Analyst / Mathematical Mod...</td>\n",
       "      <td>27500.0</td>\n",
       "      <td>cv-library.co.uk</td>\n",
       "      <td>-0.122604</td>\n",
       "      <td>-0.249312</td>\n",
       "      <td>-0.211711</td>\n",
       "      <td>0.010125</td>\n",
       "    </tr>\n",
       "    <tr>\n",
       "      <th>4</th>\n",
       "      <td>12613647</td>\n",
       "      <td>Pioneer, Miser  Engineering Systems Analyst Do...</td>\n",
       "      <td>25000.0</td>\n",
       "      <td>cv-library.co.uk</td>\n",
       "      <td>-0.122604</td>\n",
       "      <td>-0.249312</td>\n",
       "      <td>-0.211711</td>\n",
       "      <td>0.010125</td>\n",
       "    </tr>\n",
       "  </tbody>\n",
       "</table>\n",
       "</div>"
      ],
      "text/plain": [
       "         Id                                    FullDescription  \\\n",
       "0  12612628  Engineering Systems Analyst Dorking Surrey Sal...   \n",
       "1  12612830  Stress Engineer Glasgow Salary **** to **** We...   \n",
       "2  12612844  Mathematical Modeller / Simulation Analyst / O...   \n",
       "3  12613049  Engineering Systems Analyst / Mathematical Mod...   \n",
       "4  12613647  Pioneer, Miser  Engineering Systems Analyst Do...   \n",
       "\n",
       "   SalaryNormalized        SourceName  LocationNormalized0  \\\n",
       "0           25000.0  cv-library.co.uk            -0.116790   \n",
       "1           30000.0  cv-library.co.uk            -0.118995   \n",
       "2           30000.0  cv-library.co.uk            -0.120516   \n",
       "3           27500.0  cv-library.co.uk            -0.122604   \n",
       "4           25000.0  cv-library.co.uk            -0.122604   \n",
       "\n",
       "   LocationNormalized1    Title0    Title1  \n",
       "0            -0.229172 -0.211711  0.010125  \n",
       "1            -0.237572 -0.379567 -0.578679  \n",
       "2            -0.241914 -0.204023  0.064291  \n",
       "3            -0.249312 -0.211711  0.010125  \n",
       "4            -0.249312 -0.211711  0.010125  "
      ]
     },
     "execution_count": 51,
     "metadata": {},
     "output_type": "execute_result"
    }
   ],
   "source": [
    "df.head()"
   ]
  },
  {
   "cell_type": "markdown",
   "metadata": {
    "colab_type": "text",
    "id": "xDIMGEN7EwDG"
   },
   "source": [
    "#### Full Description"
   ]
  },
  {
   "cell_type": "code",
   "execution_count": 52,
   "metadata": {
    "colab": {
     "autoexec": {
      "startup": false,
      "wait_interval": 0
     },
     "base_uri": "https://localhost:8080/",
     "height": 37
    },
    "colab_type": "code",
    "executionInfo": {
     "elapsed": 68085,
     "status": "ok",
     "timestamp": 1529801253123,
     "user": {
      "displayName": "Gabriel Cesar",
      "photoUrl": "//lh6.googleusercontent.com/-p5vDPiaCNfw/AAAAAAAAAAI/AAAAAAAAABs/bf-pbMKqe5c/s50-c-k-no/photo.jpg",
      "userId": "109223051625932368282"
     },
     "user_tz": 180
    },
    "id": "nDp6SmCVEwDG",
    "outputId": "e6f242f1-591f-47f1-8454-d2e2eb75ee00"
   },
   "outputs": [],
   "source": [
    "df = normalizeTextField(df, 'FullDescription')"
   ]
  },
  {
   "cell_type": "code",
   "execution_count": 53,
   "metadata": {
    "colab": {
     "autoexec": {
      "startup": false,
      "wait_interval": 0
     },
     "base_uri": "https://localhost:8080/",
     "height": 34
    },
    "colab_type": "code",
    "executionInfo": {
     "elapsed": 2471,
     "status": "ok",
     "timestamp": 1529801284445,
     "user": {
      "displayName": "Gabriel Cesar",
      "photoUrl": "//lh6.googleusercontent.com/-p5vDPiaCNfw/AAAAAAAAAAI/AAAAAAAAABs/bf-pbMKqe5c/s50-c-k-no/photo.jpg",
      "userId": "109223051625932368282"
     },
     "user_tz": 180
    },
    "id": "jOBnnMV8EwDK",
    "outputId": "a027949e-77b5-4018-9e74-15a7a3dddfda"
   },
   "outputs": [
    {
     "data": {
      "text/plain": [
       "(367229, 9)"
      ]
     },
     "execution_count": 53,
     "metadata": {},
     "output_type": "execute_result"
    }
   ],
   "source": [
    "df.shape"
   ]
  },
  {
   "cell_type": "code",
   "execution_count": 54,
   "metadata": {},
   "outputs": [
    {
     "data": {
      "text/html": [
       "<div>\n",
       "<style scoped>\n",
       "    .dataframe tbody tr th:only-of-type {\n",
       "        vertical-align: middle;\n",
       "    }\n",
       "\n",
       "    .dataframe tbody tr th {\n",
       "        vertical-align: top;\n",
       "    }\n",
       "\n",
       "    .dataframe thead th {\n",
       "        text-align: right;\n",
       "    }\n",
       "</style>\n",
       "<table border=\"1\" class=\"dataframe\">\n",
       "  <thead>\n",
       "    <tr style=\"text-align: right;\">\n",
       "      <th></th>\n",
       "      <th>Id</th>\n",
       "      <th>SalaryNormalized</th>\n",
       "      <th>SourceName</th>\n",
       "      <th>LocationNormalized0</th>\n",
       "      <th>LocationNormalized1</th>\n",
       "      <th>Title0</th>\n",
       "      <th>Title1</th>\n",
       "      <th>FullDescription0</th>\n",
       "      <th>FullDescription1</th>\n",
       "    </tr>\n",
       "  </thead>\n",
       "  <tbody>\n",
       "    <tr>\n",
       "      <th>0</th>\n",
       "      <td>12612628</td>\n",
       "      <td>25000.0</td>\n",
       "      <td>cv-library.co.uk</td>\n",
       "      <td>-0.116790</td>\n",
       "      <td>-0.229172</td>\n",
       "      <td>-0.211711</td>\n",
       "      <td>0.010125</td>\n",
       "      <td>-18.530014</td>\n",
       "      <td>2.881801</td>\n",
       "    </tr>\n",
       "    <tr>\n",
       "      <th>1</th>\n",
       "      <td>12612830</td>\n",
       "      <td>30000.0</td>\n",
       "      <td>cv-library.co.uk</td>\n",
       "      <td>-0.118995</td>\n",
       "      <td>-0.237572</td>\n",
       "      <td>-0.379567</td>\n",
       "      <td>-0.578679</td>\n",
       "      <td>1.115408</td>\n",
       "      <td>-2.899838</td>\n",
       "    </tr>\n",
       "    <tr>\n",
       "      <th>2</th>\n",
       "      <td>12612844</td>\n",
       "      <td>30000.0</td>\n",
       "      <td>cv-library.co.uk</td>\n",
       "      <td>-0.120516</td>\n",
       "      <td>-0.241914</td>\n",
       "      <td>-0.204023</td>\n",
       "      <td>0.064291</td>\n",
       "      <td>-1.111251</td>\n",
       "      <td>2.198476</td>\n",
       "    </tr>\n",
       "    <tr>\n",
       "      <th>3</th>\n",
       "      <td>12613049</td>\n",
       "      <td>27500.0</td>\n",
       "      <td>cv-library.co.uk</td>\n",
       "      <td>-0.122604</td>\n",
       "      <td>-0.249312</td>\n",
       "      <td>-0.211711</td>\n",
       "      <td>0.010125</td>\n",
       "      <td>-18.890457</td>\n",
       "      <td>3.393422</td>\n",
       "    </tr>\n",
       "    <tr>\n",
       "      <th>4</th>\n",
       "      <td>12613647</td>\n",
       "      <td>25000.0</td>\n",
       "      <td>cv-library.co.uk</td>\n",
       "      <td>-0.122604</td>\n",
       "      <td>-0.249312</td>\n",
       "      <td>-0.211711</td>\n",
       "      <td>0.010125</td>\n",
       "      <td>-19.451188</td>\n",
       "      <td>2.751042</td>\n",
       "    </tr>\n",
       "  </tbody>\n",
       "</table>\n",
       "</div>"
      ],
      "text/plain": [
       "         Id  SalaryNormalized        SourceName  LocationNormalized0  \\\n",
       "0  12612628           25000.0  cv-library.co.uk            -0.116790   \n",
       "1  12612830           30000.0  cv-library.co.uk            -0.118995   \n",
       "2  12612844           30000.0  cv-library.co.uk            -0.120516   \n",
       "3  12613049           27500.0  cv-library.co.uk            -0.122604   \n",
       "4  12613647           25000.0  cv-library.co.uk            -0.122604   \n",
       "\n",
       "   LocationNormalized1    Title0    Title1  FullDescription0  FullDescription1  \n",
       "0            -0.229172 -0.211711  0.010125        -18.530014          2.881801  \n",
       "1            -0.237572 -0.379567 -0.578679          1.115408         -2.899838  \n",
       "2            -0.241914 -0.204023  0.064291         -1.111251          2.198476  \n",
       "3            -0.249312 -0.211711  0.010125        -18.890457          3.393422  \n",
       "4            -0.249312 -0.211711  0.010125        -19.451188          2.751042  "
      ]
     },
     "execution_count": 54,
     "metadata": {},
     "output_type": "execute_result"
    }
   ],
   "source": [
    "df.head()"
   ]
  },
  {
   "cell_type": "markdown",
   "metadata": {
    "colab_type": "text",
    "id": "3UqZ9i79EwDN"
   },
   "source": [
    "#### Source Name"
   ]
  },
  {
   "cell_type": "code",
   "execution_count": 55,
   "metadata": {
    "colab": {
     "autoexec": {
      "startup": false,
      "wait_interval": 0
     },
     "base_uri": "https://localhost:8080/",
     "height": 37
    },
    "colab_type": "code",
    "executionInfo": {
     "elapsed": 819,
     "status": "ok",
     "timestamp": 1529801289739,
     "user": {
      "displayName": "Gabriel Cesar",
      "photoUrl": "//lh6.googleusercontent.com/-p5vDPiaCNfw/AAAAAAAAAAI/AAAAAAAAABs/bf-pbMKqe5c/s50-c-k-no/photo.jpg",
      "userId": "109223051625932368282"
     },
     "user_tz": 180
    },
    "id": "Wakkvtn4EwDV",
    "outputId": "39e2df5b-a80a-4d86-89da-8c83a777754b"
   },
   "outputs": [],
   "source": [
    "_, sources = np.unique(df['SourceName'], return_inverse=True)"
   ]
  },
  {
   "cell_type": "code",
   "execution_count": 56,
   "metadata": {
    "colab": {
     "autoexec": {
      "startup": false,
      "wait_interval": 0
     },
     "base_uri": "https://localhost:8080/",
     "height": 34
    },
    "colab_type": "code",
    "executionInfo": {
     "elapsed": 3545,
     "status": "ok",
     "timestamp": 1529801294803,
     "user": {
      "displayName": "Gabriel Cesar",
      "photoUrl": "//lh6.googleusercontent.com/-p5vDPiaCNfw/AAAAAAAAAAI/AAAAAAAAABs/bf-pbMKqe5c/s50-c-k-no/photo.jpg",
      "userId": "109223051625932368282"
     },
     "user_tz": 180
    },
    "id": "W_FwJ5TYEwDZ",
    "outputId": "486c3805-18bc-40d4-e525-002b70e3453c"
   },
   "outputs": [
    {
     "data": {
      "text/plain": [
       "(367229,)"
      ]
     },
     "execution_count": 56,
     "metadata": {},
     "output_type": "execute_result"
    }
   ],
   "source": [
    "sources.shape"
   ]
  },
  {
   "cell_type": "code",
   "execution_count": 57,
   "metadata": {
    "colab": {
     "autoexec": {
      "startup": false,
      "wait_interval": 0
     },
     "base_uri": "https://localhost:8080/",
     "height": 37
    },
    "colab_type": "code",
    "executionInfo": {
     "elapsed": 4481,
     "status": "ok",
     "timestamp": 1529801299695,
     "user": {
      "displayName": "Gabriel Cesar",
      "photoUrl": "//lh6.googleusercontent.com/-p5vDPiaCNfw/AAAAAAAAAAI/AAAAAAAAABs/bf-pbMKqe5c/s50-c-k-no/photo.jpg",
      "userId": "109223051625932368282"
     },
     "user_tz": 180
    },
    "id": "JN1a4NevEwDj",
    "outputId": "2c7e337a-0f1b-4ec8-cfcd-1f605d426501"
   },
   "outputs": [],
   "source": [
    "df['SourceName'] = sources"
   ]
  },
  {
   "cell_type": "code",
   "execution_count": 58,
   "metadata": {
    "colab": {
     "autoexec": {
      "startup": false,
      "wait_interval": 0
     },
     "base_uri": "https://localhost:8080/",
     "height": 34
    },
    "colab_type": "code",
    "executionInfo": {
     "elapsed": 702,
     "status": "ok",
     "timestamp": 1529801300859,
     "user": {
      "displayName": "Gabriel Cesar",
      "photoUrl": "//lh6.googleusercontent.com/-p5vDPiaCNfw/AAAAAAAAAAI/AAAAAAAAABs/bf-pbMKqe5c/s50-c-k-no/photo.jpg",
      "userId": "109223051625932368282"
     },
     "user_tz": 180
    },
    "id": "BBjy-ZqbEwDo",
    "outputId": "639a972b-b8d7-49e6-e630-f6a234e1cb57"
   },
   "outputs": [
    {
     "data": {
      "text/plain": [
       "(367229, 9)"
      ]
     },
     "execution_count": 58,
     "metadata": {},
     "output_type": "execute_result"
    }
   ],
   "source": [
    "df.shape"
   ]
  },
  {
   "cell_type": "code",
   "execution_count": 59,
   "metadata": {
    "colab": {
     "autoexec": {
      "startup": false,
      "wait_interval": 0
     },
     "base_uri": "https://localhost:8080/",
     "height": 160
    },
    "colab_type": "code",
    "executionInfo": {
     "elapsed": 749,
     "status": "ok",
     "timestamp": 1529801304114,
     "user": {
      "displayName": "Gabriel Cesar",
      "photoUrl": "//lh6.googleusercontent.com/-p5vDPiaCNfw/AAAAAAAAAAI/AAAAAAAAABs/bf-pbMKqe5c/s50-c-k-no/photo.jpg",
      "userId": "109223051625932368282"
     },
     "user_tz": 180
    },
    "id": "CTVv0buBEwDw",
    "outputId": "5b58b9d4-c607-4c6d-a6a4-75a7d04bce92"
   },
   "outputs": [
    {
     "data": {
      "text/html": [
       "<div>\n",
       "<style scoped>\n",
       "    .dataframe tbody tr th:only-of-type {\n",
       "        vertical-align: middle;\n",
       "    }\n",
       "\n",
       "    .dataframe tbody tr th {\n",
       "        vertical-align: top;\n",
       "    }\n",
       "\n",
       "    .dataframe thead th {\n",
       "        text-align: right;\n",
       "    }\n",
       "</style>\n",
       "<table border=\"1\" class=\"dataframe\">\n",
       "  <thead>\n",
       "    <tr style=\"text-align: right;\">\n",
       "      <th></th>\n",
       "      <th>Id</th>\n",
       "      <th>SalaryNormalized</th>\n",
       "      <th>SourceName</th>\n",
       "      <th>LocationNormalized0</th>\n",
       "      <th>LocationNormalized1</th>\n",
       "      <th>Title0</th>\n",
       "      <th>Title1</th>\n",
       "      <th>FullDescription0</th>\n",
       "      <th>FullDescription1</th>\n",
       "    </tr>\n",
       "  </thead>\n",
       "  <tbody>\n",
       "    <tr>\n",
       "      <th>0</th>\n",
       "      <td>12612628</td>\n",
       "      <td>25000.0</td>\n",
       "      <td>42</td>\n",
       "      <td>-0.116790</td>\n",
       "      <td>-0.229172</td>\n",
       "      <td>-0.211711</td>\n",
       "      <td>0.010125</td>\n",
       "      <td>-18.530014</td>\n",
       "      <td>2.881801</td>\n",
       "    </tr>\n",
       "    <tr>\n",
       "      <th>1</th>\n",
       "      <td>12612830</td>\n",
       "      <td>30000.0</td>\n",
       "      <td>42</td>\n",
       "      <td>-0.118995</td>\n",
       "      <td>-0.237572</td>\n",
       "      <td>-0.379567</td>\n",
       "      <td>-0.578679</td>\n",
       "      <td>1.115408</td>\n",
       "      <td>-2.899838</td>\n",
       "    </tr>\n",
       "  </tbody>\n",
       "</table>\n",
       "</div>"
      ],
      "text/plain": [
       "         Id  SalaryNormalized  SourceName  LocationNormalized0  \\\n",
       "0  12612628           25000.0          42            -0.116790   \n",
       "1  12612830           30000.0          42            -0.118995   \n",
       "\n",
       "   LocationNormalized1    Title0    Title1  FullDescription0  FullDescription1  \n",
       "0            -0.229172 -0.211711  0.010125        -18.530014          2.881801  \n",
       "1            -0.237572 -0.379567 -0.578679          1.115408         -2.899838  "
      ]
     },
     "execution_count": 59,
     "metadata": {},
     "output_type": "execute_result"
    }
   ],
   "source": [
    "df.head(n=2)"
   ]
  },
  {
   "cell_type": "code",
   "execution_count": 60,
   "metadata": {
    "colab": {
     "autoexec": {
      "startup": false,
      "wait_interval": 0
     },
     "base_uri": "https://localhost:8080/",
     "height": 160
    },
    "colab_type": "code",
    "executionInfo": {
     "elapsed": 1926,
     "status": "ok",
     "timestamp": 1529801314400,
     "user": {
      "displayName": "Gabriel Cesar",
      "photoUrl": "//lh6.googleusercontent.com/-p5vDPiaCNfw/AAAAAAAAAAI/AAAAAAAAABs/bf-pbMKqe5c/s50-c-k-no/photo.jpg",
      "userId": "109223051625932368282"
     },
     "user_tz": 180
    },
    "id": "QB7-RNIHEwD4",
    "outputId": "1cc11811-1a6a-4572-e7c7-6f37bdef14f9"
   },
   "outputs": [
    {
     "data": {
      "text/html": [
       "<div>\n",
       "<style scoped>\n",
       "    .dataframe tbody tr th:only-of-type {\n",
       "        vertical-align: middle;\n",
       "    }\n",
       "\n",
       "    .dataframe tbody tr th {\n",
       "        vertical-align: top;\n",
       "    }\n",
       "\n",
       "    .dataframe thead th {\n",
       "        text-align: right;\n",
       "    }\n",
       "</style>\n",
       "<table border=\"1\" class=\"dataframe\">\n",
       "  <thead>\n",
       "    <tr style=\"text-align: right;\">\n",
       "      <th></th>\n",
       "      <th>Id</th>\n",
       "      <th>SalaryNormalized</th>\n",
       "      <th>SourceName</th>\n",
       "      <th>LocationNormalized0</th>\n",
       "      <th>LocationNormalized1</th>\n",
       "      <th>Title0</th>\n",
       "      <th>Title1</th>\n",
       "      <th>FullDescription0</th>\n",
       "      <th>FullDescription1</th>\n",
       "    </tr>\n",
       "  </thead>\n",
       "  <tbody>\n",
       "    <tr>\n",
       "      <th>122461</th>\n",
       "      <td>72705214</td>\n",
       "      <td>NaN</td>\n",
       "      <td>64</td>\n",
       "      <td>-0.116790</td>\n",
       "      <td>-0.229172</td>\n",
       "      <td>0.868987</td>\n",
       "      <td>-0.102754</td>\n",
       "      <td>-3.389519</td>\n",
       "      <td>-0.760345</td>\n",
       "    </tr>\n",
       "    <tr>\n",
       "      <th>122462</th>\n",
       "      <td>72705218</td>\n",
       "      <td>NaN</td>\n",
       "      <td>64</td>\n",
       "      <td>-0.118635</td>\n",
       "      <td>-0.235408</td>\n",
       "      <td>-0.168568</td>\n",
       "      <td>0.034971</td>\n",
       "      <td>-13.765711</td>\n",
       "      <td>-0.120908</td>\n",
       "    </tr>\n",
       "  </tbody>\n",
       "</table>\n",
       "</div>"
      ],
      "text/plain": [
       "              Id  SalaryNormalized  SourceName  LocationNormalized0  \\\n",
       "122461  72705214               NaN          64            -0.116790   \n",
       "122462  72705218               NaN          64            -0.118635   \n",
       "\n",
       "        LocationNormalized1    Title0    Title1  FullDescription0  \\\n",
       "122461            -0.229172  0.868987 -0.102754         -3.389519   \n",
       "122462            -0.235408 -0.168568  0.034971        -13.765711   \n",
       "\n",
       "        FullDescription1  \n",
       "122461         -0.760345  \n",
       "122462         -0.120908  "
      ]
     },
     "execution_count": 60,
     "metadata": {},
     "output_type": "execute_result"
    }
   ],
   "source": [
    "df.tail(n=2)"
   ]
  },
  {
   "cell_type": "markdown",
   "metadata": {
    "colab_type": "text",
    "id": "-EhpTVryEwD9"
   },
   "source": [
    "### Separando Train e Test "
   ]
  },
  {
   "cell_type": "code",
   "execution_count": 150,
   "metadata": {},
   "outputs": [],
   "source": [
    "del df['Id']\n",
    "del df['SalaryNormalized']"
   ]
  },
  {
   "cell_type": "code",
   "execution_count": 151,
   "metadata": {
    "colab": {
     "autoexec": {
      "startup": false,
      "wait_interval": 0
     }
    },
    "colab_type": "code",
    "id": "qKGGNDhVVf4B"
   },
   "outputs": [
    {
     "data": {
      "text/html": [
       "<div>\n",
       "<style scoped>\n",
       "    .dataframe tbody tr th:only-of-type {\n",
       "        vertical-align: middle;\n",
       "    }\n",
       "\n",
       "    .dataframe tbody tr th {\n",
       "        vertical-align: top;\n",
       "    }\n",
       "\n",
       "    .dataframe thead th {\n",
       "        text-align: right;\n",
       "    }\n",
       "</style>\n",
       "<table border=\"1\" class=\"dataframe\">\n",
       "  <thead>\n",
       "    <tr style=\"text-align: right;\">\n",
       "      <th></th>\n",
       "      <th>SourceName</th>\n",
       "      <th>LocationNormalized0</th>\n",
       "      <th>LocationNormalized1</th>\n",
       "      <th>Title0</th>\n",
       "      <th>Title1</th>\n",
       "      <th>FullDescription0</th>\n",
       "      <th>FullDescription1</th>\n",
       "    </tr>\n",
       "  </thead>\n",
       "  <tbody>\n",
       "    <tr>\n",
       "      <th>0</th>\n",
       "      <td>42</td>\n",
       "      <td>-0.116790</td>\n",
       "      <td>-0.229172</td>\n",
       "      <td>-0.211711</td>\n",
       "      <td>0.010125</td>\n",
       "      <td>-18.530014</td>\n",
       "      <td>2.881801</td>\n",
       "    </tr>\n",
       "    <tr>\n",
       "      <th>1</th>\n",
       "      <td>42</td>\n",
       "      <td>-0.118995</td>\n",
       "      <td>-0.237572</td>\n",
       "      <td>-0.379567</td>\n",
       "      <td>-0.578679</td>\n",
       "      <td>1.115408</td>\n",
       "      <td>-2.899838</td>\n",
       "    </tr>\n",
       "    <tr>\n",
       "      <th>2</th>\n",
       "      <td>42</td>\n",
       "      <td>-0.120516</td>\n",
       "      <td>-0.241914</td>\n",
       "      <td>-0.204023</td>\n",
       "      <td>0.064291</td>\n",
       "      <td>-1.111251</td>\n",
       "      <td>2.198476</td>\n",
       "    </tr>\n",
       "    <tr>\n",
       "      <th>3</th>\n",
       "      <td>42</td>\n",
       "      <td>-0.122604</td>\n",
       "      <td>-0.249312</td>\n",
       "      <td>-0.211711</td>\n",
       "      <td>0.010125</td>\n",
       "      <td>-18.890457</td>\n",
       "      <td>3.393422</td>\n",
       "    </tr>\n",
       "    <tr>\n",
       "      <th>4</th>\n",
       "      <td>42</td>\n",
       "      <td>-0.122604</td>\n",
       "      <td>-0.249312</td>\n",
       "      <td>-0.211711</td>\n",
       "      <td>0.010125</td>\n",
       "      <td>-19.451188</td>\n",
       "      <td>2.751042</td>\n",
       "    </tr>\n",
       "  </tbody>\n",
       "</table>\n",
       "</div>"
      ],
      "text/plain": [
       "   SourceName  LocationNormalized0  LocationNormalized1    Title0    Title1  \\\n",
       "0          42            -0.116790            -0.229172 -0.211711  0.010125   \n",
       "1          42            -0.118995            -0.237572 -0.379567 -0.578679   \n",
       "2          42            -0.120516            -0.241914 -0.204023  0.064291   \n",
       "3          42            -0.122604            -0.249312 -0.211711  0.010125   \n",
       "4          42            -0.122604            -0.249312 -0.211711  0.010125   \n",
       "\n",
       "   FullDescription0  FullDescription1  \n",
       "0        -18.530014          2.881801  \n",
       "1          1.115408         -2.899838  \n",
       "2         -1.111251          2.198476  \n",
       "3        -18.890457          3.393422  \n",
       "4        -19.451188          2.751042  "
      ]
     },
     "execution_count": 151,
     "metadata": {},
     "output_type": "execute_result"
    }
   ],
   "source": [
    "df.head()"
   ]
  },
  {
   "cell_type": "code",
   "execution_count": 152,
   "metadata": {
    "colab": {
     "autoexec": {
      "startup": false,
      "wait_interval": 0
     },
     "base_uri": "https://localhost:8080/",
     "height": 37
    },
    "colab_type": "code",
    "executionInfo": {
     "elapsed": 1817,
     "status": "ok",
     "timestamp": 1529801321689,
     "user": {
      "displayName": "Gabriel Cesar",
      "photoUrl": "//lh6.googleusercontent.com/-p5vDPiaCNfw/AAAAAAAAAAI/AAAAAAAAABs/bf-pbMKqe5c/s50-c-k-no/photo.jpg",
      "userId": "109223051625932368282"
     },
     "user_tz": 180
    },
    "id": "doodiP6IEwD_",
    "outputId": "c8d75d4e-d9d0-4969-cf45-96d28e9c2b46"
   },
   "outputs": [],
   "source": [
    "X_train = df.values[:df_job_tuple[0], :df_job_tuple[0]]"
   ]
  },
  {
   "cell_type": "code",
   "execution_count": 154,
   "metadata": {
    "colab": {
     "autoexec": {
      "startup": false,
      "wait_interval": 0
     },
     "base_uri": "https://localhost:8080/",
     "height": 37
    },
    "colab_type": "code",
    "executionInfo": {
     "elapsed": 1466,
     "status": "ok",
     "timestamp": 1529801324123,
     "user": {
      "displayName": "Gabriel Cesar",
      "photoUrl": "//lh6.googleusercontent.com/-p5vDPiaCNfw/AAAAAAAAAAI/AAAAAAAAABs/bf-pbMKqe5c/s50-c-k-no/photo.jpg",
      "userId": "109223051625932368282"
     },
     "user_tz": 180
    },
    "id": "2Ryw0iShEwEE",
    "outputId": "5c518610-2da8-4e01-8c86-9def87aa91aa"
   },
   "outputs": [],
   "source": [
    "X_test = df.values[:df_test_tuple[0], :df_test_tuple[0]]"
   ]
  },
  {
   "cell_type": "code",
   "execution_count": 155,
   "metadata": {
    "colab": {
     "autoexec": {
      "startup": false,
      "wait_interval": 0
     },
     "base_uri": "https://localhost:8080/",
     "height": 34
    },
    "colab_type": "code",
    "executionInfo": {
     "elapsed": 728,
     "status": "ok",
     "timestamp": 1529801329170,
     "user": {
      "displayName": "Gabriel Cesar",
      "photoUrl": "//lh6.googleusercontent.com/-p5vDPiaCNfw/AAAAAAAAAAI/AAAAAAAAABs/bf-pbMKqe5c/s50-c-k-no/photo.jpg",
      "userId": "109223051625932368282"
     },
     "user_tz": 180
    },
    "id": "9RLhOM49EwEI",
    "outputId": "e666aaef-3a0e-4ccf-bace-2ad37b65971e"
   },
   "outputs": [
    {
     "data": {
      "text/plain": [
       "((244766, 7), (122463, 7))"
      ]
     },
     "execution_count": 155,
     "metadata": {},
     "output_type": "execute_result"
    }
   ],
   "source": [
    "X_train.shape, X_test.shape"
   ]
  },
  {
   "cell_type": "markdown",
   "metadata": {
    "colab_type": "text",
    "id": "2QZB6KKaEwEM"
   },
   "source": [
    "## Estratificando dados"
   ]
  },
  {
   "cell_type": "code",
   "execution_count": 156,
   "metadata": {
    "colab": {
     "autoexec": {
      "startup": false,
      "wait_interval": 0
     },
     "base_uri": "https://localhost:8080/",
     "height": 37
    },
    "colab_type": "code",
    "executionInfo": {
     "elapsed": 780,
     "status": "ok",
     "timestamp": 1529801336408,
     "user": {
      "displayName": "Gabriel Cesar",
      "photoUrl": "//lh6.googleusercontent.com/-p5vDPiaCNfw/AAAAAAAAAAI/AAAAAAAAABs/bf-pbMKqe5c/s50-c-k-no/photo.jpg",
      "userId": "109223051625932368282"
     },
     "user_tz": 180
    },
    "id": "yl3cggxyEwEN",
    "outputId": "c223576e-ef0a-460a-ed48-dd16d9e76615"
   },
   "outputs": [],
   "source": [
    "scaler = StandardScaler()"
   ]
  },
  {
   "cell_type": "markdown",
   "metadata": {
    "colab_type": "text",
    "id": "btL2O-tJEwEn"
   },
   "source": [
    "## Criando Folds"
   ]
  },
  {
   "cell_type": "code",
   "execution_count": 157,
   "metadata": {
    "colab": {
     "autoexec": {
      "startup": false,
      "wait_interval": 0
     },
     "base_uri": "https://localhost:8080/",
     "height": 37
    },
    "colab_type": "code",
    "executionInfo": {
     "elapsed": 773,
     "status": "ok",
     "timestamp": 1529801345950,
     "user": {
      "displayName": "Gabriel Cesar",
      "photoUrl": "//lh6.googleusercontent.com/-p5vDPiaCNfw/AAAAAAAAAAI/AAAAAAAAABs/bf-pbMKqe5c/s50-c-k-no/photo.jpg",
      "userId": "109223051625932368282"
     },
     "user_tz": 180
    },
    "id": "SLlImgbfEwEo",
    "outputId": "e546ce8e-65e9-4332-df8d-bbe1b14a723e"
   },
   "outputs": [],
   "source": [
    "n_splits = 10\n",
    "kfold = KFold(n_splits=n_splits)"
   ]
  },
  {
   "cell_type": "markdown",
   "metadata": {},
   "source": [
    "## Função para executar modelos"
   ]
  },
  {
   "cell_type": "code",
   "execution_count": 158,
   "metadata": {},
   "outputs": [],
   "source": [
    "def cross_validation(model, X, y):\n",
    "    scoring = [ 'neg_mean_absolute_error', 'neg_mean_squared_error']\n",
    "    pipeline = Pipeline([('transformer', scaler), ('estimator', model)])\n",
    "    \n",
    "    return cross_validate(pipeline, X=X, y=y, cv=kfold, n_jobs=1, verbose=5, scoring=scoring, return_train_score=True)"
   ]
  },
  {
   "cell_type": "markdown",
   "metadata": {
    "colab_type": "text",
    "id": "YfAiDB8dEwEv"
   },
   "source": [
    "## Criando modelos"
   ]
  },
  {
   "cell_type": "code",
   "execution_count": 159,
   "metadata": {
    "colab": {
     "autoexec": {
      "startup": false,
      "wait_interval": 0
     },
     "base_uri": "https://localhost:8080/",
     "height": 37
    },
    "colab_type": "code",
    "executionInfo": {
     "elapsed": 753,
     "status": "ok",
     "timestamp": 1529801353639,
     "user": {
      "displayName": "Gabriel Cesar",
      "photoUrl": "//lh6.googleusercontent.com/-p5vDPiaCNfw/AAAAAAAAAAI/AAAAAAAAABs/bf-pbMKqe5c/s50-c-k-no/photo.jpg",
      "userId": "109223051625932368282"
     },
     "user_tz": 180
    },
    "id": "GwdEADLvEwEw",
    "outputId": "38ba3f27-9e4d-4adf-b0fd-0612650296b4"
   },
   "outputs": [],
   "source": [
    "rf_model = RandomForestRegressor(n_estimators=50, min_samples_split=30, random_state=1)"
   ]
  },
  {
   "cell_type": "code",
   "execution_count": 160,
   "metadata": {
    "colab": {
     "autoexec": {
      "startup": false,
      "wait_interval": 0
     },
     "base_uri": "https://localhost:8080/",
     "height": 37
    },
    "colab_type": "code",
    "executionInfo": {
     "elapsed": 672,
     "status": "ok",
     "timestamp": 1529801355131,
     "user": {
      "displayName": "Gabriel Cesar",
      "photoUrl": "//lh6.googleusercontent.com/-p5vDPiaCNfw/AAAAAAAAAAI/AAAAAAAAABs/bf-pbMKqe5c/s50-c-k-no/photo.jpg",
      "userId": "109223051625932368282"
     },
     "user_tz": 180
    },
    "id": "JEHZ_sfvEwE0",
    "outputId": "cadc9dd1-3a5e-4e30-a4c2-83d40c5cdb36"
   },
   "outputs": [],
   "source": [
    "gb_model = GradientBoostingRegressor(min_samples_split=30, random_state=1)"
   ]
  },
  {
   "cell_type": "code",
   "execution_count": 161,
   "metadata": {
    "colab": {
     "autoexec": {
      "startup": false,
      "wait_interval": 0
     },
     "base_uri": "https://localhost:8080/",
     "height": 37
    },
    "colab_type": "code",
    "executionInfo": {
     "elapsed": 835,
     "status": "ok",
     "timestamp": 1529801356411,
     "user": {
      "displayName": "Gabriel Cesar",
      "photoUrl": "//lh6.googleusercontent.com/-p5vDPiaCNfw/AAAAAAAAAAI/AAAAAAAAABs/bf-pbMKqe5c/s50-c-k-no/photo.jpg",
      "userId": "109223051625932368282"
     },
     "user_tz": 180
    },
    "id": "TD3Ax3vVEwE2",
    "outputId": "0cb801a2-5f25-4de7-9aea-745efecfd6f5"
   },
   "outputs": [],
   "source": [
    "lgr_model = LogisticRegression(random_state=1)"
   ]
  },
  {
   "cell_type": "code",
   "execution_count": 162,
   "metadata": {
    "colab": {
     "autoexec": {
      "startup": false,
      "wait_interval": 0
     },
     "base_uri": "https://localhost:8080/",
     "height": 37
    },
    "colab_type": "code",
    "executionInfo": {
     "elapsed": 1055,
     "status": "ok",
     "timestamp": 1529801357880,
     "user": {
      "displayName": "Gabriel Cesar",
      "photoUrl": "//lh6.googleusercontent.com/-p5vDPiaCNfw/AAAAAAAAAAI/AAAAAAAAABs/bf-pbMKqe5c/s50-c-k-no/photo.jpg",
      "userId": "109223051625932368282"
     },
     "user_tz": 180
    },
    "id": "WvFkxrQsEwE6",
    "outputId": "6f3778eb-e7fc-4f03-fb58-68cf164a6a52"
   },
   "outputs": [],
   "source": [
    "ada_model = AdaBoostRegressor(random_state=1)"
   ]
  },
  {
   "cell_type": "code",
   "execution_count": 163,
   "metadata": {
    "colab": {
     "autoexec": {
      "startup": false,
      "wait_interval": 0
     },
     "base_uri": "https://localhost:8080/",
     "height": 37
    },
    "colab_type": "code",
    "executionInfo": {
     "elapsed": 1476,
     "status": "ok",
     "timestamp": 1529801359857,
     "user": {
      "displayName": "Gabriel Cesar",
      "photoUrl": "//lh6.googleusercontent.com/-p5vDPiaCNfw/AAAAAAAAAAI/AAAAAAAAABs/bf-pbMKqe5c/s50-c-k-no/photo.jpg",
      "userId": "109223051625932368282"
     },
     "user_tz": 180
    },
    "id": "KtNyotnoEwE9",
    "outputId": "8d3f5269-5f05-4dfc-9fd4-5718ca61f69a"
   },
   "outputs": [],
   "source": [
    "knn_model = KNeighborsRegressor()"
   ]
  },
  {
   "cell_type": "markdown",
   "metadata": {
    "colab_type": "text",
    "id": "p4gR0Ps9EwFH"
   },
   "source": [
    "## Treinamento"
   ]
  },
  {
   "cell_type": "markdown",
   "metadata": {},
   "source": [
    "### KNN"
   ]
  },
  {
   "cell_type": "code",
   "execution_count": 174,
   "metadata": {
    "colab": {
     "autoexec": {
      "startup": false,
      "wait_interval": 0
     }
    },
    "colab_type": "code",
    "id": "3EU7lJjeAm3G"
   },
   "outputs": [
    {
     "name": "stdout",
     "output_type": "stream",
     "text": [
      "[CV]  ................................................................\n",
      "[CV]  , neg_mean_absolute_error=-12733.64104261143, neg_mean_squared_error=-307943906.0020215, total=   8.7s\n",
      "[CV]  ................................................................\n"
     ]
    },
    {
     "name": "stderr",
     "output_type": "stream",
     "text": [
      "[Parallel(n_jobs=1)]: Done   1 out of   1 | elapsed:   51.5s remaining:    0.0s\n"
     ]
    },
    {
     "name": "stdout",
     "output_type": "stream",
     "text": [
      "[CV]  , neg_mean_absolute_error=-13537.325007149568, neg_mean_squared_error=-331869801.1730604, total=   5.8s\n",
      "[CV]  ................................................................\n"
     ]
    },
    {
     "name": "stderr",
     "output_type": "stream",
     "text": [
      "[Parallel(n_jobs=1)]: Done   2 out of   2 | elapsed:  1.6min remaining:    0.0s\n"
     ]
    },
    {
     "name": "stdout",
     "output_type": "stream",
     "text": [
      "[CV]  , neg_mean_absolute_error=-13820.028255096622, neg_mean_squared_error=-325121743.29920167, total=   4.8s\n",
      "[CV]  ................................................................\n"
     ]
    },
    {
     "name": "stderr",
     "output_type": "stream",
     "text": [
      "[Parallel(n_jobs=1)]: Done   3 out of   3 | elapsed:  2.3min remaining:    0.0s\n"
     ]
    },
    {
     "name": "stdout",
     "output_type": "stream",
     "text": [
      "[CV]  , neg_mean_absolute_error=-13511.166180495977, neg_mean_squared_error=-325750042.36574256, total=   5.5s\n",
      "[CV]  ................................................................\n"
     ]
    },
    {
     "name": "stderr",
     "output_type": "stream",
     "text": [
      "[Parallel(n_jobs=1)]: Done   4 out of   4 | elapsed:  3.0min remaining:    0.0s\n"
     ]
    },
    {
     "name": "stdout",
     "output_type": "stream",
     "text": [
      "[CV]  , neg_mean_absolute_error=-13446.533063692445, neg_mean_squared_error=-326687714.3590391, total=   5.4s\n",
      "[CV]  ................................................................\n",
      "[CV]  , neg_mean_absolute_error=-13315.152780160968, neg_mean_squared_error=-326429621.8620077, total=   5.9s\n",
      "[CV]  ................................................................\n",
      "[CV]  , neg_mean_absolute_error=-13295.320975649618, neg_mean_squared_error=-324666501.2103073, total=   5.6s\n",
      "[CV]  ................................................................\n",
      "[CV]  , neg_mean_absolute_error=-13573.228051969276, neg_mean_squared_error=-336299433.247127, total=   5.3s\n",
      "[CV]  ................................................................\n",
      "[CV]  , neg_mean_absolute_error=-13662.834343847033, neg_mean_squared_error=-331905233.28483576, total=   5.1s\n",
      "[CV]  ................................................................\n",
      "[CV]  , neg_mean_absolute_error=-13516.282464454976, neg_mean_squared_error=-331258782.8601537, total=   5.4s\n"
     ]
    },
    {
     "name": "stderr",
     "output_type": "stream",
     "text": [
      "[Parallel(n_jobs=1)]: Done  10 out of  10 | elapsed:  7.3min finished\n"
     ]
    },
    {
     "data": {
      "text/plain": [
       "{'fit_time': array([1.38229799, 0.85033631, 0.83714104, 0.8260119 , 0.80018258,\n",
       "        0.92071152, 0.93332052, 0.85319853, 0.81079412, 0.84515548]),\n",
       " 'score_time': array([7.34822392, 4.99898529, 3.96101522, 4.67936158, 4.59908962,\n",
       "        4.99185944, 4.67876554, 4.40313911, 4.32390618, 4.59865427]),\n",
       " 'test_neg_mean_absolute_error': array([-12733.64104261, -13537.32500715, -13820.0282551 , -13511.1661805 ,\n",
       "        -13446.53306369, -13315.15278016, -13295.32097565, -13573.22805197,\n",
       "        -13662.83434385, -13516.28246445]),\n",
       " 'train_neg_mean_absolute_error': array([-10929.33158079, -10831.40853061, -10820.82836819, -10827.4884075 ,\n",
       "        -10837.17296188, -10844.06816409, -10859.00943756, -10821.21451814,\n",
       "        -10813.06045032, -10824.33693677]),\n",
       " 'test_neg_mean_squared_error': array([-3.07943906e+08, -3.31869801e+08, -3.25121743e+08, -3.25750042e+08,\n",
       "        -3.26687714e+08, -3.26429622e+08, -3.24666501e+08, -3.36299433e+08,\n",
       "        -3.31905233e+08, -3.31258783e+08]),\n",
       " 'train_neg_mean_squared_error': array([-2.15412045e+08, -2.13407721e+08, -2.13710539e+08, -2.13272191e+08,\n",
       "        -2.13446705e+08, -2.13169274e+08, -2.13845959e+08, -2.12905080e+08,\n",
       "        -2.13074077e+08, -2.13146725e+08])}"
      ]
     },
     "execution_count": 174,
     "metadata": {},
     "output_type": "execute_result"
    }
   ],
   "source": [
    "cv_knn = cross_validation(model=knn_model, X=X_train, y=y)\n",
    "cv_knn"
   ]
  },
  {
   "cell_type": "markdown",
   "metadata": {},
   "source": [
    "### ADA"
   ]
  },
  {
   "cell_type": "code",
   "execution_count": 175,
   "metadata": {
    "colab": {
     "autoexec": {
      "startup": false,
      "wait_interval": 0
     }
    },
    "colab_type": "code",
    "id": "W_R1eykiEwFO"
   },
   "outputs": [
    {
     "name": "stdout",
     "output_type": "stream",
     "text": [
      "[CV]  ................................................................\n",
      "[CV]  , neg_mean_absolute_error=-17329.61162205793, neg_mean_squared_error=-406408496.5251206, total=   9.3s\n",
      "[CV]  ................................................................\n"
     ]
    },
    {
     "name": "stderr",
     "output_type": "stream",
     "text": [
      "[Parallel(n_jobs=1)]: Done   1 out of   1 | elapsed:    9.9s remaining:    0.0s\n"
     ]
    },
    {
     "name": "stdout",
     "output_type": "stream",
     "text": [
      "[CV]  , neg_mean_absolute_error=-17831.891197009496, neg_mean_squared_error=-431803548.2915109, total=  11.1s\n",
      "[CV]  ................................................................\n"
     ]
    },
    {
     "name": "stderr",
     "output_type": "stream",
     "text": [
      "[Parallel(n_jobs=1)]: Done   2 out of   2 | elapsed:   21.8s remaining:    0.0s\n"
     ]
    },
    {
     "name": "stdout",
     "output_type": "stream",
     "text": [
      "[CV]  , neg_mean_absolute_error=-14536.257642826653, neg_mean_squared_error=-306124162.3752512, total=   6.5s\n",
      "[CV]  ................................................................\n"
     ]
    },
    {
     "name": "stderr",
     "output_type": "stream",
     "text": [
      "[Parallel(n_jobs=1)]: Done   3 out of   3 | elapsed:   28.8s remaining:    0.0s\n"
     ]
    },
    {
     "name": "stdout",
     "output_type": "stream",
     "text": [
      "[CV]  , neg_mean_absolute_error=-14216.09692198184, neg_mean_squared_error=-306231680.13089, total=   5.5s\n",
      "[CV]  ................................................................\n"
     ]
    },
    {
     "name": "stderr",
     "output_type": "stream",
     "text": [
      "[Parallel(n_jobs=1)]: Done   4 out of   4 | elapsed:   34.6s remaining:    0.0s\n"
     ]
    },
    {
     "name": "stdout",
     "output_type": "stream",
     "text": [
      "[CV]  , neg_mean_absolute_error=-14141.235030478612, neg_mean_squared_error=-304483101.4509801, total=   7.3s\n",
      "[CV]  ................................................................\n",
      "[CV]  , neg_mean_absolute_error=-14210.360811278259, neg_mean_squared_error=-308934397.8279484, total=   6.6s\n",
      "[CV]  ................................................................\n",
      "[CV]  , neg_mean_absolute_error=-13765.519680757305, neg_mean_squared_error=-293585642.544772, total=   5.0s\n",
      "[CV]  ................................................................\n",
      "[CV]  , neg_mean_absolute_error=-14486.368063944072, neg_mean_squared_error=-319019650.3453199, total=   7.5s\n",
      "[CV]  ................................................................\n",
      "[CV]  , neg_mean_absolute_error=-14104.098581094147, neg_mean_squared_error=-304453196.59844565, total=   5.1s\n",
      "[CV]  ................................................................\n",
      "[CV]  , neg_mean_absolute_error=-14127.456515985272, neg_mean_squared_error=-308041234.94734216, total=   6.0s\n"
     ]
    },
    {
     "name": "stderr",
     "output_type": "stream",
     "text": [
      "[Parallel(n_jobs=1)]: Done  10 out of  10 | elapsed:  1.2min finished\n"
     ]
    },
    {
     "data": {
      "text/plain": [
       "{'fit_time': array([ 9.27835393, 11.04466414,  6.48367429,  5.50058055,  7.21869135,\n",
       "         6.50926232,  4.98939395,  7.41086197,  5.04104948,  5.96006632]),\n",
       " 'score_time': array([0.06127882, 0.08084559, 0.04047608, 0.03484178, 0.04428959,\n",
       "        0.04147696, 0.03230834, 0.0484705 , 0.03206539, 0.03724194]),\n",
       " 'test_neg_mean_absolute_error': array([-17329.61162206, -17831.89119701, -14536.25764283, -14216.09692198,\n",
       "        -14141.23503048, -14210.36081128, -13765.51968076, -14486.36806394,\n",
       "        -14104.09858109, -14127.45651599]),\n",
       " 'train_neg_mean_absolute_error': array([-16555.64898307, -17857.2183484 , -14418.23666158, -13949.5311151 ,\n",
       "        -14098.83491127, -14252.95978534, -13985.97304756, -14341.66685935,\n",
       "        -14009.32454021, -13991.02832823]),\n",
       " 'test_neg_mean_squared_error': array([-4.06408497e+08, -4.31803548e+08, -3.06124162e+08, -3.06231680e+08,\n",
       "        -3.04483101e+08, -3.08934398e+08, -2.93585643e+08, -3.19019650e+08,\n",
       "        -3.04453197e+08, -3.08041235e+08]),\n",
       " 'train_neg_mean_squared_error': array([-3.81008851e+08, -4.31799038e+08, -3.12214847e+08, -3.00065171e+08,\n",
       "        -3.02536098e+08, -3.07406854e+08, -2.99120083e+08, -3.10962251e+08,\n",
       "        -3.00985689e+08, -2.99966278e+08])}"
      ]
     },
     "execution_count": 175,
     "metadata": {},
     "output_type": "execute_result"
    }
   ],
   "source": [
    "cv_ada = cross_validation(model=ada_model, X=X_train, y=y)\n",
    "cv_ada"
   ]
  },
  {
   "cell_type": "markdown",
   "metadata": {},
   "source": [
    "### Gradient Boosting"
   ]
  },
  {
   "cell_type": "code",
   "execution_count": 176,
   "metadata": {
    "colab": {
     "autoexec": {
      "startup": false,
      "wait_interval": 0
     },
     "base_uri": "https://localhost:8080/",
     "height": 1866
    },
    "colab_type": "code",
    "executionInfo": {
     "elapsed": 620046,
     "status": "error",
     "timestamp": 1527489481723,
     "user": {
      "displayName": "Gabriel Cesar",
      "photoUrl": "//lh6.googleusercontent.com/-p5vDPiaCNfw/AAAAAAAAAAI/AAAAAAAAABs/bf-pbMKqe5c/s50-c-k-no/photo.jpg",
      "userId": "109223051625932368282"
     },
     "user_tz": 180
    },
    "id": "2IRh66SLAgbA",
    "outputId": "dce47b87-c196-4d84-d65c-e12a64a195db"
   },
   "outputs": [
    {
     "name": "stdout",
     "output_type": "stream",
     "text": [
      "[CV]  ................................................................\n",
      "[CV]  , neg_mean_absolute_error=-11103.428348327567, neg_mean_squared_error=-235727362.57104668, total=  24.4s\n",
      "[CV]  ................................................................\n"
     ]
    },
    {
     "name": "stderr",
     "output_type": "stream",
     "text": [
      "[Parallel(n_jobs=1)]: Done   1 out of   1 | elapsed:   25.1s remaining:    0.0s\n"
     ]
    },
    {
     "name": "stdout",
     "output_type": "stream",
     "text": [
      "[CV]  , neg_mean_absolute_error=-11764.01484388264, neg_mean_squared_error=-252027212.83401963, total=  23.7s\n",
      "[CV]  ................................................................\n"
     ]
    },
    {
     "name": "stderr",
     "output_type": "stream",
     "text": [
      "[Parallel(n_jobs=1)]: Done   2 out of   2 | elapsed:   49.4s remaining:    0.0s\n"
     ]
    },
    {
     "name": "stdout",
     "output_type": "stream",
     "text": [
      "[CV]  , neg_mean_absolute_error=-12071.558423036431, neg_mean_squared_error=-252010695.6776696, total=  24.5s\n",
      "[CV]  ................................................................\n"
     ]
    },
    {
     "name": "stderr",
     "output_type": "stream",
     "text": [
      "[Parallel(n_jobs=1)]: Done   3 out of   3 | elapsed:  1.2min remaining:    0.0s\n"
     ]
    },
    {
     "name": "stdout",
     "output_type": "stream",
     "text": [
      "[CV]  , neg_mean_absolute_error=-11696.462284706546, neg_mean_squared_error=-249974864.99507242, total=  24.0s\n",
      "[CV]  ................................................................\n"
     ]
    },
    {
     "name": "stderr",
     "output_type": "stream",
     "text": [
      "[Parallel(n_jobs=1)]: Done   4 out of   4 | elapsed:  1.7min remaining:    0.0s\n"
     ]
    },
    {
     "name": "stdout",
     "output_type": "stream",
     "text": [
      "[CV]  , neg_mean_absolute_error=-11684.342587998824, neg_mean_squared_error=-250667371.07004234, total=  24.9s\n",
      "[CV]  ................................................................\n",
      "[CV]  , neg_mean_absolute_error=-11396.64044126633, neg_mean_squared_error=-244658255.91327146, total=  23.8s\n",
      "[CV]  ................................................................\n",
      "[CV]  , neg_mean_absolute_error=-11617.342779489149, neg_mean_squared_error=-249437395.17325613, total=  24.4s\n",
      "[CV]  ................................................................\n",
      "[CV]  , neg_mean_absolute_error=-11824.865124412932, neg_mean_squared_error=-256893163.21951717, total=  23.8s\n",
      "[CV]  ................................................................\n",
      "[CV]  , neg_mean_absolute_error=-11853.573757634615, neg_mean_squared_error=-252299507.50623816, total=  24.6s\n",
      "[CV]  ................................................................\n",
      "[CV]  , neg_mean_absolute_error=-12170.125813880111, neg_mean_squared_error=-267176339.0380644, total=  25.4s\n"
     ]
    },
    {
     "name": "stderr",
     "output_type": "stream",
     "text": [
      "[Parallel(n_jobs=1)]: Done  10 out of  10 | elapsed:  4.2min finished\n"
     ]
    },
    {
     "data": {
      "text/plain": [
       "{'fit_time': array([24.34532571, 23.60189414, 24.41157103, 23.94695377, 24.8332665 ,\n",
       "        23.73723745, 24.28669786, 23.72914934, 24.49623656, 25.29009271]),\n",
       " 'score_time': array([0.06644773, 0.06725311, 0.07075977, 0.0655942 , 0.06925273,\n",
       "        0.06957865, 0.06806302, 0.06797767, 0.0685904 , 0.07125211]),\n",
       " 'test_neg_mean_absolute_error': array([-11103.42834833, -11764.01484388, -12071.55842304, -11696.46228471,\n",
       "        -11684.342588  , -11396.64044127, -11617.34277949, -11824.86512441,\n",
       "        -11853.57375763, -12170.12581388]),\n",
       " 'train_neg_mean_absolute_error': array([-11742.27837555, -11649.85522723, -11630.45281123, -11674.13646185,\n",
       "        -11678.89934433, -11730.28971197, -11701.20322227, -11675.6896385 ,\n",
       "        -11690.39968086, -11614.57676922]),\n",
       " 'test_neg_mean_squared_error': array([-2.35727363e+08, -2.52027213e+08, -2.52010696e+08, -2.49974865e+08,\n",
       "        -2.50667371e+08, -2.44658256e+08, -2.49437395e+08, -2.56893163e+08,\n",
       "        -2.52299508e+08, -2.67176339e+08]),\n",
       " 'train_neg_mean_squared_error': array([-2.50486848e+08, -2.48976699e+08, -2.48993167e+08, -2.49532972e+08,\n",
       "        -2.49454718e+08, -2.50839300e+08, -2.50025238e+08, -2.49383120e+08,\n",
       "        -2.50397894e+08, -2.47434713e+08])}"
      ]
     },
     "execution_count": 176,
     "metadata": {},
     "output_type": "execute_result"
    }
   ],
   "source": [
    "cv_gb = cross_validation(model=gb_model, X=X_train, y=y)\n",
    "cv_gb"
   ]
  },
  {
   "cell_type": "markdown",
   "metadata": {},
   "source": [
    "### Random Forest"
   ]
  },
  {
   "cell_type": "code",
   "execution_count": 177,
   "metadata": {
    "colab": {
     "autoexec": {
      "startup": false,
      "wait_interval": 0
     },
     "base_uri": "https://localhost:8080/",
     "height": 442
    },
    "colab_type": "code",
    "executionInfo": {
     "elapsed": 6282845,
     "status": "ok",
     "timestamp": 1527482202118,
     "user": {
      "displayName": "Gabriel Cesar",
      "photoUrl": "//lh6.googleusercontent.com/-p5vDPiaCNfw/AAAAAAAAAAI/AAAAAAAAABs/bf-pbMKqe5c/s50-c-k-no/photo.jpg",
      "userId": "109223051625932368282"
     },
     "user_tz": 180
    },
    "id": "qxLDy6a0EwFI",
    "outputId": "6bd7664a-5ea8-4c8d-ea48-d055e86a75e1"
   },
   "outputs": [
    {
     "name": "stdout",
     "output_type": "stream",
     "text": [
      "[CV]  ................................................................\n",
      "[CV]  , neg_mean_absolute_error=-10877.503380347332, neg_mean_squared_error=-230223446.90212265, total= 1.5min\n",
      "[CV]  ................................................................\n"
     ]
    },
    {
     "name": "stderr",
     "output_type": "stream",
     "text": [
      "[Parallel(n_jobs=1)]: Done   1 out of   1 | elapsed:  1.6min remaining:    0.0s\n"
     ]
    },
    {
     "name": "stdout",
     "output_type": "stream",
     "text": [
      "[CV]  , neg_mean_absolute_error=-11476.277420387503, neg_mean_squared_error=-237524249.61838746, total= 1.5min\n",
      "[CV]  ................................................................\n"
     ]
    },
    {
     "name": "stderr",
     "output_type": "stream",
     "text": [
      "[Parallel(n_jobs=1)]: Done   2 out of   2 | elapsed:  3.3min remaining:    0.0s\n"
     ]
    },
    {
     "name": "stdout",
     "output_type": "stream",
     "text": [
      "[CV]  , neg_mean_absolute_error=-12013.191263039213, neg_mean_squared_error=-250168156.26033938, total= 1.5min\n",
      "[CV]  ................................................................\n"
     ]
    },
    {
     "name": "stderr",
     "output_type": "stream",
     "text": [
      "[Parallel(n_jobs=1)]: Done   3 out of   3 | elapsed:  4.9min remaining:    0.0s\n"
     ]
    },
    {
     "name": "stdout",
     "output_type": "stream",
     "text": [
      "[CV]  , neg_mean_absolute_error=-11552.737114350337, neg_mean_squared_error=-245255634.9223653, total= 1.5min\n",
      "[CV]  ................................................................\n"
     ]
    },
    {
     "name": "stderr",
     "output_type": "stream",
     "text": [
      "[Parallel(n_jobs=1)]: Done   4 out of   4 | elapsed:  6.5min remaining:    0.0s\n"
     ]
    },
    {
     "name": "stdout",
     "output_type": "stream",
     "text": [
      "[CV]  , neg_mean_absolute_error=-11361.188738070869, neg_mean_squared_error=-236623800.3453667, total= 1.5min\n",
      "[CV]  ................................................................\n",
      "[CV]  , neg_mean_absolute_error=-11080.206942309804, neg_mean_squared_error=-230333823.08544135, total= 1.5min\n",
      "[CV]  ................................................................\n",
      "[CV]  , neg_mean_absolute_error=-11411.255762304185, neg_mean_squared_error=-240712765.02964288, total= 1.5min\n",
      "[CV]  ................................................................\n",
      "[CV]  , neg_mean_absolute_error=-11544.69617147723, neg_mean_squared_error=-246733282.8710564, total= 1.5min\n",
      "[CV]  ................................................................\n",
      "[CV]  , neg_mean_absolute_error=-11560.640168013115, neg_mean_squared_error=-242315932.7496565, total= 1.5min\n",
      "[CV]  ................................................................\n",
      "[CV]  , neg_mean_absolute_error=-11995.228282612998, neg_mean_squared_error=-258588333.56378478, total= 1.5min\n"
     ]
    },
    {
     "name": "stderr",
     "output_type": "stream",
     "text": [
      "[Parallel(n_jobs=1)]: Done  10 out of  10 | elapsed: 16.2min finished\n"
     ]
    },
    {
     "data": {
      "text/plain": [
       "{'fit_time': array([92.05588675, 90.76209569, 90.65457511, 90.51180816, 92.24868631,\n",
       "        90.52988768, 91.44932055, 90.99893904, 89.74034119, 92.15906477]),\n",
       " 'score_time': array([0.6005044 , 0.61848903, 0.65210533, 0.6102097 , 0.66494894,\n",
       "        0.64939761, 0.61932898, 0.63908172, 0.63714027, 0.61887097]),\n",
       " 'test_neg_mean_absolute_error': array([-10877.50338035, -11476.27742039, -12013.19126304, -11552.73711435,\n",
       "        -11361.18873807, -11080.20694231, -11411.2557623 , -11544.69617148,\n",
       "        -11560.64016801, -11995.22828261]),\n",
       " 'train_neg_mean_absolute_error': array([-9017.1409959 , -8968.36270123, -8908.36588036, -8953.75484995,\n",
       "        -8965.3873861 , -8999.87729123, -8968.29601776, -8944.11550602,\n",
       "        -8949.75831218, -8891.43074246]),\n",
       " 'test_neg_mean_squared_error': array([-2.30223447e+08, -2.37524250e+08, -2.50168156e+08, -2.45255635e+08,\n",
       "        -2.36623800e+08, -2.30333823e+08, -2.40712765e+08, -2.46733283e+08,\n",
       "        -2.42315933e+08, -2.58588334e+08]),\n",
       " 'train_neg_mean_squared_error': array([-1.48827831e+08, -1.48511423e+08, -1.47102003e+08, -1.48053797e+08,\n",
       "        -1.48250152e+08, -1.49025526e+08, -1.48204798e+08, -1.47530123e+08,\n",
       "        -1.47929610e+08, -1.46215480e+08])}"
      ]
     },
     "execution_count": 177,
     "metadata": {},
     "output_type": "execute_result"
    }
   ],
   "source": [
    "cv_rf = cross_validation(model=rf_model, X=X_train, y=y)\n",
    "cv_rf"
   ]
  },
  {
   "cell_type": "markdown",
   "metadata": {},
   "source": [
    "### Logistic Regression"
   ]
  },
  {
   "cell_type": "code",
   "execution_count": null,
   "metadata": {},
   "outputs": [],
   "source": [
    "cv_lgr = cross_validation(model=lgr_model, X=X_train, y=y)\n",
    "cv_lgr"
   ]
  }
 ],
 "metadata": {
  "colab": {
   "collapsed_sections": [
    "OHzogV28EwBJ",
    "SUuskyQsEwBP",
    "TuGX7DRrEwBW",
    "3qa4BYJUEwBb",
    "iILrtpDxEwBi",
    "uIOf83lkEwBm",
    "JeIbKYJCEwBz",
    "FDBRPSj_EwB8",
    "ztzrX_FOEwCE",
    "slLrezFsEwCZ",
    "WUHN-XxLEwCv",
    "tL-laH_pEwC-",
    "xDIMGEN7EwDG",
    "3UqZ9i79EwDN",
    "-EhpTVryEwD9",
    "btL2O-tJEwEn"
   ],
   "default_view": {},
   "name": "Job Salary Prediction.ipynb",
   "provenance": [],
   "version": "0.3.2",
   "views": {}
  },
  "kernelspec": {
   "display_name": "Python 3",
   "language": "python",
   "name": "python3"
  },
  "language_info": {
   "codemirror_mode": {
    "name": "ipython",
    "version": 3
   },
   "file_extension": ".py",
   "mimetype": "text/x-python",
   "name": "python",
   "nbconvert_exporter": "python",
   "pygments_lexer": "ipython3",
   "version": "3.6.5"
  }
 },
 "nbformat": 4,
 "nbformat_minor": 1
}
